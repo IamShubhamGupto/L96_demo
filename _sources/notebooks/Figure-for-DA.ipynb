{
 "cells": [
  {
   "cell_type": "code",
   "execution_count": null,
   "id": "53133bbf",
   "metadata": {},
   "outputs": [],
   "source": [
    "import matplotlib.pyplot as plt\n",
    "import numpy as np"
   ]
  },
  {
   "cell_type": "markdown",
   "id": "9b4eb2e1",
   "metadata": {},
   "source": [
    "This notebook creates an annotated figure of the DA results. IT RELIES on using the \"Goldilocks\" settings (otherwise we have a different solution and the annotations need to be moved)."
   ]
  },
  {
   "cell_type": "code",
   "execution_count": null,
   "id": "74216b0f",
   "metadata": {},
   "outputs": [],
   "source": [
    "np.load(\"increments.npz\").files"
   ]
  },
  {
   "cell_type": "code",
   "execution_count": null,
   "id": "3f0ee34b",
   "metadata": {},
   "outputs": [],
   "source": [
    "t_truth = np.load(\"increments.npz\")[\"t_truth\"]\n",
    "X_truth = np.load(\"increments.npz\")[\"X_truth\"]\n",
    "dt = np.diff(t_truth)[0]\n",
    "t_inc = np.load(\"increments.npz\")[\"t_inc\"]\n",
    "dt_inc = np.diff(t_inc)[0]\n",
    "da_interval = int(dt_inc / dt)\n",
    "ensX = np.load(\"increments.npz\")[\"ensX\"]\n",
    "X_inc = np.load(\"increments.npz\")[\"X_inc\"]\n",
    "X_obs = np.load(\"increments.npz\")[\"X_obs\"]\n",
    "l_obs = np.load(\"increments.npz\")[\"l_obs\"]\n",
    "\n",
    "meanX = ensX.mean(axis=-1)\n",
    "meanXinc = X_inc.mean(axis=-1)"
   ]
  },
  {
   "cell_type": "code",
   "execution_count": null,
   "id": "414f66af",
   "metadata": {},
   "outputs": [],
   "source": [
    "whos"
   ]
  },
  {
   "cell_type": "code",
   "execution_count": null,
   "id": "1bf0c4eb",
   "metadata": {},
   "outputs": [],
   "source": [
    "k = 0\n",
    "nti, K = meanXinc.shape\n",
    "\n",
    "tt = t_truth[:-1].reshape((t_inc.size, da_interval))\n",
    "xx = meanX[:-1].reshape((t_inc.size, da_interval, K))\n",
    "tt = np.column_stack((tt, t_inc))\n",
    "xx = np.append(\n",
    "    xx, (meanX[da_interval::da_interval, :] - meanXinc).reshape((nti, 1, K)), axis=1\n",
    ")\n",
    "tt = np.column_stack((tt, t_inc)).flatten()\n",
    "xx = np.append(\n",
    "    xx, np.nan * meanX[da_interval::da_interval, :].reshape((nti, 1, K)), axis=1\n",
    ")\n",
    "\n",
    "plt.figure(dpi=150)\n",
    "# plt.suptitle('Ensemble mean, k = %i'%(k));\n",
    "plt.plot(t_truth, X_truth[:, k], \"--\", label=\"Truth\")\n",
    "plt.fill_between(\n",
    "    t_truth,\n",
    "    meanX[:, k] - ensX[:, k, :].std(axis=-1),\n",
    "    meanX[:, k] + ensX[:, k, :].std(axis=-1),\n",
    "    color=\"grey\",\n",
    "    alpha=0.2,\n",
    "    label=\"Ens. spread\",\n",
    ")\n",
    "plt.plot(\n",
    "    t_inc,\n",
    "    np.take_along_axis(X_obs, np.argsort(l_obs, axis=1), axis=1)[:, k],\n",
    "    \"*\",\n",
    "    label=\"Observation\",\n",
    ")\n",
    "plt.plot(tt.flatten(), xx[:, :, k].flatten(), \"-\", label=\"Ens. mean\")\n",
    "plt.plot(\n",
    "    t_inc,\n",
    "    meanX[da_interval::da_interval, k] - meanXinc[:, k],\n",
    "    \".\",\n",
    "    label=\"Ens. mean prior\",\n",
    ")\n",
    "plt.plot(t_inc, meanX[da_interval::da_interval, k], \".\", label=\"Ens. mean post\")\n",
    "plt.xlabel(\"Time, t\")\n",
    "plt.ylabel(\"$X(t)$\")\n",
    "plt.legend(loc=\"center right\")\n",
    "plt.xlim(3.9, 4.39)\n",
    "plt.ylim(4, 9)\n",
    "plt.text(\n",
    "    4.04,\n",
    "    8.3,\n",
    "    r\"$\\dot{X}_k=- X_{k-1} \\left( X_{k-2} - X_{k+1} \\right) - X_k + F$\",\n",
    "    ha=\"center\",\n",
    "    va=\"bottom\",\n",
    ")\n",
    "plt.gca().annotate(\n",
    "    \"\",\n",
    "    xytext=(4.04, 8.3),\n",
    "    ha=\"center\",\n",
    "    va=\"bottom\",\n",
    "    xy=(4.13, 7.2),\n",
    "    arrowprops=dict(facecolor=\"black\", shrink=0.05),\n",
    ")\n",
    "plt.text(\n",
    "    4.15,\n",
    "    5.0,\n",
    "    r\"$\\dot{X}_k=- X_{k-1} \\left( X_{k-2} - X_{k+1} \\right) - X_k + F + \\left( \\frac{hc}{b} \\right) \\sum_{j=0}^{J-1} Y_{j,k}$\",\n",
    "    ha=\"center\",\n",
    "    va=\"top\",\n",
    ")\n",
    "plt.gca().annotate(\n",
    "    \"\",\n",
    "    xytext=(4.105, 4.7),\n",
    "    ha=\"center\",\n",
    "    va=\"bottom\",\n",
    "    xy=(4.09, 6.1),\n",
    "    arrowprops=dict(facecolor=\"black\", shrink=0.05),\n",
    ");"
   ]
  },
  {
   "cell_type": "markdown",
   "id": "8ac1f7b4",
   "metadata": {},
   "source": [
    "At the beginning of a forecast segment, each ensemble member has it's own separation from the ensemble mean, but if the spread is insufficient we artificially \"inflate\" it.\n",
    "\n",
    "Each ensemble member is integrated forward solving the model equations, i.e. without the correct coupling term to the $Y$ variables, which the model cannot resolve. The members, and ensemble mean, therefore tend to diverge from the truth.\n",
    "\n",
    "At the end of each forecast segment, the prior and observation (truth + error) are combined into a posterior. The change is assumed to be representative of the missing coupling term (\"missing physics\")."
   ]
  }
 ],
 "metadata": {
  "kernelspec": {
   "display_name": "Python 3",
   "language": "python",
   "name": "python3"
  },
  "language_info": {
   "codemirror_mode": {
    "name": "ipython",
    "version": 3
   },
   "file_extension": ".py",
   "mimetype": "text/x-python",
   "name": "python",
   "nbconvert_exporter": "python",
   "pygments_lexer": "ipython3",
   "version": "3.7.10"
  }
 },
 "nbformat": 4,
 "nbformat_minor": 5
}
