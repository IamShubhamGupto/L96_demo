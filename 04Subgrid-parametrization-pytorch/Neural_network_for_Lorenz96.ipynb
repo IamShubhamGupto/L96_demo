{
 "cells": [
  {
   "cell_type": "markdown",
   "metadata": {},
   "source": [
    "# Using neural networks for L96 parameterization"
   ]
  },
  {
   "cell_type": "code",
   "execution_count": 1,
   "metadata": {},
   "outputs": [
    {
     "data": {
      "text/plain": [
       "<torch._C.Generator at 0x12373f3d0>"
      ]
     },
     "execution_count": 1,
     "metadata": {},
     "output_type": "execute_result"
    }
   ],
   "source": [
    "%matplotlib inline\n",
    "from matplotlib.animation import FuncAnimation\n",
    "from IPython.display import HTML\n",
    "import numpy as np\n",
    "import matplotlib.pyplot as plt\n",
    "import math\n",
    "\n",
    "\n",
    "import torch\n",
    "from torch.autograd import Variable\n",
    "import torch.nn.functional as F\n",
    "import torch.utils.data as Data\n",
    "import torchvision\n",
    "from torch import nn, optim\n",
    "from torch_lr_finder import LRFinder\n",
    "import torch.nn.functional as F\n",
    "\n",
    "from sklearn.metrics import r2_score\n",
    "np.random.seed(14) # For reproducibility \n",
    "torch.manual_seed(14) # For reproducibility "
   ]
  },
  {
   "cell_type": "code",
   "execution_count": 2,
   "metadata": {},
   "outputs": [],
   "source": [
    "from L96_model_XYtend import L96, L96_eq1_xdot, integrate_L96_2t  # L96_model_XYtend Adds the option to ouptput the subgrid tendencies (effect of Y on X)\n",
    "from L96_model_XYtend import EulerFwd, RK2, RK4 "
   ]
  },
  {
   "cell_type": "markdown",
   "metadata": {},
   "source": [
    "[Lorenz (1996)](https://www.ecmwf.int/en/elibrary/10829-predictability-problem-partly-solved) describes a \"two time-scale\" model in two equations (2 and 3) which are:\n",
    "\\begin{align}\n",
    "\\frac{d}{dt} X_k\n",
    "&= - X_{k-1} \\left( X_{k-2} - X_{k+1} \\right) - X_k + F - \\left( \\frac{hc}{b} \\right) \\sum_{j=0}^{J-1} Y_{j,k}\n",
    "\\\\\n",
    "\\frac{d}{dt} Y_{j,k}\n",
    "&= - cbY_{j+1,k} \\left( Y_{j+2,k} - X_{j-1,k} \\right) - c Y_{j,k} + \\frac{hc}{b} X_k\n",
    "\\end{align}\n"
   ]
  },
  {
   "cell_type": "markdown",
   "metadata": {},
   "source": [
    "### Create GCM classes with and without neural network parameterization"
   ]
  },
  {
   "cell_type": "code",
   "execution_count": 3,
   "metadata": {},
   "outputs": [],
   "source": [
    "time_method = RK4"
   ]
  },
  {
   "cell_type": "code",
   "execution_count": 4,
   "metadata": {},
   "outputs": [],
   "source": [
    "#- a GCM class without any parameterization\n",
    "class GCM_no_param:\n",
    "    def __init__(self, F, time_stepping=time_method):\n",
    "        self.F = F\n",
    "        self.time_stepping = time_stepping\n",
    "        \n",
    "    def rhs(self,X,param):\n",
    "        return L96_eq1_xdot(X, self.F)\n",
    "        \n",
    "    def __call__(self,X0, dt, nt, param=[0]):\n",
    "        # X0 - initial conditions, dt - time increment, nt - number of forward steps to take\n",
    "        # param - parameters of our closure\n",
    "        time, hist, X = dt*np.arange(nt+1), np.zeros((nt+1,len(X0)))*np.nan, X0.copy()\n",
    "        hist[0] = X\n",
    "\n",
    "        for n in range(nt):\n",
    "            X = self.time_stepping(self.rhs,dt,X,param)\n",
    "            hist[n+1], time[n+1] = X, dt*(n+1)\n",
    "        return hist, time"
   ]
  },
  {
   "cell_type": "code",
   "execution_count": 5,
   "metadata": {},
   "outputs": [],
   "source": [
    "#- a GCM class including a linear parameterization in rhs of equation for tendency\n",
    "class GCM:\n",
    "    def __init__(self, F, parameterization, time_stepping=time_method):\n",
    "        self.F = F\n",
    "        self.parameterization = parameterization\n",
    "        self.time_stepping = time_stepping\n",
    "        \n",
    "    def rhs(self,X,param):\n",
    "        return L96_eq1_xdot(X, self.F) -  self.parameterization(param,X)\n",
    "        \n",
    "    def __call__(self,X0, dt, nt, param=[0]):\n",
    "        # X0 - initial conditions, dt - time increment, nt - number of forward steps to take\n",
    "        # param - parameters of our closure\n",
    "        time, hist, X = dt*np.arange(nt+1), np.zeros((nt+1,len(X0)))*np.nan, X0.copy()\n",
    "        hist[0] = X\n",
    "\n",
    "        for n in range(nt):\n",
    "            X = self.time_stepping(self.rhs,dt,X,param)\n",
    "            hist[n+1], time[n+1] = X, dt*(n+1)\n",
    "        return hist, time"
   ]
  },
  {
   "cell_type": "code",
   "execution_count": 6,
   "metadata": {},
   "outputs": [],
   "source": [
    "#- a GCM class including a neural network parameterization in rhs of equation for tendency\n",
    "class GCM_network:\n",
    "    def __init__(self, F, network, time_stepping=time_method):\n",
    "        self.F = F\n",
    "        self.network = network\n",
    "        self.time_stepping = time_stepping\n",
    "        \n",
    "    def rhs(self,X,param):\n",
    "        if self.network.linear1.in_features == 1:\n",
    "            X_torch = torch.from_numpy(X).double()\n",
    "            X_torch = torch.unsqueeze(X_torch,1)\n",
    "        else:\n",
    "            X_torch = torch.from_numpy(np.expand_dims(X,0)).double()\n",
    "        return L96_eq1_xdot(X, self.F) + np.squeeze(self.network(X_torch).data.numpy()) # Adding NN parameterization\n",
    "        \n",
    "    def __call__(self,X0, dt, nt , param=[0]):\n",
    "        # X0 - initial conditions, dt - time increment, nt - number of forward steps to take\n",
    "        # param - parameters of our closure\n",
    "        time, hist, X = dt*np.arange(nt+1), np.zeros((nt+1,len(X0)))*np.nan, X0.copy()\n",
    "        hist[0] = X\n",
    "\n",
    "        for n in range(nt):\n",
    "            X = self.time_stepping(self.rhs,dt,X, param)\n",
    "            hist[n+1], time[n+1] = X, dt*(n+1)\n",
    "        return hist, time"
   ]
  },
  {
   "cell_type": "code",
   "execution_count": 7,
   "metadata": {},
   "outputs": [],
   "source": [
    "time_steps = 20000\n",
    "Forcing, dt, T = 18, 0.01, 0.01*time_steps\n",
    "\n",
    "# Create a \"real world\" with K=8 and J=32\n",
    "W = L96(8, 32, F=Forcing)"
   ]
  },
  {
   "cell_type": "markdown",
   "metadata": {},
   "source": [
    "#### Getting training data (input output pairs): "
   ]
  },
  {
   "cell_type": "code",
   "execution_count": 8,
   "metadata": {},
   "outputs": [],
   "source": [
    "# Get training data for the neural network. \n",
    "\n",
    "#- Run the true state and output subgrid tendencies (the effect of Y on X is xytrue):\n",
    "Xtrue,_,_,xytrue = W.run(dt, T,store=True)\n",
    "gcm_no_param = GCM_no_param(Forcing)"
   ]
  },
  {
   "cell_type": "markdown",
   "metadata": {},
   "source": [
    "#### Split to train and test (validation) data:"
   ]
  },
  {
   "cell_type": "code",
   "execution_count": 9,
   "metadata": {},
   "outputs": [],
   "source": [
    "val_size = 4000 # number of time steps for validation\n",
    "\n",
    "\n",
    "#train:\n",
    "Xtrue_train = Xtrue[:-val_size,:] #Flatten because we first use single input as a sample\n",
    "subgrid_tend_train = xytrue[:-val_size,:]\n",
    "\n",
    "#test:\n",
    "Xtrue_test = Xtrue[-val_size:,:]\n",
    "subgrid_tend_test = xytrue[-val_size:,:]\n"
   ]
  },
  {
   "cell_type": "markdown",
   "metadata": {},
   "source": [
    "## Using data loaders \n",
    "\n",
    "- ### Dataset and Dataloader classes provide a very convenient way of iterating over a dataset while training your machine learning model.\n",
    "\n",
    "- ### We need to iterate over the data because it is very slow and memory intensive to hold all the data and to use gradient decent over all the data simultaneously (see more details [here](https://machinelearningmastery.com/gentle-introduction-mini-batch-gradient-descent-configure-batch-size/) and [here](https://pytorch.org/tutorials/beginner/data_loading_tutorial.html))\n",
    "\n",
    "<!-- This provides a very convenient way of separating the data preparation part from the training procedure.  -->"
   ]
  },
  {
   "cell_type": "code",
   "execution_count": 10,
   "metadata": {},
   "outputs": [],
   "source": [
    "# Define a data loader\n",
    "\n",
    "#Define our X,Y pairs (state, subgrid tendency) for the linear regression local network.local_torch_dataset = Data.TensorDataset(\n",
    "local_torch_dataset = Data.TensorDataset(\n",
    "    torch.from_numpy(np.reshape(Xtrue_train,-1)).double(),\n",
    "    torch.from_numpy(np.reshape(subgrid_tend_train,-1)).double()\n",
    ")\n",
    "\n",
    "BATCH_SIZE = 1024 # Number of sample in each batch\n",
    "\n",
    "loader_local = Data.DataLoader(\n",
    "        dataset=local_torch_dataset,\n",
    "        batch_size=BATCH_SIZE,\n",
    "        shuffle=True)"
   ]
  },
  {
   "cell_type": "code",
   "execution_count": 11,
   "metadata": {},
   "outputs": [],
   "source": [
    "# Define a test dataloader\n",
    "\n",
    "local_torch_dataset_test = Data.TensorDataset(\n",
    "    torch.from_numpy(np.reshape(Xtrue_test,-1)).double(),\n",
    "    torch.from_numpy(np.reshape(subgrid_tend_test,-1)).double()\n",
    ")\n",
    "\n",
    "loader_local_test = Data.DataLoader(\n",
    "        dataset=local_torch_dataset_test,\n",
    "        batch_size=BATCH_SIZE,\n",
    "        shuffle=True)"
   ]
  },
  {
   "cell_type": "code",
   "execution_count": 12,
   "metadata": {},
   "outputs": [
    {
     "name": "stdout",
     "output_type": "stream",
     "text": [
      "tensor([ 9.1964,  7.8756, -0.7173,  ...,  7.5822, -1.0573,  2.9661],\n",
      "       dtype=torch.float64)\n",
      "tensor([-9.0178, -7.6704,  1.6742,  ..., -8.4749,  0.4958, -2.6227],\n",
      "       dtype=torch.float64)\n"
     ]
    },
    {
     "data": {
      "text/plain": [
       "Text(0, 0.5, 'subgrid tendency')"
      ]
     },
     "execution_count": 12,
     "metadata": {},
     "output_type": "execute_result"
    },
    {
     "data": {
      "image/png": "[encoded data removed]",
      "text/plain": [
       "<Figure size 432x288 with 1 Axes>"
      ]
     },
     "metadata": {
      "needs_background": "light"
     },
     "output_type": "display_data"
    }
   ],
   "source": [
    "dataiter = iter(loader_local) # iterating over the data to get one batch\n",
    "X_iter, subgrid_tend_iter = dataiter.next()\n",
    "\n",
    "print(X_iter)\n",
    "print(subgrid_tend_iter)\n",
    "\n",
    "fontsize = 20\n",
    "plt.plot(X_iter,subgrid_tend_iter,'.')\n",
    "plt.xlabel('state',fontsize=fontsize)\n",
    "plt.ylabel('subgrid tendency',fontsize=fontsize)"
   ]
  },
  {
   "cell_type": "markdown",
   "metadata": {},
   "source": [
    "### Define network structure in pytorch \n",
    "If you want to learn more:\n",
    "\n",
    "https://pytorch.org/tutorials/beginner/deep_learning_60min_blitz.html\n",
    "\n",
    "https://pytorch.org/tutorials/beginner/blitz/neural_networks_tutorial.html"
   ]
  },
  {
   "cell_type": "markdown",
   "metadata": {},
   "source": [
    "- ### Neural networks can have many different structures.\n",
    "- #### Here we will consider fully connected networks\n",
    "- #### To undersand fully connected networks, we only need to understand Linear regression (and gradient descent).\n",
    "\n"
   ]
  },
  {
   "cell_type": "markdown",
   "metadata": {},
   "source": [
    "<img\n",
    "src=\"https://miro.medium.com/max/720/1*VHOUViL8dHGfvxCsswPv-Q.png\" width=400>\n",
    "\n"
   ]
  },
  {
   "cell_type": "markdown",
   "metadata": {},
   "source": [
    "### First we will build a linear regression 'network' and later see how to generalize the linear regression in order to use Fully connected neural network. "
   ]
  },
  {
   "cell_type": "code",
   "execution_count": 13,
   "metadata": {},
   "outputs": [],
   "source": [
    "#define a network structure in pytorch (here it is a linear network)\n",
    "class linear_reg(nn.Module):\n",
    "    def __init__(self):\n",
    "        super(linear_reg, self).__init__()\n",
    "        self.linear1 = nn.Linear(1, 1) # a single input and a single output\n",
    "    def forward(self, x): # when calling the model ('linear_reg(input)') it calls automatically the forward method we defined (via __call__ - see https://github.com/pytorch/pytorch/blob/472be69a736c0b2aece4883be9f8b18e2f3dfbbd/torch/nn/modules/module.py#L487)\n",
    "        x = self.linear1(x) \n",
    "        return x"
   ]
  },
  {
   "cell_type": "code",
   "execution_count": 14,
   "metadata": {},
   "outputs": [
    {
     "name": "stdout",
     "output_type": "stream",
     "text": [
      "linear_reg(\n",
      "  (linear1): Linear(in_features=1, out_features=1, bias=True)\n",
      ")\n"
     ]
    }
   ],
   "source": [
    "lin_net = linear_reg().double()\n",
    "print(lin_net)"
   ]
  },
  {
   "cell_type": "markdown",
   "metadata": {},
   "source": [
    "### Using the nework to get a prediction\n"
   ]
  },
  {
   "cell_type": "code",
   "execution_count": 15,
   "metadata": {},
   "outputs": [
    {
     "name": "stdout",
     "output_type": "stream",
     "text": [
      "The output of the random input is: [[-0.31631446]]\n"
     ]
    }
   ],
   "source": [
    "# An example of how to plug a sample into the network\n",
    "input1 = torch.randn(1, 1).double()\n",
    "out = lin_net(input1) \n",
    "# when calling the model ('lin_net(input)') it calls automatically the forward method we defined (via __call__ - see https://github.com/pytorch/pytorch/blob/472be69a736c0b2aece4883be9f8b18e2f3dfbbd/torch/nn/modules/module.py#L487)\n",
    "print('The output of the random input is:',out.detach().numpy())\n",
    "\n"
   ]
  },
  {
   "cell_type": "markdown",
   "metadata": {},
   "source": [
    "### To adjust (optimize) the weights we need to define a loss function"
   ]
  },
  {
   "cell_type": "code",
   "execution_count": 16,
   "metadata": {},
   "outputs": [],
   "source": [
    "criterion = torch.nn.MSELoss() # MSE loss function\n",
    "X_tmp = next(iter(loader_local))\n",
    "\n",
    "y_tmp = lin_net(torch.unsqueeze(X_tmp[0],1)) # Predict\n",
    "loss = criterion(y_tmp, torch.unsqueeze(X_tmp[1],1)) #calculate the MSE loss loss\n",
    "\n"
   ]
  },
  {
   "cell_type": "markdown",
   "metadata": {},
   "source": [
    "### Calculating gradients"
   ]
  },
  {
   "cell_type": "code",
   "execution_count": 17,
   "metadata": {},
   "outputs": [
    {
     "name": "stdout",
     "output_type": "stream",
     "text": [
      "conv1.bias.grad before backward\n",
      "None\n",
      "conv1.bias.grad after backward\n",
      "tensor([11.8117], dtype=torch.float64)\n"
     ]
    }
   ],
   "source": [
    "lin_net.zero_grad() # zeroes the gradient buffers of all parameters\n",
    "\n",
    "print('conv1.bias.grad before backward')\n",
    "print(lin_net.linear1.bias.grad)\n",
    "\n",
    "loss.backward(retain_graph=True) #Computes the gradient of all components current tensor\n",
    "\n",
    "print('conv1.bias.grad after backward')\n",
    "print(lin_net.linear1.bias.grad)"
   ]
  },
  {
   "cell_type": "markdown",
   "metadata": {},
   "source": [
    "### Updating the weights using optimizer (basically built in methods for optimization such as SGD, Adam and etc.)"
   ]
  },
  {
   "cell_type": "code",
   "execution_count": 18,
   "metadata": {},
   "outputs": [
    {
     "name": "stdout",
     "output_type": "stream",
     "text": [
      "Before backward pass: \n",
      " [[0.65899515]]\n",
      "After backward pass: \n",
      " [[-8.23004046e-05]]\n"
     ]
    }
   ],
   "source": [
    "optimizer = optim.SGD(lin_net.parameters(), lr=0.003, momentum=0.9)\n",
    "print('Before backward pass: \\n',list(lin_net.parameters())[0].data.numpy())\n",
    "loss.backward(retain_graph=True) \n",
    "optimizer.step()\n",
    "print('After backward pass: \\n',list(lin_net.parameters())[0].data.numpy())"
   ]
  },
  {
   "cell_type": "markdown",
   "metadata": {},
   "source": [
    "it’s crucial you choose the correct learning rate as otherwise your network will either fail to train, or take much longer to converge. [Here](https://towardsdatascience.com/stochastic-gradient-descent-with-momentum-a84097641a5d) you can read more about the momentum term in SGD.\n",
    "\n",
    "### The  effective value of the gradient (V) at step t in SGD with momentum ($\\beta$):\n",
    "### $V_t = \\beta V_{t-1} + (1-\\beta) \\nabla_w L(W,X,y)$\n",
    "\n",
    "### and the updates to the weights will be:\n",
    "### $w^{new} = w^{old} - LR * V_t$"
   ]
  },
  {
   "cell_type": "markdown",
   "metadata": {},
   "source": [
    "## Using - Adam (an adaptive learning rate optimization algorithm)\n",
    "\n",
    "The choice of which optimizer we choose might be very important. It will determine how fast the network will be able to learn. Adam is a very popular choice (read more [here](https://towardsdatascience.com/adam-latest-trends-in-deep-learning-optimization-6be9a291375c) about Adam, and [here](https://ruder.io/optimizing-gradient-descent/index.html#adam) about many types of different optimizers). \n",
    "\n",
    "#### Adam is an adaptive learning rate method, which means, it computes individual learning rates for different parameters.\n"
   ]
  },
  {
   "cell_type": "markdown",
   "metadata": {},
   "source": [
    "## Combining it all together:  training the whole network"
   ]
  },
  {
   "cell_type": "code",
   "execution_count": 19,
   "metadata": {},
   "outputs": [],
   "source": [
    "def train_model(net,criterion,trainloader,optimizer):\n",
    "    net.train()\n",
    "    test_loss = 0\n",
    "    for step, (batch_x, batch_y) in enumerate(trainloader):  # for each training step\n",
    "        b_x = Variable(batch_x) # Inputs\n",
    "        b_y = Variable(batch_y) # outputs\n",
    "        if len(b_x.shape) == 1: # If is needed to add a dummy dimension if our inputs are 1D (where each number is a different sample)\n",
    "            prediction = torch.squeeze(net(torch.unsqueeze(b_x,1)))# input x and predict based on x\n",
    "        else:\n",
    "            prediction = net(b_x)\n",
    "        loss = criterion(prediction, b_y)   # Calculating loss \n",
    "        optimizer.zero_grad()  # clear gradients for next train\n",
    "        loss.backward()  # backpropagation, compute gradients\n",
    "        optimizer.step()  # apply gradients to update weights\n",
    "#         test_loss = test_loss + loss.data.numpy() # Keep track of the loss for convenience \n",
    "#     test_loss /= len(trainloader) # dividing by the number of batches\n",
    "#     print('the loss in this Epoch',test_loss)\n",
    "#     print(b_y.shape)\n",
    "#     print(prediction.shape)\n"
   ]
  },
  {
   "cell_type": "code",
   "execution_count": 20,
   "metadata": {},
   "outputs": [],
   "source": [
    "def test_model(net,criterion,trainloader,optimizer, text = 'validation'):\n",
    "    net.eval() # Evaluation mode (important when having dropout layers)\n",
    "    test_loss = 0\n",
    "    with torch.no_grad():\n",
    "        for step, (batch_x, batch_y) in enumerate(trainloader):  # for each training step\n",
    "            b_x = Variable(batch_x) # Inputs\n",
    "            b_y = Variable(batch_y) # outputs\n",
    "            if len(b_x.shape) == 1: # If is needed to add a dummy dimension if our inputs are 1D (where each number is a different sample)\n",
    "                prediction = torch.squeeze(net(torch.unsqueeze(b_x,1)))# input x and predict based on x\n",
    "            else:\n",
    "                prediction = net(b_x)\n",
    "            loss = criterion(prediction, b_y)   # Calculating loss \n",
    "            test_loss = test_loss + loss.data.numpy() # Keep track of the loss \n",
    "        test_loss /= len(trainloader) # dividing by the number of batches\n",
    "#         print(len(trainloader))\n",
    "        print(text + ' loss:',test_loss)\n",
    "    return test_loss\n"
   ]
  },
  {
   "cell_type": "code",
   "execution_count": 21,
   "metadata": {},
   "outputs": [
    {
     "name": "stdout",
     "output_type": "stream",
     "text": [
      "train loss: 4.019272684610542\n",
      "validation loss: 4.016884708221506\n",
      "train loss: 3.996398879250429\n",
      "validation loss: 4.011311393860588\n",
      "train loss: 4.001460134656614\n",
      "validation loss: 4.024229263324334\n"
     ]
    }
   ],
   "source": [
    "n_epochs = 3 #Number of epocs (the number of times we iterate over the training data during training)\n",
    "optimizer = optim.Adam(lin_net.parameters(), lr=0.03) # If we have time we can discuss later the Adam optimizer\n",
    "for epoch in range(1, n_epochs + 1):\n",
    "    train_model(lin_net,criterion,loader_local,optimizer)\n",
    "    test_model(lin_net,criterion,loader_local,optimizer, 'train')\n",
    "    test_model(lin_net,criterion,loader_local_test,optimizer)"
   ]
  },
  {
   "cell_type": "code",
   "execution_count": 22,
   "metadata": {},
   "outputs": [
    {
     "name": "stdout",
     "output_type": "stream",
     "text": [
      "[[-0.85304282]]\n",
      "[-0.76035674]\n"
     ]
    }
   ],
   "source": [
    "print(lin_net.linear1.weight.data.numpy())\n",
    "print(lin_net.linear1.bias.data.numpy())"
   ]
  },
  {
   "cell_type": "code",
   "execution_count": 23,
   "metadata": {},
   "outputs": [
    {
     "data": {
      "image/png": "[encoded data removed]",
      "text/plain": [
       "<Figure size 432x288 with 1 Axes>"
      ]
     },
     "metadata": {
      "needs_background": "light"
     },
     "output_type": "display_data"
    }
   ],
   "source": [
    "preds22 = lin_net(torch.unsqueeze(torch.from_numpy(np.reshape(Xtrue_test[:,1],-1)).double(),1))\n",
    "plt.plot(preds22.detach().numpy()[0:1000], label='Predicted values')\n",
    "plt.plot(subgrid_tend_test[:1000,1], label='True values');\n",
    "\n",
    "plt.legend();"
   ]
  },
  {
   "cell_type": "code",
   "execution_count": 24,
   "metadata": {},
   "outputs": [],
   "source": [
    "T_test = 10\n",
    "\n",
    "X_full,_,_,_ = W.run(dt, T_test) # Full model\n",
    "\n",
    "\n",
    "init_cond = Xtrue[-1,:]\n",
    "\n",
    "gcm_net = GCM_network(Forcing,lin_net)\n",
    "Xnn_1layer,t = gcm_net(init_cond ,dt, int(T_test/dt),lin_net)\n",
    "\n",
    "gcm_no_param = GCM_no_param(Forcing)\n",
    "X_no_param,t = gcm_no_param(init_cond ,dt, int(T_test/dt))\n",
    "\n",
    "\n",
    "naive_parameterization= lambda param,X : np.polyval(param,X)\n",
    "gcm = GCM (Forcing,naive_parameterization)\n",
    "X_param,t = gcm(init_cond,dt, int(T/dt), param=[0.85439536, 1.75218026])"
   ]
  },
  {
   "cell_type": "code",
   "execution_count": 25,
   "metadata": {},
   "outputs": [
    {
     "data": {
      "image/png": "[encoded data removed]",
      "text/plain": [
       "<Figure size 432x288 with 1 Axes>"
      ]
     },
     "metadata": {
      "needs_background": "light"
     },
     "output_type": "display_data"
    }
   ],
   "source": [
    "time_i = 200\n",
    "plt.plot(t[:time_i], X_full[:time_i,4], label='Full L96');\n",
    "plt.plot(t[:time_i], Xnn_1layer[:time_i,4],'.', label='NN 1 layer');\n",
    "plt.plot(t[:time_i], X_no_param[:time_i,4], label='no parameterization');\n",
    "plt.plot(t[:time_i], X_param[:time_i,4], label='linear param (previously used)');\n",
    "\n",
    "plt.legend();"
   ]
  },
  {
   "cell_type": "markdown",
   "metadata": {},
   "source": [
    "# Using a deeper network  for the Lorenz96  (and using non local features)"
   ]
  },
  {
   "cell_type": "markdown",
   "metadata": {},
   "source": [
    "<img src=\"https://www.researchgate.net/publication/319201436/figure/fig1/AS:869115023589376@1584224577926/Visualisation-of-a-two-scale-Lorenz-96-system-with-J-8-and-K-6-Global-scale-values.png\" width=400> *Fig. 1: Visualisation of a two-scale Lorenz '96 system with J = 8 and K = 6. Global-scale values (X k ) are updated based on neighbouring values and a reduction applied to the local-scale values (Y j,k ) associated with that value. Local-scale values are updated based on neighbouring values and the associated global-scale value. The neighbourhood topology of both the local and global-scale values is circular. Image from [Exploiting the chaotic behaviour of atmospheric models with reconfigurable architectures - Scientific Figure on ResearchGate.](https://www.researchgate.net/figure/Visualisation-of-a-two-scale-Lorenz-96-system-with-J-8-and-K-6-Global-scale-values_fig1_319201436)*\n",
    "\n"
   ]
  },
  {
   "cell_type": "markdown",
   "metadata": {},
   "source": [
    "## Create non-local train/test data sets (8 inputs, 8 outputs)"
   ]
  },
  {
   "cell_type": "code",
   "execution_count": 26,
   "metadata": {},
   "outputs": [],
   "source": [
    "# Create non local training data \n",
    "# Define a data loader (8 inputs, 8 outputs)\n",
    "\n",
    "#Define our X,Y pairs (state, subgrid tendency) for the linear regression local network.local_torch_dataset = Data.TensorDataset(\n",
    "torch_dataset = Data.TensorDataset(\n",
    "    torch.from_numpy(Xtrue_train).double(),\n",
    "    torch.from_numpy(subgrid_tend_train).double()\n",
    ")\n",
    "\n",
    "BATCH_SIZE = 1024 # Number of sample in each batch\n",
    "\n",
    "loader = Data.DataLoader(\n",
    "        dataset=torch_dataset,\n",
    "        batch_size=BATCH_SIZE,\n",
    "        shuffle=True)\n",
    "\n",
    "\n"
   ]
  },
  {
   "cell_type": "code",
   "execution_count": 27,
   "metadata": {},
   "outputs": [],
   "source": [
    "# Define a test dataloader (8 inputs, 8 outputs)\n",
    "\n",
    "torch_dataset_test = Data.TensorDataset(\n",
    "    torch.from_numpy(Xtrue_test).double(),\n",
    "    torch.from_numpy(subgrid_tend_test).double()\n",
    ")\n",
    "\n",
    "loader_test = Data.DataLoader(\n",
    "        dataset=torch_dataset_test,\n",
    "        batch_size=BATCH_SIZE,\n",
    "        shuffle=True)"
   ]
  },
  {
   "cell_type": "markdown",
   "metadata": {},
   "source": [
    "## Creating a class of a 3 layer fully-connected network"
   ]
  },
  {
   "cell_type": "code",
   "execution_count": 28,
   "metadata": {},
   "outputs": [],
   "source": [
    "#define network structure in pytorch \n",
    "import torch.nn.functional as FF\n",
    "\n",
    "class Net_ANN(nn.Module):\n",
    "    def __init__(self):\n",
    "        super(Net_ANN, self).__init__()\n",
    "        self.linear1 = nn.Linear(8, 16) # 8 inputs, 16 neurons for first hidden layer\n",
    "        self.linear2 = nn.Linear(16, 16) # 16 neurons for second hidden layer\n",
    "        self.linear3 = nn.Linear(16, 8)  # 8 outputs\n",
    "#         self.lin_drop = nn.Dropout(0.1) #regularization method to prevent overfitting. \n",
    "\n",
    "    def forward(self, x):\n",
    "        x = FF.relu(self.linear1(x))\n",
    "        x = FF.relu(self.linear2(x))\n",
    "        x = self.linear3(x)\n",
    "        return x"
   ]
  },
  {
   "cell_type": "markdown",
   "metadata": {},
   "source": [
    "## Activation function - ReLU (a popular choice)"
   ]
  },
  {
   "cell_type": "markdown",
   "metadata": {},
   "source": [
    "### If layers would contain only matrix multiplication, everything would be linear: \n",
    "- ### e.g., 2 layers of weight matrices  A and B (x is the input) would give $A(Bx)$, which is linear (in x)\n",
    "- ### Therefore we need to introduce some non-linearity (activation function). \n",
    "- ### The Neural Network with 2 layers of weight matrices  A and B is actually:\n",
    "### $A(\\phi(Bx))$ where $\\phi$ is an actication function\n"
   ]
  },
  {
   "cell_type": "markdown",
   "metadata": {},
   "source": [
    "The ReLu ativation function is just the max(0,X) - and this what is enabling the NN to be a nonlinear function of the inputs!"
   ]
  },
  {
   "cell_type": "code",
   "execution_count": 29,
   "metadata": {
    "scrolled": true
   },
   "outputs": [
    {
     "data": {
      "text/plain": [
       "Text(0.5, 1.0, 'ReLU')"
      ]
     },
     "execution_count": 29,
     "metadata": {},
     "output_type": "execute_result"
    },
    {
     "data": {
      "image/png": "[encoded data removed]",
      "text/plain": [
       "<Figure size 432x288 with 1 Axes>"
      ]
     },
     "metadata": {
      "needs_background": "light"
     },
     "output_type": "display_data"
    }
   ],
   "source": [
    "x = np.linspace(-2,2,50)\n",
    "plt.plot(x,np.maximum(x,0))\n",
    "plt.title('ReLU',fontsize = 20)"
   ]
  },
  {
   "cell_type": "code",
   "execution_count": 30,
   "metadata": {},
   "outputs": [],
   "source": [
    "torch.manual_seed(14) # For reproducibility \n",
    "nn_3l = Net_ANN().double()"
   ]
  },
  {
   "cell_type": "markdown",
   "metadata": {},
   "source": [
    "### Train:"
   ]
  },
  {
   "cell_type": "code",
   "execution_count": 31,
   "metadata": {},
   "outputs": [
    {
     "name": "stdout",
     "output_type": "stream",
     "text": [
      "train loss: 30.10280566351927\n",
      "validation loss: 30.098258320281605\n",
      "train loss: 19.226915068166928\n",
      "validation loss: 19.305319879575393\n",
      "train loss: 12.359938530797095\n",
      "validation loss: 12.405587604922674\n",
      "train loss: 8.804113848539592\n",
      "validation loss: 8.772845231768356\n",
      "train loss: 7.313973479872491\n",
      "validation loss: 7.238473853470359\n",
      "train loss: 6.3469450301187065\n",
      "validation loss: 6.319096350826312\n",
      "train loss: 5.538526756073344\n",
      "validation loss: 5.556763295385036\n",
      "train loss: 4.813394991072334\n",
      "validation loss: 4.847590104470933\n",
      "train loss: 4.266499072095901\n",
      "validation loss: 4.311467797357489\n",
      "train loss: 3.932007719744745\n",
      "validation loss: 3.962713983870609\n",
      "train loss: 3.7297394749911796\n",
      "validation loss: 3.736884421444118\n",
      "train loss: 3.5676713214561118\n",
      "validation loss: 3.5793860721481874\n",
      "train loss: 3.407458609749914\n",
      "validation loss: 3.3990002653181683\n",
      "train loss: 3.244028932061343\n",
      "validation loss: 3.2353987769554466\n",
      "train loss: 3.090135348335602\n",
      "validation loss: 3.0666057157059363\n",
      "train loss: 2.9848057490625703\n",
      "validation loss: 2.954092802438257\n",
      "train loss: 2.9228566966266825\n",
      "validation loss: 2.893839364269464\n",
      "train loss: 2.8721008535998696\n",
      "validation loss: 2.8367978833985523\n",
      "train loss: 2.8405964442733236\n",
      "validation loss: 2.8044918007375537\n",
      "train loss: 2.8112731618365157\n",
      "validation loss: 2.773674393530317\n",
      "train loss: 2.779927656301534\n",
      "validation loss: 2.7383878531687547\n",
      "train loss: 2.7563200226216127\n",
      "validation loss: 2.712955741921331\n",
      "train loss: 2.728987695067289\n",
      "validation loss: 2.6882258461330126\n",
      "train loss: 2.708825595047603\n",
      "validation loss: 2.663789591830679\n",
      "train loss: 2.685342336796537\n",
      "validation loss: 2.640715973402087\n",
      "train loss: 2.6783708919743128\n",
      "validation loss: 2.6204416660933307\n",
      "train loss: 2.651382688784643\n",
      "validation loss: 2.598754150120479\n",
      "train loss: 2.637217676800421\n",
      "validation loss: 2.603528000761318\n",
      "train loss: 2.617771131494453\n",
      "validation loss: 2.5804043213182997\n",
      "train loss: 2.601065668562843\n",
      "validation loss: 2.5733994279963017\n",
      "train loss: 2.5926551206155035\n",
      "validation loss: 2.5615955206179053\n",
      "train loss: 2.5685139094369513\n",
      "validation loss: 2.541860376443799\n",
      "train loss: 2.561307187136044\n",
      "validation loss: 2.540755971071125\n",
      "train loss: 2.5458939215353062\n",
      "validation loss: 2.522466103173131\n",
      "train loss: 2.5368051265357017\n",
      "validation loss: 2.5104744396912198\n",
      "train loss: 2.5259755192812907\n",
      "validation loss: 2.509512690651823\n",
      "train loss: 2.5087424917905405\n",
      "validation loss: 2.4848639619452904\n",
      "train loss: 2.499680080106764\n",
      "validation loss: 2.4839226627641517\n",
      "train loss: 2.4966944356090552\n",
      "validation loss: 2.49515152646877\n",
      "train loss: 2.479744812462142\n",
      "validation loss: 2.4716046278882464\n",
      "train loss: 2.472618971391084\n",
      "validation loss: 2.460012031423625\n",
      "train loss: 2.4556959468078627\n",
      "validation loss: 2.44059510374188\n",
      "train loss: 2.4542755909803633\n",
      "validation loss: 2.4333400903263502\n",
      "train loss: 2.4477367602567046\n",
      "validation loss: 2.442281443708899\n",
      "train loss: 2.4354714711931327\n",
      "validation loss: 2.42684767865991\n",
      "train loss: 2.425338653485536\n",
      "validation loss: 2.4222784982218686\n",
      "train loss: 2.424691857594718\n",
      "validation loss: 2.418059483118853\n",
      "train loss: 2.4125175931825042\n",
      "validation loss: 2.405209415741746\n",
      "train loss: 2.409341417335013\n",
      "validation loss: 2.4021098774839365\n",
      "train loss: 2.404793232680331\n",
      "validation loss: 2.3939080205909464\n"
     ]
    },
    {
     "data": {
      "image/png": "[encoded data removed]",
      "text/plain": [
       "<Figure size 432x288 with 1 Axes>"
      ]
     },
     "metadata": {
      "needs_background": "light"
     },
     "output_type": "display_data"
    }
   ],
   "source": [
    "n_epochs = 50 #Number of epocs\n",
    "optimizer = optim.Adam(nn_3l.parameters(), lr=0.003)\n",
    "validation_loss = list()\n",
    "train_loss = list()\n",
    "# time0 = time()  \n",
    "for epoch in range(1, n_epochs + 1):\n",
    "    train_model(nn_3l,criterion,loader,optimizer)\n",
    "    train_loss.append(test_model(nn_3l,criterion,loader,optimizer, 'train'))\n",
    "    validation_loss.append(test_model(nn_3l,criterion,loader_test,optimizer))\n",
    "plt.plot(train_loss,'b', label='training loss');\n",
    "plt.plot(validation_loss,'r', label='validation loss');\n",
    "\n",
    "plt.legend();"
   ]
  },
  {
   "cell_type": "code",
   "execution_count": 32,
   "metadata": {},
   "outputs": [
    {
     "data": {
      "image/png": "[encoded data removed]",
      "text/plain": [
       "<Figure size 432x288 with 1 Axes>"
      ]
     },
     "metadata": {
      "needs_background": "light"
     },
     "output_type": "display_data"
    }
   ],
   "source": [
    "preds22 = nn_3l(torch.from_numpy(Xtrue_test[:,:]).double())\n",
    "plt.plot(preds22.detach().numpy()[0:1000,1], label='NN Predicted values')\n",
    "plt.plot(subgrid_tend_test[:1000,1], label='True values');\n",
    "\n",
    "plt.legend();"
   ]
  },
  {
   "cell_type": "code",
   "execution_count": 33,
   "metadata": {},
   "outputs": [],
   "source": [
    "T_test = 5\n",
    "\n",
    "# X_full,_,_,_ = W.run(dt, T_test) # Full model\n",
    "\n",
    "gcm_net_3layers = GCM_network(Forcing,nn_3l)\n",
    "Xnn_3layer,t = gcm_net_3layers(init_cond ,dt, int(T_test/dt),nn_3l)\n",
    "\n",
    "gcm_net_1layers = GCM_network(Forcing,lin_net)\n",
    "Xnn_1layer,t = gcm_net_1layers(init_cond ,dt, int(T_test/dt),lin_net)"
   ]
  },
  {
   "cell_type": "code",
   "execution_count": 34,
   "metadata": {},
   "outputs": [
    {
     "data": {
      "image/png": "[encoded data removed]",
      "text/plain": [
       "<Figure size 432x288 with 1 Axes>"
      ]
     },
     "metadata": {
      "needs_background": "light"
     },
     "output_type": "display_data"
    }
   ],
   "source": [
    "time_i = 240\n",
    "channel = 1\n",
    "plt.plot(t[:time_i], X_full[:time_i,channel], label='Full L96');\n",
    "plt.plot(t[:time_i], Xnn_1layer[:time_i,channel],'.', label='NN 1 layer');\n",
    "plt.plot(t[:time_i], Xnn_3layer[:time_i,channel],'.', label='NN 3 layer');\n",
    "\n",
    "plt.legend();"
   ]
  },
  {
   "cell_type": "code",
   "execution_count": 35,
   "metadata": {},
   "outputs": [
    {
     "name": "stdout",
     "output_type": "stream",
     "text": [
      "Sum of errors for 1 layer: 54923.67080166712\n",
      "Sum of errors for 3 layer: 38844.66949719773\n"
     ]
    }
   ],
   "source": [
    "# Checking over 100 different initial conditions... \n",
    "err1L = list()\n",
    "err3L = list()\n",
    "T_test = 1\n",
    "for i in range(100):\n",
    "    init_cond_temp = Xtrue[i*10,:]\n",
    "    gcm_net_3layers = GCM_network(Forcing,nn_3l)\n",
    "    Xnn_3layer_tmp,t = gcm_net_3layers(init_cond_temp ,dt, int(T_test/dt),nn_3l)\n",
    "\n",
    "    \n",
    "    \n",
    "    gcm_net_1layers = GCM_network(Forcing,lin_net)\n",
    "    Xnn_1layer_tmp ,t = gcm_net_1layers(init_cond_temp ,dt, int(T_test/dt),lin_net)\n",
    "    \n",
    "    err1L.append(np.sum(np.abs(Xtrue[i*10:i*10 + T_test*100+1] - Xnn_1layer_tmp)))\n",
    "    err3L.append(np.sum(np.abs(Xtrue[i*10:i*10 + T_test*100+1] - Xnn_3layer_tmp)))\n",
    "print(\"Sum of errors for 1 layer:\", sum(err1L))\n",
    "print(\"Sum of errors for 3 layer:\", sum(err3L))"
   ]
  },
  {
   "cell_type": "markdown",
   "metadata": {},
   "source": [
    "### Training some more to further improve performance"
   ]
  },
  {
   "cell_type": "code",
   "execution_count": 36,
   "metadata": {},
   "outputs": [
    {
     "name": "stdout",
     "output_type": "stream",
     "text": [
      "train loss: 2.3936231024535313\n",
      "validation loss: 2.3896569628689304\n",
      "train loss: 2.393561931044336\n",
      "validation loss: 2.401244477647103\n",
      "train loss: 2.391097420340776\n",
      "validation loss: 2.374780507752218\n",
      "train loss: 2.3792471410989315\n",
      "validation loss: 2.3751685740614352\n",
      "train loss: 2.376406130650605\n",
      "validation loss: 2.362020734797524\n",
      "train loss: 2.3783412703342375\n",
      "validation loss: 2.372504322184249\n",
      "train loss: 2.369729080427871\n",
      "validation loss: 2.3730899778632764\n",
      "train loss: 2.370013719258518\n",
      "validation loss: 2.3763521028447836\n",
      "train loss: 2.35573397976726\n",
      "validation loss: 2.366753936236434\n",
      "train loss: 2.352748054637433\n",
      "validation loss: 2.355310623356801\n",
      "train loss: 2.3501579946478404\n",
      "validation loss: 2.364827865549984\n",
      "train loss: 2.3464917284711424\n",
      "validation loss: 2.3512789090789408\n",
      "train loss: 2.341625038090568\n",
      "validation loss: 2.349775634505426\n",
      "train loss: 2.339385619382255\n",
      "validation loss: 2.3336904731560058\n",
      "train loss: 2.3420137852870018\n",
      "validation loss: 2.336359842496002\n",
      "train loss: 2.341121486767787\n",
      "validation loss: 2.3471451399832204\n",
      "train loss: 2.345586380593794\n",
      "validation loss: 2.3548123046650065\n",
      "train loss: 2.3319607268914813\n",
      "validation loss: 2.339591783952174\n",
      "train loss: 2.3288671360056403\n",
      "validation loss: 2.3239450163509767\n",
      "train loss: 2.3300600762087504\n",
      "validation loss: 2.334197716730923\n",
      "train loss: 2.3231814790650107\n",
      "validation loss: 2.3332970599246687\n",
      "train loss: 2.3200115522683\n",
      "validation loss: 2.339340646030318\n",
      "train loss: 2.3127192679192246\n",
      "validation loss: 2.332074280820588\n",
      "train loss: 2.308145247288675\n",
      "validation loss: 2.3280614134113438\n",
      "train loss: 2.3055554917861945\n",
      "validation loss: 2.3298937362462513\n",
      "train loss: 2.2998420909690322\n",
      "validation loss: 2.3147033205697745\n",
      "train loss: 2.3089545814133268\n",
      "validation loss: 2.328530411565161\n",
      "train loss: 2.303818002007541\n",
      "validation loss: 2.3282983938823207\n",
      "train loss: 2.2993909118799785\n",
      "validation loss: 2.310421233227892\n",
      "train loss: 2.2941759741151975\n",
      "validation loss: 2.3140592283150143\n",
      "train loss: 2.2945542082932295\n",
      "validation loss: 2.3099553080968316\n",
      "train loss: 2.2914418331533106\n",
      "validation loss: 2.3159129713821955\n",
      "train loss: 2.28876266918094\n",
      "validation loss: 2.320520500810738\n",
      "train loss: 2.290005161177415\n",
      "validation loss: 2.303270111958809\n",
      "train loss: 2.284924835129245\n",
      "validation loss: 2.3140749608074955\n",
      "train loss: 2.2873062133392486\n",
      "validation loss: 2.3116052608624753\n",
      "train loss: 2.2813814318631387\n",
      "validation loss: 2.294550703821122\n",
      "train loss: 2.2808889032146764\n",
      "validation loss: 2.297830187399462\n",
      "train loss: 2.272706876890757\n",
      "validation loss: 2.297592670248927\n",
      "train loss: 2.2774318937065097\n",
      "validation loss: 2.288804860697185\n",
      "train loss: 2.269137040741749\n",
      "validation loss: 2.289177361752791\n",
      "train loss: 2.273305071838252\n",
      "validation loss: 2.3059992288915216\n",
      "train loss: 2.2775655460407935\n",
      "validation loss: 2.2865357166196025\n",
      "train loss: 2.262214058186271\n",
      "validation loss: 2.280303472338735\n",
      "train loss: 2.2598672060267475\n",
      "validation loss: 2.290768195469268\n",
      "train loss: 2.2644742390497403\n",
      "validation loss: 2.3010641993588457\n",
      "train loss: 2.256282935504942\n",
      "validation loss: 2.2804935122506467\n",
      "train loss: 2.2613774908086315\n",
      "validation loss: 2.2704442584936824\n",
      "train loss: 2.2549022479645098\n",
      "validation loss: 2.2728998725348175\n",
      "train loss: 2.253235723248283\n",
      "validation loss: 2.281391771406436\n",
      "train loss: 2.249180811329215\n",
      "validation loss: 2.2717784121723232\n",
      "train loss: 2.250001118320983\n",
      "validation loss: 2.2693222173897603\n",
      "train loss: 2.249272258635035\n",
      "validation loss: 2.2733408113993803\n",
      "train loss: 2.24628936282652\n",
      "validation loss: 2.2643562812247904\n",
      "train loss: 2.238818196719832\n",
      "validation loss: 2.2578811978456894\n",
      "train loss: 2.241090682599542\n",
      "validation loss: 2.270563688878926\n",
      "train loss: 2.2400388319712827\n",
      "validation loss: 2.2581516633659815\n",
      "train loss: 2.233167894670102\n",
      "validation loss: 2.261935511897475\n",
      "train loss: 2.234783460157734\n",
      "validation loss: 2.2609560415276007\n",
      "train loss: 2.2394835393946426\n",
      "validation loss: 2.2739937010621385\n",
      "train loss: 2.2342016456745437\n",
      "validation loss: 2.25092616086395\n",
      "train loss: 2.227474279998716\n",
      "validation loss: 2.2530626099853714\n",
      "train loss: 2.2233610429159105\n",
      "validation loss: 2.246415884294629\n",
      "train loss: 2.2329469310416306\n",
      "validation loss: 2.268189865687969\n",
      "train loss: 2.2262503005168464\n",
      "validation loss: 2.2476875670920657\n",
      "train loss: 2.2230213985816087\n",
      "validation loss: 2.246276248740233\n",
      "train loss: 2.2323298195690833\n",
      "validation loss: 2.269672418480935\n",
      "train loss: 2.218302760136899\n",
      "validation loss: 2.2393314978923264\n",
      "train loss: 2.218470536381625\n",
      "validation loss: 2.247349370402124\n",
      "train loss: 2.2231186676475154\n",
      "validation loss: 2.247633855966383\n",
      "train loss: 2.2145094398674625\n",
      "validation loss: 2.2322953454179757\n",
      "train loss: 2.217370745546315\n",
      "validation loss: 2.2468830751186566\n",
      "train loss: 2.2168428736375074\n",
      "validation loss: 2.251141460371843\n",
      "train loss: 2.2077426703738716\n",
      "validation loss: 2.238241605418521\n",
      "train loss: 2.2170621252596394\n",
      "validation loss: 2.2515688611554916\n",
      "train loss: 2.210320631865298\n",
      "validation loss: 2.2423059424737053\n",
      "train loss: 2.2100646661822636\n",
      "validation loss: 2.2431187185298724\n",
      "train loss: 2.2042346161428377\n",
      "validation loss: 2.2316771991065125\n",
      "train loss: 2.200290863396765\n",
      "validation loss: 2.2239873460280117\n",
      "train loss: 2.211922069212114\n",
      "validation loss: 2.2469189440914383\n",
      "train loss: 2.202232620939912\n",
      "validation loss: 2.2276976640575947\n",
      "train loss: 2.2016607163183433\n",
      "validation loss: 2.215984010543969\n",
      "train loss: 2.2084678084021627\n",
      "validation loss: 2.225649490174907\n",
      "train loss: 2.1992159574104972\n",
      "validation loss: 2.2359082547364144\n",
      "train loss: 2.197587120176024\n",
      "validation loss: 2.2203453851329344\n",
      "train loss: 2.1954363356226407\n",
      "validation loss: 2.2148254118132313\n",
      "train loss: 2.189960321379407\n",
      "validation loss: 2.2154198039634254\n",
      "train loss: 2.197484530385654\n",
      "validation loss: 2.2238211137526243\n",
      "train loss: 2.192418170305272\n",
      "validation loss: 2.2190049525675555\n",
      "train loss: 2.197320454376824\n",
      "validation loss: 2.230381266488645\n",
      "train loss: 2.189245747769436\n",
      "validation loss: 2.220449860604254\n",
      "train loss: 2.1914588400234463\n",
      "validation loss: 2.212829322603411\n",
      "train loss: 2.1862458010462102\n",
      "validation loss: 2.214404904372394\n",
      "train loss: 2.184965683032007\n",
      "validation loss: 2.217675402648058\n",
      "train loss: 2.1885591219760796\n",
      "validation loss: 2.2137046672579825\n",
      "train loss: 2.182571970364045\n",
      "validation loss: 2.208900961088435\n",
      "train loss: 2.1868259901089218\n",
      "validation loss: 2.2178823731830994\n",
      "train loss: 2.1833709928087734\n",
      "validation loss: 2.212108246829712\n",
      "train loss: 2.1794689264534464\n",
      "validation loss: 2.210482783013784\n",
      "train loss: 2.179918202262602\n",
      "validation loss: 2.2189967526949625\n"
     ]
    },
    {
     "data": {
      "image/png": "[encoded data removed]",
      "text/plain": [
       "<Figure size 432x288 with 1 Axes>"
      ]
     },
     "metadata": {
      "needs_background": "light"
     },
     "output_type": "display_data"
    }
   ],
   "source": [
    "n_epochs = 100 #Number of epocs\n",
    "validation_loss = list()\n",
    "train_loss = list()\n",
    "# time0 = time()  \n",
    "for epoch in range(1, n_epochs + 1):\n",
    "    train_model(nn_3l,criterion,loader,optimizer)\n",
    "    train_loss.append(test_model(nn_3l,criterion,loader,optimizer, 'train'))\n",
    "    validation_loss.append(test_model(nn_3l,criterion,loader_test,optimizer))\n",
    "plt.plot(train_loss,'b', label='training loss');\n",
    "plt.plot(validation_loss,'r', label='validation loss');\n",
    "\n",
    "plt.legend();"
   ]
  },
  {
   "cell_type": "code",
   "execution_count": 37,
   "metadata": {},
   "outputs": [
    {
     "ename": "FileNotFoundError",
     "evalue": "[Errno 2] No such file or directory: '/Users/yani/Dropbox/MIT/m2lines/L96_demo/networks/network_3_layers_100_epoches.pth'",
     "output_type": "error",
     "traceback": [
      "\u001b[0;31m---------------------------------------------------------------------------\u001b[0m",
      "\u001b[0;31mFileNotFoundError\u001b[0m                         Traceback (most recent call last)",
      "\u001b[0;32m<ipython-input-37-92e8d53cee38>\u001b[0m in \u001b[0;36m<module>\u001b[0;34m\u001b[0m\n\u001b[1;32m      1\u001b[0m \u001b[0;31m# Save network\u001b[0m\u001b[0;34m\u001b[0m\u001b[0;34m\u001b[0m\u001b[0;34m\u001b[0m\u001b[0m\n\u001b[1;32m      2\u001b[0m \u001b[0mPATH\u001b[0m \u001b[0;34m=\u001b[0m \u001b[0;34m'/Users/yani/Dropbox/MIT/m2lines/L96_demo/networks/network_3_layers_100_epoches.pth'\u001b[0m\u001b[0;34m\u001b[0m\u001b[0;34m\u001b[0m\u001b[0m\n\u001b[0;32m----> 3\u001b[0;31m \u001b[0mtorch\u001b[0m\u001b[0;34m.\u001b[0m\u001b[0msave\u001b[0m\u001b[0;34m(\u001b[0m\u001b[0mnn_3l\u001b[0m\u001b[0;34m.\u001b[0m\u001b[0mstate_dict\u001b[0m\u001b[0;34m(\u001b[0m\u001b[0;34m)\u001b[0m\u001b[0;34m,\u001b[0m \u001b[0mPATH\u001b[0m\u001b[0;34m)\u001b[0m\u001b[0;34m\u001b[0m\u001b[0;34m\u001b[0m\u001b[0m\n\u001b[0m\u001b[1;32m      4\u001b[0m \u001b[0;34m\u001b[0m\u001b[0m\n\u001b[1;32m      5\u001b[0m \u001b[0;31m#Load network\u001b[0m\u001b[0;34m\u001b[0m\u001b[0;34m\u001b[0m\u001b[0;34m\u001b[0m\u001b[0m\n",
      "\u001b[0;32m~/anaconda3/envs/m2lines/lib/python3.7/site-packages/torch/serialization.py\u001b[0m in \u001b[0;36msave\u001b[0;34m(obj, f, pickle_module, pickle_protocol, _use_new_zipfile_serialization)\u001b[0m\n\u001b[1;32m    367\u001b[0m             \u001b[0;32mreturn\u001b[0m\u001b[0;34m\u001b[0m\u001b[0;34m\u001b[0m\u001b[0m\n\u001b[1;32m    368\u001b[0m \u001b[0;34m\u001b[0m\u001b[0m\n\u001b[0;32m--> 369\u001b[0;31m     \u001b[0;32mwith\u001b[0m \u001b[0m_open_file_like\u001b[0m\u001b[0;34m(\u001b[0m\u001b[0mf\u001b[0m\u001b[0;34m,\u001b[0m \u001b[0;34m'wb'\u001b[0m\u001b[0;34m)\u001b[0m \u001b[0;32mas\u001b[0m \u001b[0mopened_file\u001b[0m\u001b[0;34m:\u001b[0m\u001b[0;34m\u001b[0m\u001b[0;34m\u001b[0m\u001b[0m\n\u001b[0m\u001b[1;32m    370\u001b[0m         \u001b[0m_legacy_save\u001b[0m\u001b[0;34m(\u001b[0m\u001b[0mobj\u001b[0m\u001b[0;34m,\u001b[0m \u001b[0mopened_file\u001b[0m\u001b[0;34m,\u001b[0m \u001b[0mpickle_module\u001b[0m\u001b[0;34m,\u001b[0m \u001b[0mpickle_protocol\u001b[0m\u001b[0;34m)\u001b[0m\u001b[0;34m\u001b[0m\u001b[0;34m\u001b[0m\u001b[0m\n\u001b[1;32m    371\u001b[0m \u001b[0;34m\u001b[0m\u001b[0m\n",
      "\u001b[0;32m~/anaconda3/envs/m2lines/lib/python3.7/site-packages/torch/serialization.py\u001b[0m in \u001b[0;36m_open_file_like\u001b[0;34m(name_or_buffer, mode)\u001b[0m\n\u001b[1;32m    232\u001b[0m \u001b[0;32mdef\u001b[0m \u001b[0m_open_file_like\u001b[0m\u001b[0;34m(\u001b[0m\u001b[0mname_or_buffer\u001b[0m\u001b[0;34m,\u001b[0m \u001b[0mmode\u001b[0m\u001b[0;34m)\u001b[0m\u001b[0;34m:\u001b[0m\u001b[0;34m\u001b[0m\u001b[0;34m\u001b[0m\u001b[0m\n\u001b[1;32m    233\u001b[0m     \u001b[0;32mif\u001b[0m \u001b[0m_is_path\u001b[0m\u001b[0;34m(\u001b[0m\u001b[0mname_or_buffer\u001b[0m\u001b[0;34m)\u001b[0m\u001b[0;34m:\u001b[0m\u001b[0;34m\u001b[0m\u001b[0;34m\u001b[0m\u001b[0m\n\u001b[0;32m--> 234\u001b[0;31m         \u001b[0;32mreturn\u001b[0m \u001b[0m_open_file\u001b[0m\u001b[0;34m(\u001b[0m\u001b[0mname_or_buffer\u001b[0m\u001b[0;34m,\u001b[0m \u001b[0mmode\u001b[0m\u001b[0;34m)\u001b[0m\u001b[0;34m\u001b[0m\u001b[0;34m\u001b[0m\u001b[0m\n\u001b[0m\u001b[1;32m    235\u001b[0m     \u001b[0;32melse\u001b[0m\u001b[0;34m:\u001b[0m\u001b[0;34m\u001b[0m\u001b[0;34m\u001b[0m\u001b[0m\n\u001b[1;32m    236\u001b[0m         \u001b[0;32mif\u001b[0m \u001b[0;34m'w'\u001b[0m \u001b[0;32min\u001b[0m \u001b[0mmode\u001b[0m\u001b[0;34m:\u001b[0m\u001b[0;34m\u001b[0m\u001b[0;34m\u001b[0m\u001b[0m\n",
      "\u001b[0;32m~/anaconda3/envs/m2lines/lib/python3.7/site-packages/torch/serialization.py\u001b[0m in \u001b[0;36m__init__\u001b[0;34m(self, name, mode)\u001b[0m\n\u001b[1;32m    213\u001b[0m \u001b[0;32mclass\u001b[0m \u001b[0m_open_file\u001b[0m\u001b[0;34m(\u001b[0m\u001b[0m_opener\u001b[0m\u001b[0;34m)\u001b[0m\u001b[0;34m:\u001b[0m\u001b[0;34m\u001b[0m\u001b[0;34m\u001b[0m\u001b[0m\n\u001b[1;32m    214\u001b[0m     \u001b[0;32mdef\u001b[0m \u001b[0m__init__\u001b[0m\u001b[0;34m(\u001b[0m\u001b[0mself\u001b[0m\u001b[0;34m,\u001b[0m \u001b[0mname\u001b[0m\u001b[0;34m,\u001b[0m \u001b[0mmode\u001b[0m\u001b[0;34m)\u001b[0m\u001b[0;34m:\u001b[0m\u001b[0;34m\u001b[0m\u001b[0;34m\u001b[0m\u001b[0m\n\u001b[0;32m--> 215\u001b[0;31m         \u001b[0msuper\u001b[0m\u001b[0;34m(\u001b[0m\u001b[0m_open_file\u001b[0m\u001b[0;34m,\u001b[0m \u001b[0mself\u001b[0m\u001b[0;34m)\u001b[0m\u001b[0;34m.\u001b[0m\u001b[0m__init__\u001b[0m\u001b[0;34m(\u001b[0m\u001b[0mopen\u001b[0m\u001b[0;34m(\u001b[0m\u001b[0mname\u001b[0m\u001b[0;34m,\u001b[0m \u001b[0mmode\u001b[0m\u001b[0;34m)\u001b[0m\u001b[0;34m)\u001b[0m\u001b[0;34m\u001b[0m\u001b[0;34m\u001b[0m\u001b[0m\n\u001b[0m\u001b[1;32m    216\u001b[0m \u001b[0;34m\u001b[0m\u001b[0m\n\u001b[1;32m    217\u001b[0m     \u001b[0;32mdef\u001b[0m \u001b[0m__exit__\u001b[0m\u001b[0;34m(\u001b[0m\u001b[0mself\u001b[0m\u001b[0;34m,\u001b[0m \u001b[0;34m*\u001b[0m\u001b[0margs\u001b[0m\u001b[0;34m)\u001b[0m\u001b[0;34m:\u001b[0m\u001b[0;34m\u001b[0m\u001b[0;34m\u001b[0m\u001b[0m\n",
      "\u001b[0;31mFileNotFoundError\u001b[0m: [Errno 2] No such file or directory: '/Users/yani/Dropbox/MIT/m2lines/L96_demo/networks/network_3_layers_100_epoches.pth'"
     ]
    }
   ],
   "source": [
    "# Save network\n",
    "PATH = '/Users/yani/Dropbox/MIT/m2lines/L96_demo/networks/network_3_layers_100_epoches.pth'\n",
    "torch.save(nn_3l.state_dict(), PATH)\n",
    "\n",
    "#Load network\n",
    "# path_load = '/Users/yani/Dropbox/MIT/m2lines/L96_demo/networks/network_3_layers_100_epoches.pth'\n",
    "# nn_3l.load_state_dict(torch.load(path_load))\n"
   ]
  },
  {
   "cell_type": "markdown",
   "metadata": {},
   "source": [
    "# Regularization and overfitting"
   ]
  },
  {
   "cell_type": "code",
   "execution_count": null,
   "metadata": {
    "scrolled": true
   },
   "outputs": [],
   "source": [
    "from IPython.display import Image\n",
    "Image(filename='figs/overfitting.png', width=700)\n",
    "# The figure below is taken from Python Machine Learning book by Sebastian Raschka\n"
   ]
  },
  {
   "cell_type": "code",
   "execution_count": null,
   "metadata": {},
   "outputs": [],
   "source": [
    "plt.plot(train_loss,'b', label='training loss');\n",
    "plt.plot(validation_loss,'r', label='validation loss');\n",
    "\n",
    "plt.legend();"
   ]
  },
  {
   "cell_type": "markdown",
   "metadata": {},
   "source": [
    "### Regularization methods are aimed to tackle overfitting. \n",
    "\n",
    "For example, the model on the far right of the plot predicts perfectly on the given set, yet it's not the best choice. Why is that? If you were to gather some new data points, they most likely would not be on that curve in the graph on the right, but would be closer to the curve in the middle graph.\n",
    "\n",
    "\n",
    "\n",
    "All ML algorithms has some form of regularization. \n",
    "\n",
    "### Useful ways to think of regularization:\n",
    "- #### Putting constraints on the model\n",
    "aiming to have a better generalizability (avoid modeling the noise or ''remember'' training data). \n",
    "- #### Adding a term to the loss function so that: Loss = TrainingLoss + Regularization\n",
    "put a penalty for making the model more complex. \n",
    "\n",
    "\n",
    "Very braodly speaking (just to gain intuition) - if we want to reduce the training loss (reduce bias) we should try using a more complex model (if we have enough data) and if we want to reduce overfitting (reduce variace) we should simplify or constraint the model we use (increasing regularization). \n"
   ]
  },
  {
   "cell_type": "markdown",
   "metadata": {},
   "source": [
    "# Regularization of Neural Networks"
   ]
  },
  {
   "cell_type": "markdown",
   "metadata": {},
   "source": [
    "- Dropout (added in the definition of the network). \n",
    "- Early stopping\n",
    "- weight decay (added in the optimizer part - see ?optim.Adam)\n",
    "- Data augmentation (usually for images)"
   ]
  },
  {
   "cell_type": "markdown",
   "metadata": {},
   "source": [
    "#### Weight decay (L2 norm)"
   ]
  },
  {
   "cell_type": "markdown",
   "metadata": {},
   "source": [
    "weight decay is usually defined as a term that’s added directly to the update rule.\n",
    "Namely, to update a certain weight $w$ in the $i+1$ iteration, we would use a modified rule:\n",
    "\n",
    "$w_{i+1} = w_{i} - \\gamma ( \\frac{\\partial L}{\\partial w} + A w_{i})$\n",
    "\n",
    "In practice, this is almost identical to L_2 regularization, though there is some difference (e.g., see [here](https://bbabenko.github.io/weight-decay/))\n",
    "\n",
    "Weight decay is one of the parameters of the optimizer - try ?torch.optim.SGD"
   ]
  },
  {
   "cell_type": "markdown",
   "metadata": {},
   "source": [
    "### Add a weight decay to a network and try to train it again"
   ]
  },
  {
   "cell_type": "code",
   "execution_count": null,
   "metadata": {},
   "outputs": [],
   "source": [
    "n_epochs = 10 #Number of epocs\n",
    "optimizer = optim.Adam(nn_3l.parameters(), lr=0.003,weight_decay=0.1)\n",
    "validation_loss = list()\n",
    "train_loss = list()\n",
    "# time0 = time()  \n",
    "for epoch in range(1, n_epochs + 1):\n",
    "    train_model(nn_3l,criterion,loader,optimizer)\n",
    "    train_loss.append(test_model(nn_3l,criterion,loader,optimizer, 'train'))\n",
    "    validation_loss.append(test_model(nn_3l,criterion,loader_test,optimizer))\n",
    "plt.plot(train_loss,'b', label='training loss');\n",
    "plt.plot(validation_loss,'r', label='validation loss');\n",
    "\n",
    "plt.legend();"
   ]
  },
  {
   "cell_type": "markdown",
   "metadata": {},
   "source": [
    "#### Dropout"
   ]
  },
  {
   "cell_type": "markdown",
   "metadata": {},
   "source": [
    "By dropping a unit out, we mean temporarily removing it from the network while training, along with all its incoming and outgoing connections. \n",
    "See more details [here](http://jmlr.org/papers/v15/srivastava14a.html).\n",
    "It is usually the most useful regularization that we can do in fully connected layers\n",
    "\n",
    "In convolutional layers dropout makes less sense - see more discussion [here](https://www.kdnuggets.com/2018/09/dropout-convolutional-networks.html)\n"
   ]
  },
  {
   "cell_type": "code",
   "execution_count": null,
   "metadata": {
    "scrolled": true
   },
   "outputs": [],
   "source": [
    "#Image taken from: http://www.jmlr.org/papers/volume15/srivastava14a/srivastava14a.pdf\n",
    "Image(filename='figs/Dropout_layer.png', width=700)\n",
    "\n",
    "\n"
   ]
  },
  {
   "cell_type": "code",
   "execution_count": null,
   "metadata": {},
   "outputs": [],
   "source": [
    "#define network structure in pytorch \n",
    "\n",
    "class Net_ANN_dropout(nn.Module):\n",
    "    def __init__(self,dropout= 0.2):\n",
    "        super(Net_ANN_dropout, self).__init__()\n",
    "        self.linear1 = nn.Linear(8, 16)\n",
    "        self.linear2 = nn.Linear(16, 16)\n",
    "        self.linear3 = nn.Linear(16, 8)\n",
    "        self.drop = nn.Dropout(dropout) #regularization method to prevent overfitting. \n",
    "\n",
    "    def forward(self, x):\n",
    "        x = FF.relu(self.linear1(x))\n",
    "        x = self.drop(x)\n",
    "        x = FF.relu(self.linear2(x))\n",
    "        x = self.drop(x)\n",
    "        x = self.linear3(x)\n",
    "        return x"
   ]
  },
  {
   "cell_type": "code",
   "execution_count": null,
   "metadata": {},
   "outputs": [],
   "source": [
    "nn_3l_drop = Net_ANN_dropout(dropout = 0.8).double() #Exagerated dropout... \n",
    "n_epochs = 10 #Number of epocs\n",
    "optimizer = optim.Adam(nn_3l_drop.parameters(), lr=0.01)\n",
    "validation_loss = list()\n",
    "train_loss = list()\n",
    "# time0 = time()  \n",
    "for epoch in range(1, n_epochs + 1):\n",
    "    train_model(nn_3l_drop,criterion,loader,optimizer)\n",
    "    train_loss.append(test_model(nn_3l_drop,criterion,loader,optimizer, 'train'))\n",
    "    validation_loss.append(test_model(nn_3l_drop,criterion,loader_test,optimizer))\n",
    "plt.plot(train_loss,'b', label='training loss');\n",
    "plt.plot(validation_loss,'r', label='validation loss');\n",
    "\n",
    "plt.legend();"
   ]
  },
  {
   "cell_type": "markdown",
   "metadata": {},
   "source": [
    "# How to choose a learning rate?"
   ]
  },
  {
   "cell_type": "markdown",
   "metadata": {},
   "source": [
    "### Visuzlization of the loss function"
   ]
  },
  {
   "cell_type": "code",
   "execution_count": null,
   "metadata": {
    "scrolled": true
   },
   "outputs": [],
   "source": [
    "#Image taken from: https://papers.nips.cc/paper/7875-visualizing-the-loss-landscape-of-neural-nets.pdf\n",
    "Image(filename='figs/Loss_function_vis_NN.jpeg', width=400)\n"
   ]
  },
  {
   "cell_type": "markdown",
   "metadata": {},
   "source": [
    "## Finding an optimal learning rate"
   ]
  },
  {
   "cell_type": "code",
   "execution_count": null,
   "metadata": {},
   "outputs": [],
   "source": [
    "nn_3l_LR = Net_ANN().double()\n",
    "optimizer = optim.Adam(nn_3l_LR.parameters(), lr=1e-7)\n",
    "lr_finder = LRFinder(nn_3l_LR, optimizer, criterion)\n",
    "lr_finder.range_test(loader, end_lr=100, num_iter=200)\n",
    "lr_finder.plot() # to inspect the loss-learning rate graph\n",
    "lr_finder.reset() # to reset the model and optimizer to their initial state"
   ]
  },
  {
   "cell_type": "code",
   "execution_count": null,
   "metadata": {},
   "outputs": [],
   "source": [
    "n_epochs = 20 #Number of epocs\n",
    "optimizer = optim.Adam(nn_3l_LR.parameters(), lr=0.01)\n",
    "validation_loss = list()\n",
    "train_loss = list()\n",
    "# time0 = time()  \n",
    "for epoch in range(1, n_epochs + 1):\n",
    "    train_model(nn_3l_LR,criterion,loader,optimizer)\n",
    "    train_loss.append(test_model(nn_3l_LR,criterion,loader,optimizer, 'train'))\n",
    "    validation_loss.append(test_model(nn_3l_LR,criterion,loader_test,optimizer))\n",
    "plt.plot(train_loss,'b', label='training loss');\n",
    "plt.plot(validation_loss,'r', label='validation loss');\n",
    "\n",
    "plt.legend();"
   ]
  },
  {
   "cell_type": "markdown",
   "metadata": {},
   "source": [
    "### We converged much faster than before. "
   ]
  },
  {
   "cell_type": "code",
   "execution_count": null,
   "metadata": {},
   "outputs": [],
   "source": [
    "optimizer = optim.Adam(nn_3l_LR.parameters(), lr=1e-7)\n",
    "lr_finder = LRFinder(nn_3l_LR, optimizer, criterion)\n",
    "lr_finder.range_test(loader, end_lr=100, num_iter=200)\n",
    "lr_finder.plot() # to inspect the loss-learning rate graph\n",
    "lr_finder.reset() # to reset the model and optimizer to their initial state"
   ]
  },
  {
   "cell_type": "code",
   "execution_count": null,
   "metadata": {},
   "outputs": [],
   "source": [
    "n_epochs = 10 #Number of epocs\n",
    "optimizer = optim.Adam(nn_3l_LR.parameters(), lr=0.001)\n",
    "validation_loss = list()\n",
    "train_loss = list()\n",
    "# time0 = time()  \n",
    "for epoch in range(1, n_epochs + 1):\n",
    "    train_model(nn_3l_LR,criterion,loader,optimizer)\n",
    "    train_loss.append(test_model(nn_3l_LR,criterion,loader,optimizer, 'train'))\n",
    "    validation_loss.append(test_model(nn_3l_LR,criterion,loader_test,optimizer))\n",
    "plt.plot(train_loss,'b', label='training loss');\n",
    "plt.plot(validation_loss,'r', label='validation loss');\n",
    "\n",
    "plt.legend();"
   ]
  },
  {
   "cell_type": "markdown",
   "metadata": {},
   "source": [
    "## I won't talk about but I recommend reading:"
   ]
  },
  {
   "cell_type": "markdown",
   "metadata": {},
   "source": [
    "## BatchNormalization "
   ]
  },
  {
   "cell_type": "markdown",
   "metadata": {},
   "source": [
    "Normalize the activation values such that the hidden representation doesn’t vary drastically and also helps us to get improvement in the training speed."
   ]
  },
  {
   "cell_type": "markdown",
   "metadata": {},
   "source": [
    "## Cyclic learning rate"
   ]
  },
  {
   "cell_type": "markdown",
   "metadata": {},
   "source": [
    "### To understand cyclic learning rates and the One cycle policy - read more [here](https://sgugger.github.io/the-1cycle-policy.html)"
   ]
  },
  {
   "cell_type": "code",
   "execution_count": null,
   "metadata": {},
   "outputs": [],
   "source": [
    "# Image taken from - https://docs.fast.ai/callbacks.one_cycle.html\n",
    "Image(filename='figs/onecycle_params.png', width=700)"
   ]
  },
  {
   "cell_type": "markdown",
   "metadata": {},
   "source": [
    "To use cyclic learning rates: ?optim.lr_scheduler.CyclicLR"
   ]
  },
  {
   "cell_type": "code",
   "execution_count": null,
   "metadata": {},
   "outputs": [],
   "source": []
  }
 ],
 "metadata": {
  "kernelspec": {
   "display_name": "Python 3",
   "language": "python",
   "name": "python3"
  },
  "language_info": {
   "codemirror_mode": {
    "name": "ipython",
    "version": 3
   },
   "file_extension": ".py",
   "mimetype": "text/x-python",
   "name": "python",
   "nbconvert_exporter": "python",
   "pygments_lexer": "ipython3",
   "version": "3.7.5"
  }
 },
 "nbformat": 4,
 "nbformat_minor": 4
}
