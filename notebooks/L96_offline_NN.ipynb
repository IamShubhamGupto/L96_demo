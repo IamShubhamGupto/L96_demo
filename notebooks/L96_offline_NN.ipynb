{
 "cells": [
  {
   "cell_type": "markdown",
   "id": "c0d2675f-796a-4466-a76a-c9a354518d1b",
   "metadata": {
    "user_expressions": []
   },
   "source": [
    "# Using Neural Networks for L96 Parameterization: Offline Training"
   ]
  },
  {
   "cell_type": "markdown",
   "id": "aa918476-598e-4ec0-9d9c-b2fd20d2e699",
   "metadata": {
    "user_expressions": []
   },
   "source": [
    "## Outline:\n",
    "In this notebook, we'll apply the concepts learned in the [previous notebook](https://m2lines.github.io/L96_demo/notebooks/gradient_decent.html) to the parameterization task in L96 model, which was highlighted [here](https://m2lines.github.io/L96_demo/notebooks/gcm-analogue.ipynb) and [here](https://m2lines.github.io/L96_demo/notebooks/gcm-parameterization-problem.ipynb). \n",
    "\n",
    "As a succinct reminder, the parameterization task requires us to represent the impact of the fast scales on the slow scales as a function of the slow scales. Machine learning provides us a way to learn complex non-linear functional dependecies from a given data set. In this notebook we will show :\n",
    "- how the data to train a machine learning model is generated. \n",
    "- how a ML model can be trained to learn functional dependence in this data. "
   ]
  },
  {
   "cell_type": "markdown",
   "id": "e2c6ba62-1b14-408c-ac05-146c96a130b3",
   "metadata": {},
   "source": [
    "## Generating the data"
   ]
  },
  {
   "cell_type": "code",
   "execution_count": null,
   "id": "129a18f4-f3d5-4503-8c0b-e81895ee2406",
   "metadata": {},
   "outputs": [],
   "source": [
    "%matplotlib inline\n",
    "import time\n",
    "from IPython.display import Image\n",
    "\n",
    "import matplotlib.pyplot as plt\n",
    "import numpy as np\n",
    "import torch\n",
    "import torch.utils.data as Data\n",
    "from torch import nn, optim\n",
    "\n",
    "from L96_model import L96, RK2, RK4, EulerFwd, L96_eq1_xdot, integrate_L96_2t"
   ]
  },
  {
   "cell_type": "code",
   "execution_count": null,
   "id": "79044f9a-ac01-415a-a88a-0385718c8b02",
   "metadata": {},
   "outputs": [],
   "source": [
    "# Ensuring reproducibility\n",
    "np.random.seed(14)\n",
    "torch.manual_seed(14);"
   ]
  },
  {
   "cell_type": "markdown",
   "id": "d555922c-f58e-4343-8cf0-1ad027046c6a",
   "metadata": {},
   "source": [
    "### Build the *Real World* to Generate the Ground Truth Dataset\n",
    "\n",
    "Remeber from the [notebook](https://m2lines.github.io/L96_demo/notebooks/gcm-analogue.ipynb) that described the parameterization problem, the impact of the fast time scales on the slow time scales is captured by the term:\n",
    "\n",
    "\\begin{align}\n",
    "\\underbrace{ \n",
    "\\left( \\frac{hc}{b} \\right) \\sum_{j=0}^{J-1} Y_{j,k}\n",
    "}_{=U_k}.\n",
    "\\end{align}\n",
    "\n",
    "The goal of the parameterization is to express $U_k$ purely as a function of the large scale variables $P(X_k)$. In the previous [notebook](https://m2lines.github.io/L96_demo/notebooks/gcm-analogue.ipynb) this was done using simple polynomial functions with specified form, but here we will estimate this function using a more general function - neural network.  \n",
    "\n",
    "First we need to run a two time-scale model and generate data for $U_k$ and $X_k$.\n",
    "We initialise the L96 two time-scale model using $K$ (set to 8) values of $X$ and $J$ (set to 32) values of $Y$ for each $X$. The model is run for 20,000 timesteps to generate the dataset for the neural network."
   ]
  },
  {
   "cell_type": "code",
   "execution_count": null,
   "id": "ae0738e8-fd6f-4f0c-befa-aa5db97f4521",
   "metadata": {},
   "outputs": [],
   "source": [
    "time_steps = 20000\n",
    "forcing, dt, T = 18, 0.01, 0.01 * time_steps\n",
    "\n",
    "# Create a \"real world\" with K=8 and J=32\n",
    "W = L96(8, 32, F=forcing)"
   ]
  },
  {
   "cell_type": "markdown",
   "id": "a8df4af7-7283-4a64-8a3d-cbb7dada4363",
   "metadata": {},
   "source": [
    "### Run the simulation to generate data\n",
    "\n",
    "Using the *real world* model created above we generate the training data (input and output pairs) for the neural network by running the simulation and writing out the large scale state and subgrid tendencies."
   ]
  },
  {
   "cell_type": "code",
   "execution_count": null,
   "id": "8ae3e6b4-269f-4ac5-82e8-366eb2fb6dee",
   "metadata": {},
   "outputs": [],
   "source": [
    "# The effect of Y on X is `xy_true`\n",
    "X_true, _, _, xy_true = W.run(dt, T, store=True, return_coupling=True)\n",
    "\n",
    "# Change the data type to `float32` in order to avoid doing type conversions later on\n",
    "X_true, xy_true = X_true.astype(np.float32), xy_true.astype(np.float32)"
   ]
  },
  {
   "cell_type": "markdown",
   "id": "c4586ecb-43a0-4764-9b6f-c968be40eca9",
   "metadata": {},
   "source": [
    "### Split the Data into Training and Testing Set\n",
    "\n",
    "We split the data into 80% for training and 20% for testing. In more conventional ML tasks one may split the data into training, validation and testing sets, but for simplicity we do not do this here."
   ]
  },
  {
   "cell_type": "code",
   "execution_count": null,
   "id": "9f99293a-df6d-4d60-b177-03fc2f8ae361",
   "metadata": {},
   "outputs": [],
   "source": [
    "# Number of time steps for validation\n",
    "val_size = 4000\n",
    "\n",
    "# Training Data\n",
    "X_true_train = X_true[:-val_size, :]  # Flatten because we first use single input as a sample\n",
    "subgrid_tend_train = xy_true[:-val_size, :]\n",
    "\n",
    "# Test Data\n",
    "X_true_test = X_true[-val_size:, :]\n",
    "subgrid_tend_test = xy_true[-val_size:, :]"
   ]
  },
  {
   "cell_type": "code",
   "execution_count": null,
   "id": "bded5ed8-7cd8-4c50-940b-93c37d82d984",
   "metadata": {},
   "outputs": [],
   "source": [
    "X_true_train.shape"
   ]
  },
  {
   "cell_type": "markdown",
   "id": "7ac52993-712b-4aba-8012-7ca83a4d605e",
   "metadata": {},
   "source": [
    "## The Dataloaders \n",
    "\n",
    "In ML work flows it is common practice to create ways to access the data that allow for easily iterating over the whole data set. This is done because usually the datasets are very large, and breaking the data up into smaller chunks (batches) that can be loaded into memory (GPU or CPU) one at a time allow us to train using the whole dataset (see more details [here](https://machinelearningmastery.com/gentle-introduction-mini-batch-gradient-descent-configure-batch-size/) and [here](https://pytorch.org/tutorials/beginner/data_loading_tutorial.html)). \n",
    "\n",
    "`Dataset` and `Dataloader` classes in PyTorch provide a very convenient way of iterating over a dataset while training a deep learning model."
   ]
  },
  {
   "cell_type": "code",
   "execution_count": null,
   "id": "1e751231-d506-4bee-982d-c7522a4481e4",
   "metadata": {},
   "outputs": [],
   "source": [
    "# Number of sample in each batch\n",
    "BATCH_SIZE = 2000 \n",
    "# this batch size would result in 2 test batches and 8 training batches."
   ]
  },
  {
   "cell_type": "markdown",
   "id": "4615518a-e6d8-4a9d-ad05-b334fd7f8224",
   "metadata": {},
   "source": [
    "Define the X (state), Y (subgrid tendency) pairs for the linear regression local network."
   ]
  },
  {
   "cell_type": "code",
   "execution_count": null,
   "id": "060e3982-1791-418e-bf8d-81475da84a50",
   "metadata": {},
   "outputs": [],
   "source": [
    "local_dataset = Data.TensorDataset(\n",
    "    torch.from_numpy(np.reshape(X_true_train, -1)),\n",
    "    torch.from_numpy(np.reshape(subgrid_tend_train, -1)),\n",
    ")\n",
    "\n",
    "local_loader = Data.DataLoader(\n",
    "    dataset=local_dataset, batch_size=BATCH_SIZE, shuffle=True\n",
    ")"
   ]
  },
  {
   "cell_type": "markdown",
   "id": "5d9ef6f0-9441-49c5-8cea-904c992d75c1",
   "metadata": {},
   "source": [
    "Define the dataloader for the test set."
   ]
  },
  {
   "cell_type": "code",
   "execution_count": null,
   "id": "3eec82d6-91e3-4851-993f-fa28836af5d5",
   "metadata": {},
   "outputs": [],
   "source": [
    "local_dataset_test = Data.TensorDataset(\n",
    "    torch.from_numpy(np.reshape(X_true_test, -1)),\n",
    "    torch.from_numpy(np.reshape(subgrid_tend_test, -1)),\n",
    ")\n",
    "\n",
    "local_loader_test = Data.DataLoader(\n",
    "    dataset=local_dataset_test, batch_size=BATCH_SIZE, shuffle=True\n",
    ")"
   ]
  },
  {
   "cell_type": "markdown",
   "id": "33ff24b3-f8c9-4b5e-a36f-82d6b0f177d1",
   "metadata": {},
   "source": [
    "Display a batch of samples from the dataset."
   ]
  },
  {
   "cell_type": "code",
   "execution_count": null,
   "id": "8527ff9a-01c8-419a-9ca4-c28a38a54b88",
   "metadata": {},
   "outputs": [],
   "source": [
    "# Iterating over the data to get one batch\n",
    "data_iterator = iter(local_loader)\n",
    "X_iter, subgrid_tend_iter = next(data_iterator)\n",
    "\n",
    "print(\"X (State):\\n\", X_iter)\n",
    "print(\"\\nY (Subgrid Tendency):\\n\", subgrid_tend_iter)\n",
    "\n",
    "plt.figure(dpi=150)\n",
    "plt.plot(X_iter, subgrid_tend_iter, \".\")\n",
    "plt.xlabel(\"State - X\", fontsize=20)\n",
    "plt.ylabel(\"Subgrid tendency - U\", fontsize=20);\n",
    "plt.xlim([-12, 16])"
   ]
  },
  {
   "cell_type": "markdown",
   "id": "edfeefb9-cfb5-44d9-b258-a8701ce4e4c7",
   "metadata": {},
   "source": [
    "Clearly there is a relationship between $U_k$ and $X_k$, we plan to learn this with the help of ML models."
   ]
  },
  {
   "cell_type": "markdown",
   "id": "5c54b68a-bae5-4bce-b4f0-9bdb7f4235bc",
   "metadata": {},
   "source": [
    "## The *local* ML models\n",
    "\n",
    "Here we show how a few different machine learning models can be setup. These models will predict the $U_k$ at a specific $k$ using the $X_k$ as the same $k$, and so may be considered local. Later we will consider non-local models, which predict $U_k$ at specific $k$ using $X_k$ at multiple locations (values of $k$). \n",
    "\n",
    "We will consider a linear regression network and a non-linear fully connected neural network (FCNN) here. "
   ]
  },
  {
   "cell_type": "markdown",
   "id": "ed3e53bd-fb12-4aad-bcff-be495935ef80",
   "metadata": {},
   "source": [
    "### Linear regression network"
   ]
  },
  {
   "cell_type": "code",
   "execution_count": null,
   "id": "eed1ac73-a213-4d2c-81af-d74b093d2ac2",
   "metadata": {},
   "outputs": [],
   "source": [
    "class LinearRegression(nn.Module):\n",
    "    def __init__(self):\n",
    "        super().__init__()\n",
    "        self.linear1 = nn.Linear(1, 1)  # A single input and a single output\n",
    "\n",
    "    def forward(self, x):\n",
    "        # This method is automatically executed when\n",
    "        # we call a object of this class\n",
    "        x = self.linear1(x)\n",
    "        return x"
   ]
  },
  {
   "cell_type": "code",
   "execution_count": null,
   "id": "3c9a3d2f-7f95-4906-a3b0-dd2ecf81822d",
   "metadata": {},
   "outputs": [],
   "source": [
    "linear_network = LinearRegression()\n",
    "linear_network"
   ]
  },
  {
   "cell_type": "markdown",
   "id": "1f5abff9-0d16-4bcb-a929-f39c010a4b92",
   "metadata": {},
   "source": [
    "### Fully connected neural network (FCNN)"
   ]
  },
  {
   "cell_type": "code",
   "execution_count": null,
   "id": "10044fa0-de73-4240-be0f-55bb30af2513",
   "metadata": {},
   "outputs": [],
   "source": [
    "class FCNN(nn.Module):\n",
    "    def __init__(self):\n",
    "        super().__init__()\n",
    "        self.linear1 = nn.Linear(1, 16)  # 8 inputs\n",
    "        self.linear2 = nn.Linear(16, 16)\n",
    "        self.linear3 = nn.Linear(16, 1)  # 8 outputs\n",
    "\n",
    "        self.relu = nn.ReLU()\n",
    "\n",
    "    def forward(self, x):\n",
    "        x = self.relu(self.linear1(x))\n",
    "        x = self.relu(self.linear2(x))\n",
    "        x = self.linear3(x)\n",
    "        return x"
   ]
  },
  {
   "cell_type": "code",
   "execution_count": null,
   "id": "e4e55f54-c315-4aba-b00f-85e00812f75d",
   "metadata": {},
   "outputs": [],
   "source": [
    "fcnn_network = FCNN()\n",
    "fcnn_network"
   ]
  },
  {
   "cell_type": "markdown",
   "id": "1287a0d4-f7e0-4a4f-bbee-3666ff2c1adc",
   "metadata": {},
   "source": [
    "We do not expect the linear regression to do well in this problem, as the dependence seenin the figure is clearly more complex than a simple line. We include it here as a baseline. \n",
    "\n",
    "For the FCNN the non-linearity is introduced by adding the activation function, which is chosen to be ReLU in this case. The number of layers and width of layers are hyperparameters, which the practitioner needs to set based on some trial and error (or systematic hyperparameter sweeps). The goal is to make the network as complex as needed but no more."
   ]
  },
  {
   "cell_type": "markdown",
   "id": "b3b259d3-3478-4a9c-b23c-8e9a8042404a",
   "metadata": {},
   "source": [
    "```{admonition} Need for Activation Functions\n",
    "\n",
    "**If layers of a neural network contain only fully-connected layers (matrix multiplications), everything would be linear.**\n",
    "\n",
    "For example, if we have an input $x$ along with 2 layers of weight matrices $A$ and $B$ then the neural network would compute the output as $A(Bx)$, which is linear (in $x$). Thus, in order to introduce some non-linearity we use activation functions.\n",
    "\n",
    "Now the same neural network as above with an activation function $\\phi$ would compute the output as $A(\\phi(Bx))$.\n",
    "```\n",
    "\n",
    "`````{admonition} ReLU Activation Function\n",
    "\n",
    "```{figure} figs/relu_activation_function.png\n",
    ":name: relu-activation\n",
    "```\n",
    "\n",
    "The `ReLU` activation function is just a $max(0,X)$ function (The image is referenced from [this blog](https://analyticsindiamag.com/most-common-activation-functions-in-neural-networks-and-rationale-behind-it/)). Even a function as simple as this enables a typical NN to be a nonlinear function of the inputs!\n",
    "`````"
   ]
  },
  {
   "cell_type": "markdown",
   "id": "419f6fd5-0055-4583-8677-ae31ac9953e9",
   "metadata": {},
   "source": [
    "**Test forward function**  \n",
    "Below we test to see if the models can return an output given an input. Since at this point the models have not been trained (parameters have not been optimized) the resulting output is just a random number. "
   ]
  },
  {
   "cell_type": "code",
   "execution_count": null,
   "id": "2b236b7f-dd79-4f88-8e8a-e60bfbc2a045",
   "metadata": {},
   "outputs": [],
   "source": [
    "net_input = torch.randn(1, 1)\n",
    "out_linear = linear_network(net_input)\n",
    "out_fcnn = fcnn_network(net_input)\n",
    "print(f\"The output of the random input from the linear network is: {out_linear.item():.4f}\")\n",
    "print(f\"The output of the random input from the fcnn is: {out_fcnn.item():.4f}\")"
   ]
  },
  {
   "cell_type": "markdown",
   "id": "6471c571-5ee4-48ef-bfce-e2349bcdfe5b",
   "metadata": {},
   "source": [
    "## The Loss Function\n",
    "\n",
    "Apart from the architecutre of the model, the other major component of any machine learning task is the loss function. This is basically some quantitative way to test the skill of the model - whether the model does a good job or not at estimating the output. During the optimization of the weights, the weights are changed such that the model skill is improved.\n",
    "\n",
    "For our task, we choose the *Mean Squared Error* metric as our loss function. However, other loss functions may be used or need to be adapted to the problem. "
   ]
  },
  {
   "cell_type": "code",
   "execution_count": null,
   "id": "7c42de43-27de-4896-91ee-caf695f212df",
   "metadata": {},
   "outputs": [],
   "source": [
    "# MSE loss function\n",
    "loss_fn = torch.nn.MSELoss()"
   ]
  },
  {
   "cell_type": "code",
   "execution_count": null,
   "id": "d33c7361-f717-4a74-b296-075f398d7072",
   "metadata": {},
   "outputs": [],
   "source": [
    "# Load the input and output pair from the data loader\n",
    "X_tmp = next(iter(local_loader))\n",
    "\n",
    "# Predict the output\n",
    "y_tmp_linear = linear_network(torch.unsqueeze(X_tmp[0], 1))\n",
    "y_tmp_fcnn   = fcnn_network(torch.unsqueeze(X_tmp[0], 1))\n",
    "\n",
    "# Calculate the MSE loss\n",
    "loss_linear = loss_fn(y_tmp_linear, torch.unsqueeze(X_tmp[1], 1))\n",
    "print(f\"Linear network MSE Loss: {loss_linear.item():.4f}\")\n",
    "\n",
    "loss_fcnn = loss_fn(y_tmp_fcnn, torch.unsqueeze(X_tmp[1], 1))\n",
    "print(f\"FCNN MSE Loss: {loss_fcnn.item():.4f}\")"
   ]
  },
  {
   "cell_type": "markdown",
   "id": "1eb9cd59-ef25-48e8-9522-355fdda85d07",
   "metadata": {},
   "source": [
    "Since at this point neither of the networks have been trained, the resultant loss is just arbitrary. If one model is doing better than the other, it is just a result of random chance. "
   ]
  },
  {
   "cell_type": "markdown",
   "id": "98716e66-ed26-48f4-8509-9f25e0ddeebf",
   "metadata": {},
   "source": [
    "## The Optimizer\n",
    "\n",
    "Now in order to make the network learn (optimize the parameters), we need an algorithm that will update its weights depending on the loss function. This is achieved by using an optimizer. The implementation of many optimizers can be found in PyTorch. The choice of which optimizer we choose might be very important as it will determine how fast the network will be able to learn.\n",
    "\n",
    "In the example below, we show one of the popular optimizers `Adam`. The main hyperparameter in this optimizer is the **learning rate**. \n",
    "\n",
    "\n",
    "Another popular optimizer that may be useful in some situations is Stochastic Gradient Descent or `SGD`. \n",
    "The SGD optimizer consists of two major hyperparameters called the **learning rate** and **momentum**. The **learning rate** determines the magnitude with which the weights of the network update thus making it crucial to choose the correct learning rate ($LR$) otherwise the network will either fail to train, or take much longer to converge. **Momentum** determines how much of the loss function gradients are determined based on the past iteration vs the latest iteration. \n",
    "To read about momentum, check out this [blog post](https://towardsdatascience.com/stochastic-gradient-descent-with-momentum-a84097641a5d).\n",
    "\n",
    "The primary task of the optimizer is to update the parameters in little steps such that the loss function is reduced. In equations, the  effective value of the gradient $V$ (direction in which loss function reduces) at step $t$ in SGD with momentum ($\\beta$) is determined by\n",
    "\n",
    "\\begin{equation}\n",
    "V_t = \\beta V_{t-1} + (1-\\beta) \\nabla_w L(W,X,y)\n",
    "\\end{equation}\n",
    "\n",
    "and the updates to the parameters will be\n",
    "\n",
    "\\begin{equation}\n",
    "w^{new} = w^{old} - LR * V_t\n",
    "\\end{equation}"
   ]
  },
  {
   "cell_type": "markdown",
   "id": "4b28b5f2-11b1-4c30-b385-471d7a6c9e79",
   "metadata": {},
   "source": [
    "See in the code sample below how taking a step with the optimizer changes the model parameters. In what comes next we will take these steps to reach a parameter state such that the loss function is as small as possible. "
   ]
  },
  {
   "cell_type": "code",
   "execution_count": null,
   "id": "d46984b4-14c6-43ff-b143-c936282b6a24",
   "metadata": {},
   "outputs": [],
   "source": [
    "learning_rate = 0.003\n",
    "momentum = 0.1"
   ]
  },
  {
   "cell_type": "code",
   "execution_count": null,
   "id": "7ed28fd9-441e-4e01-9e3c-7571ff7a311b",
   "metadata": {},
   "outputs": [],
   "source": [
    "# switch the commenting out below to try a different optimizer.\n",
    "#optimizer_linear = optim.SGD(linear_network.parameters(), lr=learning_rate, momentum=momentum)\n",
    "optimizer_linear = optim.Adam(linear_network.parameters(), lr=learning_rate)\n",
    "print(\"Before backward pass: \\n\", list(linear_network.parameters())[0].data.numpy())\n",
    "\n",
    "loss_linear.backward(retain_graph=True)\n",
    "optimizer_linear.step()\n",
    "\n",
    "print(\"\\nAfter backward pass: \\n\", list(linear_network.parameters())[0].data.numpy())"
   ]
  },
  {
   "cell_type": "code",
   "execution_count": null,
   "id": "72cdeebe-87c1-49fc-9cba-eacb264bcdf6",
   "metadata": {},
   "outputs": [],
   "source": [
    "#optimizer_fcnn = optim.SGD(fcnn_network.parameters(), lr=learning_rate, momentum=momentum)\n",
    "optimizer_fcnn = optim.Adam(fcnn_network.parameters(), lr=learning_rate)"
   ]
  },
  {
   "cell_type": "markdown",
   "id": "3f28f566-bb81-4d2d-9acc-b24ae80712c8",
   "metadata": {
    "tags": []
   },
   "source": [
    "## Combining it all Together: Training the network"
   ]
  },
  {
   "cell_type": "markdown",
   "id": "fa66f8a8-8c11-4897-b71e-ac06d03271ac",
   "metadata": {},
   "source": [
    "### Define the Training and Test Functions\n",
    "\n",
    "The `train_model` function update the network weight such that the loss is reduced. A single call to this function iterates over all the batches in the dataset, and this single iteration is called an epoch. To do its job this function needs access to the model that needs to be trained, the criterion or the loss function that determines the skill of the model, the data loader that allows the model to access the data, and the optimizer that appropriately adjusts the weights to reduce the loss. Also notice that the model weights are adjusted multiple times in a single epoch - everytime a batch is processed. "
   ]
  },
  {
   "cell_type": "code",
   "execution_count": null,
   "id": "a800f28f-69c5-40eb-9b0c-cb27059f2f32",
   "metadata": {},
   "outputs": [],
   "source": [
    "def train_model(network, criterion, loader, optimizer):\n",
    "    \"\"\"Train the network for one epoch\"\"\"\n",
    "    network.train()\n",
    "\n",
    "    train_loss = 0\n",
    "    for batch_x, batch_y in loader:\n",
    "        # Get predictions\n",
    "        if len(batch_x.shape) == 1:\n",
    "            # This if block is needed to add a dummy dimension if our inputs are 1D\n",
    "            # (where each number is a different sample)\n",
    "            prediction = torch.squeeze(network(torch.unsqueeze(batch_x, 1)))\n",
    "        else:\n",
    "            prediction = network(batch_x)\n",
    "\n",
    "        # Compute the loss\n",
    "        loss = criterion(prediction, batch_y)\n",
    "        train_loss += loss.item()\n",
    "\n",
    "        # Clear the gradients\n",
    "        optimizer.zero_grad()\n",
    "\n",
    "        # Backpropagation to compute the gradients and update the weights\n",
    "        loss.backward()\n",
    "        optimizer.step()\n",
    "\n",
    "    return train_loss / len(loader)"
   ]
  },
  {
   "cell_type": "markdown",
   "id": "08dd95be-0a9e-4214-aced-ca19460217c0",
   "metadata": {},
   "source": [
    "The `test_model` function is meant to test the skill of the model, but does not update the weights to further improve it. "
   ]
  },
  {
   "cell_type": "code",
   "execution_count": null,
   "id": "f963a83c-c7ba-42a6-9642-002e5d254c4b",
   "metadata": {},
   "outputs": [],
   "source": [
    "def test_model(network, criterion, loader):\n",
    "    \"\"\"Test the network\"\"\"\n",
    "    network.eval()  # Evaluation mode (important when having dropout layers)\n",
    "\n",
    "    test_loss = 0\n",
    "    with torch.no_grad():\n",
    "        for batch_x, batch_y in loader:\n",
    "            # Get predictions\n",
    "            if len(batch_x.shape) == 1:\n",
    "                # This if block is needed to add a dummy dimension if our inputs are 1D\n",
    "                # (where each number is a different sample)\n",
    "                prediction = torch.squeeze(network(torch.unsqueeze(batch_x, 1)))\n",
    "            else:\n",
    "                prediction = network(batch_x)\n",
    "\n",
    "            # Compute the loss\n",
    "            loss = criterion(prediction, batch_y)\n",
    "            test_loss += loss.item()\n",
    "\n",
    "        # Get an average loss for the entire dataset\n",
    "        test_loss /= len(loader)\n",
    "\n",
    "    return test_loss"
   ]
  },
  {
   "cell_type": "markdown",
   "id": "3ea21cd1-d42f-44b0-a7b4-4ca1763abeba",
   "metadata": {},
   "source": [
    "The `fit_model` iterates the `train_model` function over multiple epochs, such that the loss is reduced. "
   ]
  },
  {
   "cell_type": "code",
   "execution_count": null,
   "id": "74e8b24a-3107-48b4-8b52-d26776fa95f8",
   "metadata": {},
   "outputs": [],
   "source": [
    "def fit_model(network, criterion, optimizer, train_loader, test_loader, n_epochs):\n",
    "    \"\"\"Train and validate the network\"\"\"\n",
    "    train_losses, test_losses = [], []\n",
    "    start_time = time.time()\n",
    "    for epoch in range(1, n_epochs + 1):\n",
    "        train_loss = train_model(network, criterion, train_loader, optimizer)\n",
    "        test_loss = test_model(network, criterion, test_loader)\n",
    "        train_losses.append(train_loss)\n",
    "        test_losses.append(test_loss)\n",
    "    end_time = time.time()\n",
    "    print(f\"Training completed in {int(end_time - start_time)} seconds.\")\n",
    "\n",
    "    return train_losses, test_losses"
   ]
  },
  {
   "cell_type": "markdown",
   "id": "7a3c15e2-c4ea-4de7-9fe6-2f5cbc656f03",
   "metadata": {},
   "source": [
    "### Train the networks\n",
    "\n",
    "Finally we have all the components ready and we can train our models. \n"
   ]
  },
  {
   "cell_type": "code",
   "execution_count": null,
   "id": "447887a6-4c7e-4146-b7c9-0962594ad997",
   "metadata": {},
   "outputs": [],
   "source": [
    "#Epochs refer to the number of times we iterate over the entire training data during training.\n",
    "n_epochs = 15"
   ]
  },
  {
   "cell_type": "code",
   "execution_count": null,
   "id": "7e39cc83-2cb4-4e54-95cf-e11b6240dcfb",
   "metadata": {},
   "outputs": [],
   "source": [
    "train_loss_linear, test_loss_linear = fit_model(\n",
    "    linear_network, loss_fn, optimizer_linear, local_loader, local_loader_test, n_epochs\n",
    ")"
   ]
  },
  {
   "cell_type": "code",
   "execution_count": null,
   "id": "e455c22a-5cf7-4d16-b060-49a747612b60",
   "metadata": {},
   "outputs": [],
   "source": [
    "train_loss_fcnn, test_loss_fcnn = fit_model(\n",
    "    fcnn_network, loss_fn, optimizer_fcnn, local_loader, local_loader_test, n_epochs\n",
    ")"
   ]
  },
  {
   "cell_type": "code",
   "execution_count": null,
   "id": "46e10b48-3253-4ef8-8223-945f15726d24",
   "metadata": {},
   "outputs": [],
   "source": [
    "plt.figure(dpi=150)\n",
    "\n",
    "plt.plot(train_loss_linear, label='Linear train loss')\n",
    "plt.plot(test_loss_linear, linestyle='--', label='Linear test loss')\n",
    "\n",
    "plt.plot(train_loss_fcnn, label='FCNN train loss')\n",
    "plt.plot(test_loss_fcnn, linestyle='--', label='FCNN test loss')\n",
    "\n",
    "plt.legend()\n",
    "plt.xlabel(\"Iteration\")\n",
    "plt.ylabel(\"Loss\")\n",
    "plt.yscale('log')\n",
    "plt.title(\"Loss vs Iteration\")\n",
    "plt.show();"
   ]
  },
  {
   "cell_type": "markdown",
   "id": "9615e08d-6399-49e4-9c7f-0cbd171d084f",
   "metadata": {},
   "source": [
    "### Compare Predictions with Ground Truth"
   ]
  },
  {
   "cell_type": "code",
   "execution_count": null,
   "id": "84aab879-0337-4b5e-8dc9-cdb9497c9103",
   "metadata": {},
   "outputs": [],
   "source": [
    "predictions_linear = linear_network(\n",
    "    torch.unsqueeze(torch.from_numpy(np.reshape(X_true_test[:, 1], -1)), 1)\n",
    ")\n",
    "predictions_fcnn = fcnn_network(\n",
    "    torch.unsqueeze(torch.from_numpy(np.reshape(X_true_test[:, 1], -1)), 1)\n",
    ")\n",
    "\n",
    "\n",
    "plt.figure(dpi=150)\n",
    "plt.plot(predictions_linear.detach().numpy()[0:1000], label=\"Predicted from linear model\")\n",
    "plt.plot(predictions_fcnn.detach().numpy()[0:1000], label=\"Predicted from FCNN model\")\n",
    "plt.plot(subgrid_tend_test[:1000, 1], label=\"True Values\", color='k', linestyle='--')\n",
    "plt.legend(fontsize=7);"
   ]
  },
  {
   "cell_type": "code",
   "execution_count": null,
   "id": "20ebb0e1-4e83-4c11-9d90-f3c828c52802",
   "metadata": {},
   "outputs": [],
   "source": [
    "X_points = torch.from_numpy(np.linspace(-10, 15, 31).astype(np.float32))\n",
    "\n",
    "linear_pred = linear_network(torch.unsqueeze(X_points, 1)).detach().numpy()\n",
    "\n",
    "fcnn_pred = fcnn_network(torch.unsqueeze(X_points, 1)).detach().numpy()\n",
    "\n",
    "\n",
    "plt.figure(dpi=150)\n",
    "plt.hist2d(np.reshape(X_true, -1),  np.reshape(xy_true, -1), bins=91, cmap='Reds')\n",
    "\n",
    "plt.plot(X_points, linear_pred, \"-\", label='Linear predictions')\n",
    "plt.plot(X_points, fcnn_pred, \"-\", label='FCNN predictions', color='g')\n",
    "\n",
    "plt.legend()\n",
    "plt.xlim([-12, 16])\n",
    "plt.xlabel(\"State - X\", fontsize=20)\n",
    "plt.ylabel(\"Subgrid tendency - U\", fontsize=20);"
   ]
  },
  {
   "cell_type": "markdown",
   "id": "7aae0beb-27e2-4db2-95be-875f01cabfb4",
   "metadata": {},
   "source": [
    "As seen above, the FCNN does a better job at learning the relationship between the $X_k$ and $U_k$, when compared to the linear model.\n",
    "Can we do even better? "
   ]
  },
  {
   "cell_type": "markdown",
   "id": "e8732e89-6841-460f-98f4-84b2e7f3d73a",
   "metadata": {},
   "source": [
    "## The *non-local* ML models"
   ]
  },
  {
   "cell_type": "markdown",
   "id": "286cb239-4868-47a1-84e7-35618970d09a",
   "metadata": {},
   "source": [
    "It is possible that sub-grid tendency at $k$ depends on the neighbouring points (as shown in figure below), or points farther away. "
   ]
  },
  {
   "cell_type": "code",
   "execution_count": null,
   "id": "f66b3446-9a0f-4ecc-8038-937266a30fda",
   "metadata": {},
   "outputs": [],
   "source": [
    "plt.figure(figsize=(12, 4), dpi=150)\n",
    "\n",
    "plt.subplot(131)\n",
    "plt.hist2d(np.reshape(np.roll(X_true, -1, axis=1), -1),  np.reshape(xy_true, -1), bins=91, cmap='Reds');\n",
    "plt.xlim([-12, 16])\n",
    "plt.xlabel(\"State - $X_{k-1}$\", fontsize=20)\n",
    "plt.ylabel(\"Subgrid tendency - $U_{k}$\", fontsize=20);\n",
    "\n",
    "plt.subplot(132)\n",
    "plt.hist2d(np.reshape(X_true, -1),  np.reshape(xy_true, -1), bins=91, cmap='Reds');\n",
    "plt.xlim([-12, 16])\n",
    "plt.xlabel(\"State - $X_{k}$\", fontsize=20)\n",
    "plt.ylabel(\"Subgrid tendency - $U_{k}$\", fontsize=20);\n",
    "\n",
    "plt.subplot(133)\n",
    "plt.hist2d(np.reshape(np.roll(X_true, 1, axis=1), -1),  np.reshape(xy_true, -1), bins=91, cmap='Reds');\n",
    "plt.xlim([-12, 16])\n",
    "plt.xlabel(\"State - $X_{k+1}$\", fontsize=20)\n",
    "plt.ylabel(\"Subgrid tendency - $U_{k}$\", fontsize=20);\n",
    "\n",
    "plt.tight_layout()"
   ]
  },
  {
   "cell_type": "markdown",
   "id": "4836e71a-5afe-4d51-bc58-ff6d68c74e7a",
   "metadata": {},
   "source": [
    "So to make more accurate model, one may want to build a model that learns relationship between not only the specific k point but also other k points. \n",
    "\n",
    "We will do this with the help of a non-local model, which uses all $X_k$s to predict the $U_k$ at all 8 $k$s.\n",
    "\n",
    "To build this model, we need to change two things: \n",
    "- The data sets need to be slightly altered, such that each sample for the ML model will be composed of all eight k points. \n",
    "- The architecture of the neural network will have to be altered to take 8 inputs and produce 8 outputs.  \n",
    "\n",
    "but apart from these changes, the rest of the training process is the same. "
   ]
  },
  {
   "cell_type": "code",
   "execution_count": null,
   "id": "0681dc84-64ca-4c81-9dc5-eae2293cc1d9",
   "metadata": {},
   "outputs": [],
   "source": [
    "# Training Dataset\n",
    "# ----------------\n",
    "nlocal_data_train = Data.TensorDataset(\n",
    "    torch.from_numpy(X_true_train),\n",
    "    torch.from_numpy(subgrid_tend_train),\n",
    ")\n",
    "nlocal_loader_train = Data.DataLoader(\n",
    "    dataset=nlocal_data_train, batch_size=BATCH_SIZE, shuffle=True\n",
    ")\n",
    "\n",
    "\n",
    "# Test Dataset\n",
    "# ------------\n",
    "nlocal_data_test = Data.TensorDataset(\n",
    "    torch.from_numpy(X_true_test), torch.from_numpy(subgrid_tend_test)\n",
    ")\n",
    "nlocal_loader_test = Data.DataLoader(\n",
    "    dataset=nlocal_data_test, batch_size=BATCH_SIZE, shuffle=True)"
   ]
  },
  {
   "cell_type": "code",
   "execution_count": null,
   "id": "89867c3f-914a-4504-bf16-c03f9c26874a",
   "metadata": {},
   "outputs": [],
   "source": [
    "class NonLocal_FCNN(nn.Module):\n",
    "    def __init__(self):\n",
    "        super().__init__()\n",
    "        self.linear1 = nn.Linear(8, 16)  # 8 inputs\n",
    "        self.linear2 = nn.Linear(16, 16)\n",
    "        self.linear3 = nn.Linear(16, 8)  # 8 outputs\n",
    "\n",
    "        self.relu = nn.ReLU()\n",
    "\n",
    "    def forward(self, x):\n",
    "        x = self.relu(self.linear1(x))\n",
    "        x = self.relu(self.linear2(x))\n",
    "        x = self.linear3(x)\n",
    "        return x"
   ]
  },
  {
   "cell_type": "code",
   "execution_count": null,
   "id": "c79eeaa0-2682-4b0a-84bb-89b0b2145cb4",
   "metadata": {},
   "outputs": [],
   "source": [
    "nonlocal_fcnn_network = NonLocal_FCNN()"
   ]
  },
  {
   "cell_type": "code",
   "execution_count": null,
   "id": "df7bb279-7eff-4760-b0ba-0e2bad2bc676",
   "metadata": {},
   "outputs": [],
   "source": [
    "#optimizer_nonlocal_fcnn = optim.SGD(nonlocal_fcnn_network.parameters(),\n",
    "#                                    lr=learning_rate, momentum=momentum)\n",
    "optimizer_nonlocal_fcnn = optim.Adam(nonlocal_fcnn_network.parameters(), lr=learning_rate)"
   ]
  },
  {
   "cell_type": "code",
   "execution_count": null,
   "id": "6222280d-2ecb-4d00-97c6-969fad2360d5",
   "metadata": {},
   "outputs": [],
   "source": [
    "n_epochs = 120\n",
    "train_loss_nonlocal, test_loss_nonlocal = fit_model(\n",
    "    nonlocal_fcnn_network, loss_fn, optimizer_nonlocal_fcnn, \n",
    "    nlocal_loader_train, nlocal_loader_test, n_epochs\n",
    ")"
   ]
  },
  {
   "cell_type": "code",
   "execution_count": null,
   "id": "93184419-875c-4b07-b5bd-38f528bea6dd",
   "metadata": {},
   "outputs": [],
   "source": [
    "plt.figure(dpi=150)\n",
    "\n",
    "plt.plot(train_loss_nonlocal, label='Non-local model train loss')\n",
    "plt.plot(test_loss_nonlocal, linestyle='--', label='Non-local model test loss')\n",
    "\n",
    "plt.plot(train_loss_fcnn, label='local FCNN train loss')\n",
    "plt.plot(test_loss_fcnn, linestyle='--', label='local FCNN test loss')\n",
    "\n",
    "plt.legend()\n",
    "plt.xlabel(\"Epochs\")\n",
    "plt.ylabel(\"Loss\")\n",
    "plt.yscale('log')\n",
    "plt.title(\"Loss vs Epochs\")\n",
    "plt.grid()\n",
    "plt.show();"
   ]
  },
  {
   "cell_type": "code",
   "execution_count": null,
   "id": "b4541ce4-fb05-4153-9413-9da1618ca1c9",
   "metadata": {},
   "outputs": [],
   "source": [
    "k_loc = 1\n",
    "predictions_linear = linear_network(\n",
    "    torch.unsqueeze(torch.from_numpy(np.reshape(X_true_test[:, k_loc], -1)), 1)\n",
    ")\n",
    "predictions_fcnn = fcnn_network(\n",
    "    torch.unsqueeze(torch.from_numpy(np.reshape(X_true_test[:, k_loc], -1)), 1)\n",
    ")\n",
    "\n",
    "predictions_nonlocal_fcnn = nonlocal_fcnn_network(torch.from_numpy(X_true_test))\n",
    "\n",
    "\n",
    "plt.figure(dpi=150)\n",
    "plt.plot(predictions_linear.detach().numpy()[0:1000], label=\"Predicted from linear model\")\n",
    "plt.plot(predictions_fcnn.detach().numpy()[0:1000], label=\"Predicted from local FCNN model\")\n",
    "plt.plot(predictions_nonlocal_fcnn.detach().numpy()[0:1000,k_loc], label=\"Predicted from non-local FCNN model\")\n",
    "plt.plot(subgrid_tend_test[:1000, 1], label=\"True Values\", color='k', linestyle='--')\n",
    "plt.legend(fontsize=7);"
   ]
  },
  {
   "cell_type": "markdown",
   "id": "dad69d69-960f-4d24-8ba1-676f619da1cf",
   "metadata": {},
   "source": [
    "As seen above, the non-local model does about as good as the local model. It may be possible to improve the skill of the model by adjusting the hyperparameters associated with the training or model architecture, but we did not pursue this much more in this notebook. "
   ]
  },
  {
   "cell_type": "markdown",
   "id": "d208ea6f-a2ff-49e1-9369-a26a7095483c",
   "metadata": {},
   "source": [
    "## Save the networks\n",
    "\n",
    "Now we save the weights that were learnt here, so we can use them directly later without having to retrain the neural network. "
   ]
  },
  {
   "cell_type": "code",
   "execution_count": null,
   "id": "85b2a542-4012-4be3-a897-7219c0ce71ae",
   "metadata": {},
   "outputs": [],
   "source": [
    "# Save network\n",
    "save_path = \"./networks/non_local_FCNN.pth\"\n",
    "torch.save(nonlocal_fcnn_network.state_dict(), save_path)\n",
    "\n",
    "save_path = \"./networks/local_FCNN.pth\"\n",
    "torch.save(fcnn_network.state_dict(), save_path)\n",
    "\n",
    "save_path = \"./networks/linear.pth\"\n",
    "torch.save(linear_network.state_dict(), save_path)"
   ]
  },
  {
   "cell_type": "markdown",
   "id": "4ab018fe-819f-4dd2-a208-161ea0368d82",
   "metadata": {},
   "source": [
    "## Summary\n",
    "\n",
    "In this notebook we showed how machine learning based models, particularly fully connected neural networks, can be trained to learn the relationship between the sub-grid fluxes and the slow variables. This pattern learning exercise is sometimes referred to as offline training, as the skill of the ML model in an actual simulation of the slow variables (gcm) has not been evaluated. In the next notebook we show how these models trained offline can be incorporated into the gcm version of the L96 model, and how its skill can be evaluated."
   ]
  },
  {
   "cell_type": "code",
   "execution_count": null,
   "id": "839b02a1-c8f5-4dbd-91b8-cbe2f8d138aa",
   "metadata": {},
   "outputs": [],
   "source": []
  }
 ],
 "metadata": {
  "kernelspec": {
   "display_name": "Python 3 (ipykernel)",
   "language": "python",
   "name": "python3"
  },
  "language_info": {
   "codemirror_mode": {
    "name": "ipython",
    "version": 3
   },
   "file_extension": ".py",
   "mimetype": "text/x-python",
   "name": "python",
   "nbconvert_exporter": "python",
   "pygments_lexer": "ipython3",
   "version": "3.10.9"
  }
 },
 "nbformat": 4,
 "nbformat_minor": 5
}
