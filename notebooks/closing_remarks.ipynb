{
 "cells": [
  {
   "cell_type": "markdown",
   "id": "fe395e90-f86b-4251-9300-b80389a26d69",
   "metadata": {},
   "source": [
    "# Outlook\n",
    "\n",
    "This jupyter book ...."
   ]
  },
  {
   "cell_type": "code",
   "execution_count": null,
   "id": "ee52d6aa-a3bb-4adc-ba27-226bd9c638c6",
   "metadata": {},
   "outputs": [],
   "source": []
  }
 ],
 "metadata": {
  "kernelspec": {
   "display_name": "Python 3 (ipykernel)",
   "language": "python",
   "name": "python3"
  },
  "language_info": {
   "codemirror_mode": {
    "name": "ipython",
    "version": 3
   },
   "file_extension": ".py",
   "mimetype": "text/x-python",
   "name": "python",
   "nbconvert_exporter": "python",
   "pygments_lexer": "ipython3",
   "version": "3.10.9"
  }
 },
 "nbformat": 4,
 "nbformat_minor": 5
}
