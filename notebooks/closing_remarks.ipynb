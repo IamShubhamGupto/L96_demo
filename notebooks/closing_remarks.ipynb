{
 "cells": [
  {
   "cell_type": "markdown",
   "id": "fe395e90-f86b-4251-9300-b80389a26d69",
   "metadata": {},
   "source": [
    "# Outlook\n",
    "\n",
    "With this JupyterBook, we have designed an introduction to the problem of Machine learning for improving climate models. The Lorenz 96 model is a perfect benchmark to illustrate several ideas and concepts, but remains too simple to present a real test case for complex problems in climate physics and modeling. \n",
    "\n",
    "M2LInES has been pushing the boundaries of climate model development through the innovative use of scientific machine learning models to explore: \n",
    "New subgrid physics parameterizations in the ocean, sea-ice, and atmosphere (add bunch of refs to paper but most importantly code repos (even if no papers are out) from ECRs) \n",
    "New corrections from data assimilation for climate model components (add refs again)\n",
    "Development of innovative architecture and algorithms for multiscale machine learning related to  turbulence in oceans and atmosphere (e.g., Frezat, Otness, Pedersen, Ross)  \n",
    "\n",
    "These novel techniques and data-driven models are now making their way into global climate models (add ref), illustrating the importance of bringing climate physics, scientific computing with modem machine learning techniques. \n"
   ]
  },
  {
   "cell_type": "code",
   "execution_count": null,
   "id": "ee52d6aa-a3bb-4adc-ba27-226bd9c638c6",
   "metadata": {},
   "outputs": [],
   "source": []
  }
 ],
 "metadata": {
  "kernelspec": {
   "display_name": "Python 3 (ipykernel)",
   "language": "python",
   "name": "python3"
  },
  "language_info": {
   "codemirror_mode": {
    "name": "ipython",
    "version": 3
   },
   "file_extension": ".py",
   "mimetype": "text/x-python",
   "name": "python",
   "nbconvert_exporter": "python",
   "pygments_lexer": "ipython3",
   "version": "3.10.12"
  }
 },
 "nbformat": 4,
 "nbformat_minor": 5
}
