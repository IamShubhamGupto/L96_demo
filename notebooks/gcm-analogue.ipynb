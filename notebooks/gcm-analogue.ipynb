{
 "cells": [
  {
   "attachments": {},
   "cell_type": "markdown",
   "id": "08d71bbc",
   "metadata": {},
   "source": [
    "# The Lorenz-96 GCM Analog\n",
    "\n",
    "In this notebook we bring together the two time-scale model and the single time-scale model, using the latter as an analog for how we use general circulation models to model the climate system at a finite resolution with incomplete numerical models.\n",
    "\n",
    "\n",
    "## The real world\n",
    "\n",
    "We will now describe experiments with the \"two time-scale\" model equations 1 and 2 from {doc}`L96-two-scale-description`.\n",
    "The values for the parameters $F$, $J$ and $K$ are fixed based on {cite:t}`Wilks2005` such that:\n",
    "- $F=18$ or $20$ ,\n",
    "- $K=8$ ,\n",
    "- $J=32$ .\n",
    "\n",
    "The value chosen for the parameter $F$ is set large enough to ensure chaotic behavior. We also use these reference values for the $h$, $b$ and $c$ parameters:\n",
    "- $h=1$ , \n",
    "- $b=10$ , \n",
    "- $c=10$ .\n",
    "\n",
    "With this particular choice of parameter values, one model time unit (MTU) is approximately equivalent to five atmospheric days. This estimate is obtained by comparing error-doubling times in the Lorenz-96 model and the real atmosphere {cite:p}`Lorenz1995`.\n",
    "\n",
    "In the following code, we solve the Lorenz-96 system using an accurate time-stepping scheme (RK4 with sufficiently small $\\Delta t$). We also plot the obtained solution for the $X_k$ and $Y_{j,k}$ variables."
   ]
  },
  {
   "cell_type": "code",
   "execution_count": null,
   "id": "7f0d7a3f",
   "metadata": {},
   "outputs": [],
   "source": [
    "import numpy as np\n",
    "import matplotlib.pyplot as plt\n",
    "from L96_model import L96\n",
    "from L96_model import L96_eq1_xdot"
   ]
  },
  {
   "cell_type": "code",
   "execution_count": null,
   "id": "1d6f4844",
   "metadata": {},
   "outputs": [],
   "source": [
    "np.random.seed(23)\n",
    "W = L96(8, 32)\n",
    "\n",
    "%time X,Y,t = W.run(0.01, 20.)"
   ]
  },
  {
   "cell_type": "code",
   "execution_count": null,
   "id": "1a01ce7b",
   "metadata": {},
   "outputs": [],
   "source": [
    "plt.figure(dpi=150)\n",
    "plt.contourf(W.k, t, X)\n",
    "plt.xlabel(\"k\")\n",
    "plt.ylabel(\"t\")\n",
    "plt.title(\"$X_k(t)$\");"
   ]
  },
  {
   "cell_type": "code",
   "execution_count": null,
   "id": "a98bcc03",
   "metadata": {},
   "outputs": [],
   "source": [
    "plt.figure(dpi=150)\n",
    "plt.contourf(W.j / W.J, t, Y, levels=np.linspace(-1, 1, 10))\n",
    "plt.xlabel(\"k+j/J\")\n",
    "plt.ylabel(\"t\")\n",
    "plt.title(\"$Y_{j,k}(t)$\")\n",
    "yl = plt.ylim(7, 9);"
   ]
  },
  {
   "cell_type": "code",
   "execution_count": null,
   "id": "9bfc9ab3",
   "metadata": {},
   "outputs": [],
   "source": [
    "plt.figure(dpi=150)\n",
    "plt.contourf(W.k, t, X)\n",
    "plt.xlabel(\"k\")\n",
    "plt.ylabel(\"t\")\n",
    "plt.title(\"$X_k(t)$\")\n",
    "plt.ylim(yl);"
   ]
  },
  {
   "attachments": {},
   "cell_type": "markdown",
   "id": "f63cb015",
   "metadata": {},
   "source": [
    "## Analog for a general circulation model (GCM)\n",
    "\n",
    "In this study, the two-scale Lorenz-96 system introduced above is treated as the \"truth\" or \"real-world\" model which we aim to forecast or simulate. The physical equations of motion of the system describing the atmosphere dynamics are known. However, it is not feasible to explicitly solve these equations within the Global Climate Models (GCM) due to the unresolved smallest scales and limited computational resources. Given this constraint for GCM, the Lorenz-96 system is commonly treated as the full (or \"truth\") model, while a forecast (or an approximate) model is constructed by replacing the coupling terms between the slow and fast variables ($\\left( \\frac{hc}{b} \\right) \\sum_{j=0}^{J-1} Y_{j,k}$) with a sub-grid parameterization tendency that we note $U_k$, $k=1,\\ldots,k$. The one time-scale Lorenz-96 equation corresponding to such an approximate model can be expressed as follows:\n",
    "\n",
    "\\begin{align}\n",
    "\\frac{d}{dt} X_k\n",
    "&= - X_{k-1} \\left( X_{k-2} - X_{k+1} \\right) - X_k + F - \\underbrace{ \n",
    "\\left( \\frac{hc}{b} \\right) \\sum_{j=0}^{J-1} Y_{j,k}\n",
    "}_{=U_k} \\ .\n",
    "\\end{align}"
   ]
  },
  {
   "attachments": {},
   "cell_type": "markdown",
   "id": "fc65effa",
   "metadata": {},
   "source": [
    "## The parametization $P(X_k)$\n",
    "\n",
    "We consider the particular choice of modeling the unknown parameterization of the \"unresolved processes\" with a plynomial approximation such that the one time-scale equation of the Lorenz-96 model can be written as:\n",
    "\\begin{align}\n",
    "\\frac{d}{dt} X_k\n",
    "&= - X_{k-1} \\left( X_{k-2} - X_{k+1} \\right) - X_k + F - P\\left( X_k \\right) \\ .\n",
    "\\end{align}\n",
    "**NOTE**: $U_k$ is a function of $Y$ while $P(X_k)$ is only based on the values of $X_i$ and has no dependency on $Y$.\n",
    "The sign of the slope of $P(X_k)$ determines the sign of the feedback.\n",
    "\n",
    "Examples of such a parameterization include the form proposed by\n",
    "[Wilks (2005)](https://rmets.onlinelibrary.wiley.com/doi/abs/10.1256/qj.04.03): $P(X_k)=b_0 + b_1 X_k + b_2 X_k^2 + b_3 X_k^3 + b_4 X_k^4 + e_k$ where $e_k$ is a stochastic component. One could also use a lower-order polynomial as suggested by\n",
    "[Arnold (2013)](https://royalsocietypublishing.org/doi/10.1098/rsta.2011.0479): $P(X_k)=b_0 + b_1 X_k + b_2 X_k^2 + b_3 X_k^3 + e_k$.\n",
    "\n",
    "With the \"real world\" system in hand, we can \"observe\" the sub-grid forcing on the large scale and we model the actual coupling, $U_k$, with the polynomial function $P(X_k)$.\n",
    "\n",
    "In the following code, we solve the one time-scale Lorenz-96 system using an inaccurate time-stepping (Euler-forward with only-just stable $\\Delta t$) and an unknown parameterization of the \"unresolved processes\", $P(X_k)$."
   ]
  },
  {
   "cell_type": "code",
   "execution_count": null,
   "id": "934f3a28",
   "metadata": {},
   "outputs": [],
   "source": [
    "%time X, Y, t = W.run(0.05, 200.)"
   ]
  },
  {
   "cell_type": "code",
   "execution_count": null,
   "id": "ff240f58",
   "metadata": {},
   "outputs": [],
   "source": [
    "X_copy = X\n",
    "U_sample = (W.h * W.c / W.b) * Y.reshape((Y.shape[0], W.K, W.J)).sum(axis=-1)\n",
    "p = np.polyfit(X_copy.flatten(), U_sample.flatten(), 1)\n",
    "print(\"Poly coeffs:\", p)"
   ]
  },
  {
   "attachments": {},
   "cell_type": "markdown",
   "id": "ed0a0e4b",
   "metadata": {},
   "source": [
    "We now compare the results obtained with a linear polynomial approximation, [Wilks (2005)'](https://rmets.onlinelibrary.wiley.com/doi/abs/10.1256/qj.04.03) polynomial parameterization and the \"truth\" values of the coupling terms."
   ]
  },
  {
   "cell_type": "code",
   "execution_count": null,
   "id": "0dc52a43",
   "metadata": {},
   "outputs": [],
   "source": [
    "plt.figure(dpi=150)\n",
    "plt.plot(X_copy[::50, :], U_sample[::50, :], \".\")\n",
    "plt.xlabel(\"$X_k$\")\n",
    "plt.ylabel(r\"$\\frac{hc}{b}\\sum_j Y_{j,k}$\")\n",
    "x = np.linspace(-12, 18)\n",
    "p18 = [0.000707, -0.0130, -0.0190, 1.59, 0.275]  # Polynomial from Wilks, 2005\n",
    "plt.plot(x, np.polyval(p18, x), label=\"$P_4(X_k)$ - Wilks, 2005\")\n",
    "plt.plot(x, np.polyval(p, x), \"--\", label=\"$P_1(X_k)$\")\n",
    "plt.legend();"
   ]
  },
  {
   "cell_type": "code",
   "execution_count": null,
   "id": "06794e2b",
   "metadata": {},
   "outputs": [],
   "source": [
    "plt.figure(dpi=150)\n",
    "plt.hist2d(X_copy.flatten(), U_sample.flatten(), bins=50)\n",
    "plt.xlabel(\"$X_k$\")\n",
    "plt.ylabel(r\"$\\frac{hc}{b}\\sum_j Y_{j,k}$\")\n",
    "x = np.linspace(-12, 18, 100)\n",
    "p18 = [0.000707, -0.0130, -0.0190, 1.59, 0.275]  # Polynomial from Wilks, 2005\n",
    "plt.plot(x, np.polyval(p18, x), label=\"$P_4(X_k)$ - Wilks, 2005\")\n",
    "plt.plot(x, np.polyval(p, x), \"--\", label=\"$P_1(X_k)$\")\n",
    "plt.plot(\n",
    "    x,\n",
    "    np.minimum(1.5, x - 0.5) + 2.2 * np.sqrt(np.maximum(0, x - 1.5)),\n",
    "    label=\"Ineptias theory\",\n",
    ")\n",
    "plt.legend();"
   ]
  },
  {
   "attachments": {},
   "cell_type": "markdown",
   "id": "e42cd286",
   "metadata": {},
   "source": [
    "## The \"GCM\" model\n",
    "\n",
    "Next, we compare the predictions obtained with the different models: \n",
    "- \"Real world\": corresponding to the \"truth\" model goverened by the full two time-scale Lorenz-96 system.\n",
    "- GCM without parameterization: corresponding to the one time-scale Lorenz-96 system without any the coupling term. We use a forward-Euler scheme to integrate the model forward.\n",
    "- GCM with our parameterization: corresponding to the one time-scale Lorenz-96 system with the linear polynomial approximation of the coupling terms as obtained above.\n",
    "- GCM with [Wilks (2005)](https://rmets.onlinelibrary.wiley.com/doi/abs/10.1256/qj.04.03) parameterization: corresponding to the one time-scale Lorenz-96 system with a third-order polynomial approximation of the coupling terms."
   ]
  },
  {
   "cell_type": "code",
   "execution_count": null,
   "id": "724df9e2",
   "metadata": {},
   "outputs": [],
   "source": [
    "def GCM(X0, F, dt, nt, param=[0]):\n",
    "    time, hist, X = dt * np.arange(nt), np.zeros((nt, len(X0))) * np.nan, X0.copy()\n",
    "\n",
    "    for n in range(nt):\n",
    "        X = X + dt * (L96_eq1_xdot(X, F) - np.polyval(param, X))\n",
    "        if np.abs(X).max() > 1e3:\n",
    "            break\n",
    "        hist[n], time[n] = X, dt * (n + 1)\n",
    "    return hist, time"
   ]
  },
  {
   "cell_type": "code",
   "execution_count": null,
   "id": "9579b622",
   "metadata": {},
   "outputs": [],
   "source": [
    "np.random.seed(13)\n",
    "T = 5\n",
    "X_true, Y_true, T_true = W.randomize_IC().run(0.05, T)\n",
    "X_init, dt, F_mod = X_true[0] + 0.0 * np.random.randn(W.K), 0.002, W.F + 0.0\n",
    "X_gcm1, T_gcm1 = GCM(X_init, F_mod, dt, int(T / dt))\n",
    "X_gcm2, T_gcm2 = GCM(X_init, F_mod, dt, int(T / dt), param=p)\n",
    "X_gcm3, T_gcm3 = GCM(X_init, F_mod, dt, int(T / dt), param=p18)"
   ]
  },
  {
   "cell_type": "code",
   "execution_count": null,
   "id": "1bb832df",
   "metadata": {},
   "outputs": [],
   "source": [
    "plt.figure(dpi=150, figsize=(17, 4))\n",
    "lims = {\"vmin\": -12, \"vmax\": 12, \"levels\": np.linspace(-12, 12, 12)}\n",
    "plt.subplot(141)\n",
    "plt.contourf(W.k, T_true + t[-1], X_true, **lims)\n",
    "plt.xlabel(\"$k$\")\n",
    "plt.ylabel(\"$t$\")\n",
    "plt.title(\"Real world\")\n",
    "plt.subplot(142)\n",
    "plt.contourf(W.k, T_gcm1 + t[-1], X_gcm1, **lims)\n",
    "plt.xlabel(\"$k$\")\n",
    "plt.ylabel(\"$t$\")\n",
    "plt.title(\"GCM without parameterization\")\n",
    "plt.subplot(143)\n",
    "plt.contourf(W.k, T_gcm3 + t[-1], X_gcm2, **lims)\n",
    "plt.xlabel(\"$k$\")\n",
    "plt.ylabel(\"$t$\")\n",
    "plt.title(\"GCM with our parameterization\")\n",
    "plt.subplot(144)\n",
    "plt.contourf(W.k, T_gcm2 + t[-1], X_gcm3, **lims)\n",
    "plt.xlabel(\"$k$\")\n",
    "plt.ylabel(\"$t$\")\n",
    "plt.title(\"GCM with Wilks' parameterization\");"
   ]
  },
  {
   "cell_type": "markdown",
   "id": "aed7579a",
   "metadata": {},
   "source": [
    "The next plot shows the temporal evolution of the variable $X_3$ obtained with the four models listed above."
   ]
  },
  {
   "cell_type": "code",
   "execution_count": null,
   "id": "f5815467",
   "metadata": {},
   "outputs": [],
   "source": [
    "k = 3\n",
    "plt.figure(dpi=150)\n",
    "plt.plot(T_true + t[-1], X_true[:, k], \"--\", label=\"Real world\")\n",
    "plt.plot(T_gcm1 + t[-1], X_gcm1[:, k], \":\", label=\"GCM without parameterization\")\n",
    "plt.plot(T_gcm1 + t[-1], X_gcm2[:, k], label=\"GCM with our parameterization\")\n",
    "plt.plot(T_gcm1 + t[-1], X_gcm3[:, k], label=\"GCM with Wilks parameterization\")\n",
    "plt.xlabel(\"$t$\")\n",
    "plt.ylabel(\"$X_3(t)$\")\n",
    "plt.legend(fontsize=7, loc=1)\n",
    "plt.ylim(-10, 25);"
   ]
  },
  {
   "attachments": {},
   "cell_type": "markdown",
   "id": "c200d831",
   "metadata": {},
   "source": [
    "## Model error\n",
    "\n",
    "We consider the following five sources of error:\n",
    "\n",
    "1. Missing physics: which is modeled with a GCM without parameterization that corresponds to the one time-scale Lorenz-96 system without any the coupling term.\n",
    "2. Poorly parameterized unresolved physics: which is studied by considering a first-order and third-order polynomial approximations of the coupling terms:\n",
    "    \\begin{equation*}\n",
    "    P_4 \\rightarrow P_1\n",
    "    \\end{equation*}\n",
    "3. Unknown forcing: which is modeled by adding an error to the forcing term:\n",
    "    \\begin{equation*}\n",
    "    F \\rightarrow F + error\n",
    "    \\end{equation*}\n",
    "4. Numerical approximation: which is studied by increasing the time-step:\n",
    "    \\begin{equation*}\n",
    "    \\Delta t \\rightarrow 10 \\Delta t\n",
    "    \\end{equation*}\n",
    "5. Initialization error: which is modeled by adding an error to the initial condition:\n",
    "    \\begin{equation*}\n",
    "    X(t=0) \\rightarrow X(t=0) + error\n",
    "    \\end{equation*}\n",
    "  \n",
    "The next code estimates these sources of error and the next figure shows their relative contributions. For reference, we also plot the error of the GCM using [Wilks (2005)](https://rmets.onlinelibrary.wiley.com/doi/abs/10.1256/qj.04.03)' polynomial coupling term and without any of the sources of error listed above. All errors are evaluated by comparing the GCMs to the \"truth\" model goverened by the full two time-scale Lorenz-96 system."
   ]
  },
  {
   "cell_type": "code",
   "execution_count": null,
   "id": "94266f66",
   "metadata": {},
   "outputs": [],
   "source": [
    "def err(X, X_true):\n",
    "    return np.sqrt(((X - X_true[1:, :]) ** 2).mean(axis=1))"
   ]
  },
  {
   "cell_type": "code",
   "execution_count": null,
   "id": "ac08e1e7",
   "metadata": {},
   "outputs": [],
   "source": [
    "np.random.seed(13)\n",
    "T, dt = 2, 0.001\n",
    "X_tr, _, _ = W.randomize_IC().set_param(0.0001).run(dt, T)\n",
    "X_gcm, T_c = GCM(W.X, W.F, dt, int(T / dt), param=p18)\n",
    "X_frc, T_c = GCM(W.X, W.F + 1.0, dt, int(T / dt), param=p18)\n",
    "X_ic, T_c = GCM(W.X + 0.5, W.F, dt, int(T / dt), param=p18)\n",
    "X_dt, T_dt = GCM(W.X, W.F, 10 * dt, int(T / dt / 10), param=p18)\n",
    "X_phys, _ = GCM(W.X, W.F, dt, int(T / dt))\n",
    "X_prm, _ = GCM(W.X, W.F, dt, int(T / dt), param=p)"
   ]
  },
  {
   "cell_type": "code",
   "execution_count": null,
   "id": "0e27da0b",
   "metadata": {},
   "outputs": [],
   "source": [
    "plt.figure(dpi=150)\n",
    "plt.plot(T_c, err(X_gcm, X_tr), label=\"GCM\")\n",
    "plt.plot(T_c, err(X_phys, X_tr), label=\"Missing physics\")\n",
    "plt.plot(T_c, err(X_prm, X_tr), label=\"Parameterization\")\n",
    "plt.plot(T_c, err(X_frc, X_tr), label=\"Unknown forcing\")\n",
    "plt.plot(T_dt, err(X_dt, X_tr[::10]), label=\"Numerical approximation\")\n",
    "plt.plot(T_c, err(X_ic, X_tr), label=\"Initialization error\")\n",
    "plt.xlabel(\"$t$\")\n",
    "plt.ylabel(\"Error\")\n",
    "plt.legend(fontsize=7);"
   ]
  },
  {
   "attachments": {},
   "cell_type": "markdown",
   "id": "885d4942",
   "metadata": {},
   "source": [
    "For this particular set of parameter values, the removal of the coupling term results in the highest error. The second and third sources of error correspond to the numerical error (introduced by increasing the time-step) and to the error resulting form poorly parameterized unresolved physics (modeled by consideing a first-order polynomial approximation of the coupling terms) respectively.\n",
    "\n",
    "The errors introduced by an unknown forcing and a different initialization are the least among the sources of errors considered."
   ]
  },
  {
   "attachments": {},
   "cell_type": "markdown",
   "id": "43f0dd3f",
   "metadata": {},
   "source": [
    "Next, we run the following two variations of two time-scale Lorenz-96:\n",
    "1. The GCM with our parameterization corresponding to the one time-scale Lorenz-96 system, with the linear polynomial approximation of the coupling terms.\n",
    "2. The GCM with [Wilks (2005)'](https://rmets.onlinelibrary.wiley.com/doi/abs/10.1256/qj.04.03) parameterization corresponding to the one time-scale Lorenz-96 system with a third-order polynomial approximation of the coupling terms."
   ]
  },
  {
   "cell_type": "code",
   "execution_count": null,
   "id": "d0d5f104",
   "metadata": {},
   "outputs": [],
   "source": [
    "# Build a 100-\"day\" climatology\n",
    "\n",
    "T, dt = 100.0, 0.001\n",
    "%time X_clim,Y_clim,T_clim = W.run(0.1, T)\n",
    "%time X1,t1 = GCM(X_init, F_mod, dt, int(T/dt), param=p)\n",
    "%time X2,t2 = GCM(X_init, F_mod, dt, int(T/dt), param=p18)"
   ]
  },
  {
   "cell_type": "markdown",
   "id": "20aec9e7",
   "metadata": {},
   "source": [
    "We compare the mean values of the slow variables $X_k$ , $k=1,\\ldots,K$."
   ]
  },
  {
   "cell_type": "code",
   "execution_count": null,
   "id": "a739eaab",
   "metadata": {},
   "outputs": [],
   "source": [
    "plt.figure(dpi=150)\n",
    "plt.plot(t1, X1.mean(axis=1), label=\"Model w. lin. param., %.2f\" % (X1.mean()))\n",
    "plt.plot(T_clim, X_clim.mean(axis=1), label=\"Real world, %.2f\" % (X_true.mean()))\n",
    "plt.plot(t2, X2.mean(axis=1), label=\"Model w. Wilks, %.2f\" % (X2.mean()))\n",
    "plt.xlabel(\"$t$\")\n",
    "plt.ylabel(r\"$\\frac{1}{K}\\sum_{k=1}^K X_k(t)$\")\n",
    "plt.legend()"
   ]
  },
  {
   "cell_type": "code",
   "execution_count": null,
   "id": "db7c78d1",
   "metadata": {},
   "outputs": [],
   "source": [
    "print(\"\\n\\n       Truth      P1   Wilks\")\n",
    "print(\"mean:  %.3f   %.3f   %.3f\" % (X_true.mean(), X1.mean(), X2.mean()))\n",
    "print(\"std:   %.3f   %.3f   %.3f\" % (X_true.std(), X1.std(), X2.std()))"
   ]
  },
  {
   "cell_type": "markdown",
   "id": "c195d28d",
   "metadata": {},
   "source": [
    "As expected, the [Wilks (2005)](https://rmets.onlinelibrary.wiley.com/doi/abs/10.1256/qj.04.03)' parameterization gives a mean value of the slow variables that is closer to the one obtained with the \"truth\" model compared to the model with linear parameterization since [Wilks (2005)'](https://rmets.onlinelibrary.wiley.com/doi/abs/10.1256/qj.04.03) coupling term is modeled with a third-order polynomial.\n",
    "\n",
    "Next, we consider the model with the full parameterization proposed by [Wilks (2005)](https://rmets.onlinelibrary.wiley.com/doi/abs/10.1256/qj.04.03) by adding a stochastic component such that the parameterization has the following form: $P(X_k)=b_0 + b_1 X_k + b_2 X_k^2 + b_3 X_k^3 + b_4 X_k^4 + e_k$ where $e_k$ is a stochastic component."
   ]
  },
  {
   "cell_type": "code",
   "execution_count": null,
   "id": "fec51c41",
   "metadata": {},
   "outputs": [],
   "source": [
    "def GCMs(X0, F, dt, nt, param=[0], stoch=1.0, phi=0.984):\n",
    "    time, hist, X = dt * np.arange(nt), np.zeros((nt, len(X0))) * np.nan, X0.copy()\n",
    "    ek = np.zeros(X.size)\n",
    "\n",
    "    for n in range(nt):\n",
    "        # Red noise\n",
    "        ek = phi * ek + stoch * np.sqrt((1 - phi) * (1 + phi)) * np.random.randn(X.size)\n",
    "        X = X + dt * (L96_eq1_xdot(X, F) - np.polyval(param, X) + stoch * ek)\n",
    "        if np.abs(X).max() > 1e3:\n",
    "            break\n",
    "        hist[n], time[n] = X, dt * (n + 1)\n",
    "    return hist, time"
   ]
  },
  {
   "cell_type": "code",
   "execution_count": null,
   "id": "2ef1a258",
   "metadata": {},
   "outputs": [],
   "source": [
    "np.random.seed(31)\n",
    "%time X3,t3 = GCMs(X_init, F_mod, dt, int(T/dt), param=p18)\n",
    "\n",
    "print(\"\\n\\n       Truth      P1      P4  P4+stoch\")\n",
    "print(\n",
    "    \"mean:  %.3f   %.3f   %.3f   %.3f\"\n",
    "    % (X_true.mean(), X1.mean(), X2.mean(), X3.mean())\n",
    ")\n",
    "print(\"std:   %.3f   %.3f   %.3f   %.3f\" % (X_true.std(), X1.std(), X2.std(), X3.std()))"
   ]
  },
  {
   "cell_type": "markdown",
   "id": "fcd4a79b",
   "metadata": {},
   "source": [
    "By comparing the mean and standard deviation values of the slow variables $X_k$ , $k=1,\\ldots,K$, we do not see a significant improvement when adding the stochastic component $e_k$ to the third-order polynomial parameterization."
   ]
  },
  {
   "cell_type": "code",
   "execution_count": null,
   "id": "fafb47e7",
   "metadata": {},
   "outputs": [],
   "source": [
    "plt.figure(dpi=150)\n",
    "plt.plot(T_true, X_true.mean(axis=1), label=\"Real world, %.2f\" % (X_true.mean()))\n",
    "plt.plot(t1, X1.mean(axis=1), label=\"Model w. lin. param., %.2f\" % (X1.mean()))\n",
    "plt.plot(t2, X2.mean(axis=1), label=\"Model w. Wilks, %.2f\" % (X2.mean()))\n",
    "plt.plot(t3, X3.mean(axis=1), label=\"Model w. Wilks + stoch, %.2f\" % (X3.mean()))\n",
    "plt.xlabel(\"$t$\")\n",
    "plt.ylabel(r\"$\\frac{1}{K}\\sum_{k=1}^K X_k(t)$\")\n",
    "plt.legend();"
   ]
  },
  {
   "attachments": {},
   "cell_type": "markdown",
   "id": "b33704fc",
   "metadata": {},
   "source": [
    "## Summary\n",
    "\n",
    "In this chapter:\n",
    "- We used the two time-scale Lorenz-96 model to generate a real world, or \"truth\", dataset\n",
    "- We built a \"GCM\" with a rudimentary parameterization of coupling to unresolved processes ($\\left( \\frac{hc}{b} \\right) \\sum_{j=0}^{J-1} Y_{j,k}$)\n",
    "- We deliberately used low-order integration and longer time-step for non-trivial numerical model errors.\n",
    "- We compared the different sources of error due to: \n",
    "  1. Missing physics\n",
    "  2. Poorly parameterized unresolved physics\n",
    "  3. Unknown forcing\n",
    "  4. Time-discretization numerical approximation \n",
    "  5. Initialization error.\n",
    "- We also compared the results obtained:\n",
    "  1. A GCM corresponding to the one time-scale Lorenz-96 system with a linear polynomial parameterization of the coupling terms.\n",
    "  2. A GCM with [Wilks (2005)'](https://rmets.onlinelibrary.wiley.com/doi/abs/10.1256/qj.04.03) parameterization corresponding to the one time-scale Lorenz-96 system with a third-order polynomial approximation of the coupling terms.\n",
    "  3. A GCM with the full [Wilks (2005)'](https://rmets.onlinelibrary.wiley.com/doi/abs/10.1256/qj.04.03) parameterization corresponding to the one time-scale Lorenz-96 system with a third-order polynomial approximation of the coupling terms and a stochastic component."
   ]
  }
 ],
 "metadata": {
  "kernelspec": {
   "display_name": "Python 3 (ipykernel)",
   "language": "python",
   "name": "python3"
  },
  "language_info": {
   "codemirror_mode": {
    "name": "ipython",
    "version": 3
   },
   "file_extension": ".py",
   "mimetype": "text/x-python",
   "name": "python",
   "nbconvert_exporter": "python",
   "pygments_lexer": "ipython3",
   "version": "3.9.12"
  }
 },
 "nbformat": 4,
 "nbformat_minor": 5
}
