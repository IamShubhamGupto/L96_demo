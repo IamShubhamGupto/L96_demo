{
 "cells": [
  {
   "cell_type": "markdown",
   "metadata": {},
   "source": [
    "# Feature Importance"
   ]
  },
  {
   "cell_type": "markdown",
   "metadata": {},
   "source": [
    "## Outline\n",
    "\n",
    "Feature importance is a technique that allows us to identify the most contributing features in a given dataset by some scoring method. The score can be defined by any model fit on the dataset. We score each feature by scrambling its values and fitting the model. The relative change in performance of the model fit on the scrambled feature dataset versus the original feature dataset tells us the importance. "
   ]
  },
  {
   "cell_type": "markdown",
   "metadata": {
    "vscode": {
     "languageId": "plaintext"
    }
   },
   "source": [
    "### Load Dependencies"
   ]
  },
  {
   "cell_type": "code",
   "execution_count": null,
   "metadata": {},
   "outputs": [],
   "source": [
    "import numpy as np\n",
    "import pandas as pd\n",
    "import math\n",
    "\n",
    "import torch\n",
    "from torch.autograd import Variable, grad\n",
    "from torch.autograd.functional import jacobian\n",
    "import torch.nn.functional as F\n",
    "import torch.utils.data as Data\n",
    "from torch import nn, optim\n",
    "\n",
    "from sklearn.metrics import r2_score, mean_squared_error\n",
    "from sklearn.linear_model import LinearRegression\n",
    "from sklearn.inspection import permutation_importance\n",
    "from sklearn.model_selection import train_test_split\n",
    "\n",
    "import matplotlib.pyplot as plt\n",
    "import seaborn as sns\n",
    "\n",
    "from L96_model import (\n",
    "    L96,\n",
    "    L96_eq1_xdot,\n",
    "    integrate_L96_2t,\n",
    "    EulerFwd,\n",
    "    RK2,\n",
    "    RK4,\n",
    ")\n",
    "\n",
    "%matplotlib inline"
   ]
  },
  {
   "cell_type": "code",
   "execution_count": null,
   "metadata": {},
   "outputs": [],
   "source": [
    "np.random.seed(14)  # For reproducibility\n",
    "torch.manual_seed(14)  # For reproducibility"
   ]
  },
  {
   "cell_type": "markdown",
   "metadata": {},
   "source": [
    "### Generate L96 data"
   ]
  },
  {
   "cell_type": "code",
   "execution_count": null,
   "metadata": {},
   "outputs": [],
   "source": [
    "time_steps = 20000\n",
    "Forcing, dt, T = 18, 0.01, 0.01 * time_steps\n",
    "\n",
    "# Create a \"synthetic world\" with K=8 and J=32\n",
    "K = 8\n",
    "J = 32\n",
    "W = L96(K, J, F=Forcing)\n",
    "# Get training data for the neural network.\n",
    "\n",
    "# - Run the true state and output subgrid tendencies (the effect of Y on X is xy_true):\n",
    "X_true, _, _, xy_true = W.run(dt, T, store=True, return_coupling=True)"
   ]
  },
  {
   "cell_type": "code",
   "execution_count": null,
   "metadata": {},
   "outputs": [],
   "source": [
    "def plot_feature_importance(resultdf):\n",
    "    fig = plt.figure()\n",
    "    ax = fig.add_axes([0, 0, 1, 1])\n",
    "    ax.set_xlabel(\"Shift in score\")\n",
    "    ax.set_ylabel(\"Column\")\n",
    "    ax.set_title(\"Permutation Feature Importance\")\n",
    "\n",
    "    # Sort the DataFrame by score in descending order\n",
    "    resultdf_sorted = resultdf.sort_values(by=\"score\", ascending=False)\n",
    "\n",
    "    predictors = resultdf_sorted.pred\n",
    "    scores = resultdf_sorted.score\n",
    "    y_pos = range(len(predictors))\n",
    "\n",
    "    # Plot the bars in descending order of bar heights\n",
    "    ax.barh(y_pos, scores[::-1])\n",
    "    plt.yticks(y_pos, predictors[::-1])\n",
    "    plt.show()"
   ]
  },
  {
   "cell_type": "markdown",
   "metadata": {},
   "source": [
    "### Fit model on training data"
   ]
  },
  {
   "cell_type": "code",
   "execution_count": null,
   "metadata": {},
   "outputs": [],
   "source": [
    "model = LinearRegression()\n",
    "model.fit(X_true, xy_true)"
   ]
  },
  {
   "cell_type": "markdown",
   "metadata": {},
   "source": [
    "## Feature importance using Linear Regression"
   ]
  },
  {
   "cell_type": "code",
   "execution_count": null,
   "metadata": {},
   "outputs": [],
   "source": [
    "baseline = r2_score(model.predict(X_true), xy_true)\n",
    "results = []\n",
    "df_x_true = pd.DataFrame(X_true)\n",
    "for column in df_x_true:\n",
    "    # Create a copy of X_test\n",
    "    df_x_true_copy = df_x_true.copy()\n",
    "\n",
    "    # Scramble the values of the given predictor\n",
    "    df_x_true_copy[column] = (\n",
    "        df_x_true[column].sample(frac=1).reset_index(drop=True).values\n",
    "    )\n",
    "\n",
    "    # Calculate the new RMSE\n",
    "    score = r2_score(model.predict(df_x_true_copy), xy_true)\n",
    "\n",
    "    # Append the increase in MSE to the list of results\n",
    "    results.append({\"pred\": column, \"score\": abs(score - baseline)})\n",
    "\n",
    "# Put the results into a pandas dataframe and rank the predictors by score\n",
    "resultsdf = pd.DataFrame(results).reset_index(drop=True)"
   ]
  },
  {
   "cell_type": "code",
   "execution_count": null,
   "metadata": {},
   "outputs": [],
   "source": [
    "plot_feature_importance(resultsdf)"
   ]
  },
  {
   "cell_type": "markdown",
   "metadata": {},
   "source": [
    "## Feature importance using Artificial Neural Network"
   ]
  },
  {
   "cell_type": "code",
   "execution_count": null,
   "metadata": {},
   "outputs": [],
   "source": [
    "# Specify a path\n",
    "PATH = \"networks/network_3_layers_100_epoches.pth\"\n",
    "# Load\n",
    "weights = torch.load(PATH)\n",
    "weights.keys()"
   ]
  },
  {
   "cell_type": "code",
   "execution_count": null,
   "metadata": {},
   "outputs": [],
   "source": [
    "class Net_ANN(nn.Module):\n",
    "    def __init__(self):\n",
    "        super(Net_ANN, self).__init__()\n",
    "        self.linear1 = nn.Linear(8, 16)  # 8 inputs, 16 neurons for first hidden layer\n",
    "        self.linear2 = nn.Linear(16, 16)  # 16 neurons for second hidden layer\n",
    "        self.linear3 = nn.Linear(16, 8)  # 8 outputs\n",
    "\n",
    "    def forward(self, x):\n",
    "        x = x.to(self.linear1.weight.dtype)\n",
    "        x = F.relu(self.linear1(x))\n",
    "        x = F.relu(self.linear2(x))\n",
    "        x = self.linear3(x)\n",
    "        return x"
   ]
  },
  {
   "cell_type": "code",
   "execution_count": null,
   "metadata": {},
   "outputs": [],
   "source": [
    "model = Net_ANN()\n",
    "model.load_state_dict(weights)\n",
    "model.eval()"
   ]
  },
  {
   "cell_type": "code",
   "execution_count": null,
   "metadata": {},
   "outputs": [],
   "source": [
    "baseline = r2_score(model(torch.tensor(X_true)).detach().numpy(), xy_true)\n",
    "results = []\n",
    "df_x_true = pd.DataFrame(X_true)\n",
    "for column in df_x_true:\n",
    "    # Create a copy of X_test\n",
    "    df_x_true_copy = df_x_true.copy()\n",
    "\n",
    "    # Scramble the values of the given predictor\n",
    "    df_x_true_copy[column] = (\n",
    "        df_x_true[column].sample(frac=1).reset_index(drop=True).values\n",
    "    )\n",
    "\n",
    "    # Calculate the new RMSE\n",
    "    score = r2_score(\n",
    "        model(torch.tensor(df_x_true_copy.to_numpy())).detach().numpy(), xy_true\n",
    "    )\n",
    "\n",
    "    # Append the increase in MSE to the list of results\n",
    "    results.append({\"pred\": column, \"score\": abs(score - baseline)})\n",
    "\n",
    "# Put the results into a pandas dataframe and rank the predictors by score\n",
    "resultsdf = pd.DataFrame(results).reset_index(drop=True)"
   ]
  },
  {
   "cell_type": "code",
   "execution_count": null,
   "metadata": {},
   "outputs": [],
   "source": [
    "plot_feature_importance(resultsdf)"
   ]
  },
  {
   "cell_type": "markdown",
   "metadata": {},
   "source": [
    "## Observation"
   ]
  },
  {
   "cell_type": "markdown",
   "metadata": {},
   "source": [
    "We observe the importance of the input features are strongly dependant on the model used to evaluate the data. "
   ]
  },
  {
   "cell_type": "code",
   "execution_count": null,
   "metadata": {},
   "outputs": [],
   "source": []
  }
 ],
 "metadata": {
  "kernelspec": {
   "display_name": "Python 3 (ipykernel)",
   "language": "python",
   "name": "python3"
  },
  "language_info": {
   "codemirror_mode": {
    "name": "ipython",
    "version": 3
   },
   "file_extension": ".py",
   "mimetype": "text/x-python",
   "name": "python",
   "nbconvert_exporter": "python",
   "pygments_lexer": "ipython3",
   "version": "3.9.16"
  }
 },
 "nbformat": 4,
 "nbformat_minor": 4
}
