{
 "cells": [
  {
   "cell_type": "markdown",
   "id": "b0650213-5f2e-4821-8489-b969f0da4b63",
   "metadata": {},
   "source": [
    "# Key aspects of GCMs parameterizations"
   ]
  },
  {
   "cell_type": "markdown",
   "id": "2a9645ec",
   "metadata": {},
   "source": [
    "The objective of this notebook is to introduce some of the key aspects of parameterizations in GCMs, illustrating the deterministic vs stochastic approaches, the interplay with numerical errors and how to measure the skill of a parameterization."
   ]
  },
  {
   "cell_type": "markdown",
   "id": "69c17d19",
   "metadata": {},
   "source": [
    "## Introducing the need for GCM parameterizations"
   ]
  },
  {
   "cell_type": "markdown",
   "id": "f4905750",
   "metadata": {},
   "source": [
    "Starting from where we stopped last time, let's assume from now on that we are all familiar  with the {cite}`Lorenz1995` two-time scale model and its pratical numerical implementation in the `L96_model` module."
   ]
  },
  {
   "cell_type": "code",
   "execution_count": null,
   "id": "f8255144",
   "metadata": {},
   "outputs": [],
   "source": [
    "import matplotlib.pyplot as plt\n",
    "import numpy as np\n",
    "\n",
    "from L96_model import L96, RK2, RK4, EulerFwd, L96_eq1_xdot"
   ]
  },
  {
   "cell_type": "markdown",
   "id": "338aff9c-2891-4583-9efa-b1a56669fe2f",
   "metadata": {},
   "source": [
    "Here, `L96` serves as the **\"real world\"** whereas `L96_eq1_xdot` represents the **beginning of rhs of X tendency**."
   ]
  },
  {
   "cell_type": "code",
   "execution_count": null,
   "id": "c5ba242b",
   "metadata": {},
   "outputs": [],
   "source": [
    "# Setting the seed gives us reproducible results\n",
    "np.random.seed(13)\n",
    "\n",
    "# Create a \"real world\" with K = 8 and J = 32\n",
    "W = L96(8, 32, F=18)"
   ]
  },
  {
   "cell_type": "markdown",
   "id": "4b4b5606-be7c-4fd3-8f3d-fa7fbdbec74f",
   "metadata": {},
   "source": [
    "We *run the \"real world\" for 3 days in order to forget the initial conditons*."
   ]
  },
  {
   "cell_type": "code",
   "execution_count": null,
   "id": "c52019dd-0d33-45d2-a10a-08429c6374a2",
   "metadata": {},
   "outputs": [],
   "source": [
    "# `store=True` saves the final state as an initial condition for the next run.\n",
    "W.run(0.05, 3.0, store=True);"
   ]
  },
  {
   "cell_type": "markdown",
   "id": "8e1c62ff",
   "metadata": {},
   "source": [
    "From here on we can use `W.X` as perfect initial conditions for a model and sample the real world using `W.run(dt, T)`\n",
    "\n",
    "Let's call $Z(t)$ the trajectory of the full complexity physical system (say planet earth). Because in practice, for computational or observational reasons, we cannot afford describing and predicting $Z(t)$, we will only focus on a projection of $Z(t)$ in some lower dimension space. Let's call this reduced dimension state $X(t)$.\n",
    "\n",
    "In our toy model,  $Z(t)=(X(t),Y(t))$ is the full complexity physical system while $X(t)$ is the lower dimension reduction. In real case situations, the lower dimension representation of the real system is usually a coarse-grained or a subsampled description of the full-scale system but this is not exclusive.\n",
    "\n",
    "Now, a GCM is simply a numerical machine which intends to predict the trajectory $X(t)$ from knowledge of $X(t=0)$ only. A GCM is generally built from first principle physical laws, by discretizing partial differential equations.\n",
    "\n",
    "In what follows, we therefore assume that we know a fraction of the terms that govern the evolution of $X$. We also assume that we do not know what governs the evolution of $Y$ nor how $Y$ may affect $X$."
   ]
  },
  {
   "cell_type": "code",
   "execution_count": null,
   "id": "53afa120",
   "metadata": {},
   "outputs": [],
   "source": [
    "def GCM_no_parameterization(X0, F, dt, nt):\n",
    "    \"\"\"GCM without parameterization\n",
    "\n",
    "    Args:\n",
    "        X0: initial conditions\n",
    "        dt: time increment\n",
    "        nt: number of forward steps to take\n",
    "    \"\"\"\n",
    "    time, hist, X = (\n",
    "        dt * np.arange(nt + 1),\n",
    "        np.zeros((nt + 1, len(X0))) * np.nan,\n",
    "        X0.copy(),\n",
    "    )\n",
    "    hist[0] = X\n",
    "\n",
    "    for n in range(nt):\n",
    "        X = X + dt * (L96_eq1_xdot(X, F))\n",
    "        hist[n + 1], time[n + 1] = X, dt * (n + 1)\n",
    "    return hist, time"
   ]
  },
  {
   "cell_type": "markdown",
   "id": "0a620522-8a1a-4eda-9b0a-04e304b49255",
   "metadata": {},
   "source": [
    "This GCM is unstable due to Euler forward time stepping scheme, so we don't integrate it for too long and compare it to the real world with the same time interval as `dt` used by the model."
   ]
  },
  {
   "cell_type": "code",
   "execution_count": null,
   "id": "6f113734",
   "metadata": {},
   "outputs": [],
   "source": [
    "F, dt, T = 18, 0.01, 3.0\n",
    "X, t = GCM_no_parameterization(W.X, F, dt, int(T / dt))"
   ]
  },
  {
   "cell_type": "code",
   "execution_count": null,
   "id": "66f3c2ea",
   "metadata": {},
   "outputs": [],
   "source": [
    "# Compare with the real world\n",
    "X_true, _, _ = W.run(dt, T)\n",
    "\n",
    "plt.figure(dpi=150)\n",
    "plt.plot(t, X_true[:, 4], label=\"Truth (L96)\")\n",
    "plt.plot(t, X[:, 4], label=\"Model (GCM)\")\n",
    "plt.xlabel(\"$t$\")\n",
    "plt.ylabel(\"$X_4(t)$\")\n",
    "plt.legend(fontsize=7);"
   ]
  },
  {
   "cell_type": "markdown",
   "id": "dad9cbd6",
   "metadata": {},
   "source": [
    "There are several reasons why the above Model (i.e. GCM) differs from Truth (i.e. L96), see [section 5](#how-other-sources-of-error-affect-the-parameterization-problem) of this notebook. \n",
    "\n",
    "One way to reduce the differences between the Model and the Truth, is to add *parameterization*: an extra term to the rhs of the Model evolution operator in order to reduce the Model error as compared to the Truth. It may account for missing processes, acting in Truth but not included in Model, eventually relating to subgrid physics, which is the case here, but not automatically. *Parameterizations* are also commonly refered to as *closures*, in particular when they encode explicit physical assumptions on how non-represented variables (e.g. $Y$) impact represented variables (e.g. $X$). \n",
    "\n",
    "Parameterizations usually involve free parameters that need to be adjusted. The form of the parameterization may be dictated by physical laws, but generally it is unknown as well."
   ]
  },
  {
   "cell_type": "markdown",
   "id": "64e94c31",
   "metadata": {},
   "source": [
    "## GCM with parameterization"
   ]
  },
  {
   "cell_type": "code",
   "execution_count": null,
   "id": "c797ab03",
   "metadata": {},
   "outputs": [],
   "source": [
    "class GCM:\n",
    "    \"\"\"GCM with parameterization in rhs of equation for tendency\"\"\"\n",
    "\n",
    "    def __init__(self, F, parameterization, time_stepping=EulerFwd):\n",
    "        self.F = F\n",
    "        self.parameterization = parameterization\n",
    "        self.time_stepping = time_stepping\n",
    "\n",
    "    def rhs(self, X, param):\n",
    "        return L96_eq1_xdot(X, self.F) - self.parameterization(param, X)\n",
    "\n",
    "    def __call__(self, X0, dt, nt, param=[0]):\n",
    "        \"\"\"\n",
    "        Args:\n",
    "            X0: initial conditions\n",
    "            dt: time increment\n",
    "            nt: number of forward steps to take\n",
    "            param: parameters of our closure\n",
    "        \"\"\"\n",
    "        time, hist, X = (\n",
    "            dt * np.arange(nt + 1),\n",
    "            np.zeros((nt + 1, len(X0))) * np.nan,\n",
    "            X0.copy(),\n",
    "        )\n",
    "        hist[0] = X\n",
    "\n",
    "        for n in range(nt):\n",
    "            X = self.time_stepping(self.rhs, dt, X, param)\n",
    "            hist[n + 1], time[n + 1] = X, dt * (n + 1)\n",
    "        return hist, time"
   ]
  },
  {
   "cell_type": "markdown",
   "id": "5f6fd74a-3427-4dd3-b8b4-013acf2c49ff",
   "metadata": {},
   "source": [
    "As a first step, we illustrate introducing a polynomial parameterization to GCM and then compare the model to the true trajectories obtained from the real world with the same time interval as `dt` used by the model."
   ]
  },
  {
   "cell_type": "code",
   "execution_count": null,
   "id": "6d08038a",
   "metadata": {},
   "outputs": [],
   "source": [
    "naive_parameterization = lambda param, X: np.polyval(param, X)\n",
    "F, dt, T = 18, 0.01, 5.0\n",
    "gcm = GCM(F, naive_parameterization)\n",
    "X, t = gcm(W.X, dt, int(T / dt), param=[0.85439536, 1.75218026])"
   ]
  },
  {
   "cell_type": "code",
   "execution_count": null,
   "id": "ca979ba1",
   "metadata": {},
   "outputs": [],
   "source": [
    "# Compare with the real world\n",
    "X_true, _, _ = W.run(dt, T)\n",
    "\n",
    "plt.figure(dpi=150)\n",
    "plt.plot(t, X_true[:, 4], label=\"Truth\")\n",
    "plt.plot(t, X[:, 4], label=\"Model\")\n",
    "plt.xlabel(\"$t$\")\n",
    "plt.ylabel(\"$X_4(t)$\")\n",
    "plt.legend(fontsize=7);"
   ]
  },
  {
   "cell_type": "markdown",
   "id": "96a97034",
   "metadata": {},
   "source": [
    "Obviously, at this stage our GCM is still not very good at reproducing the true evolution of the full system. It also remains to find the most appropriate coefficients of the polynomial parameterization to make the Model as close as possible to the Truth.\n",
    "\n",
    "The parameterization problem boils down to defining the formulation and finding the best parameters in order to minimize the distance between the true trajectory and the model trajectory.\n",
    "\n",
    "**With M2LINES, we are approaching this problem as a Machine Learning problem. We want to learn parameterizations from objective measures of their skills through an optimization procedure.**\n",
    "\n",
    "But we are not only interested in learning the parameters of existing formulations. More generally, we would like to learn the formulation too.   "
   ]
  },
  {
   "cell_type": "markdown",
   "id": "42ca8ac3",
   "metadata": {},
   "source": [
    "## Should parameterizations  be deterministic or stochastic ? "
   ]
  },
  {
   "cell_type": "markdown",
   "id": "36678885",
   "metadata": {},
   "source": [
    "The `naive_parameterization` above has no particular physical nor mathematical justification. Most importantly, it relies on a very strong assumption, that the time rate of change of $X$ at time $t$ is a function of $X(t)$. This assumption implies that the future evolution of the reduced dimension system $X(t)$ is *deterministically* related to the initial reduced dimension state $X(0)$.   "
   ]
  },
  {
   "cell_type": "markdown",
   "id": "a6083799",
   "metadata": {},
   "source": [
    "But this is not a good assumption because the two identical reduced dimension states ($X$, macro-state) can be associated with very different fine scale states ($Y$, micro-state). Given the non-linearity of the evolution equation for $Z$, the two large scale trajectories will diverge at some point. Let's illustrate that with L96 alone. "
   ]
  },
  {
   "cell_type": "code",
   "execution_count": null,
   "id": "bd825114",
   "metadata": {},
   "outputs": [],
   "source": [
    "# Randomising the initial Ys\n",
    "np.random.seed(13)\n",
    "\n",
    "# Duplicating L96 to create perturbed versions that include random perturbations in Y\n",
    "Wp1 = W.copy()\n",
    "Yp1 = W.Y.std() * np.random.rand(Wp1.Y.size)\n",
    "Wp1.set_state(W.X, Yp1)\n",
    "\n",
    "Wp2 = W.copy()\n",
    "Yp2 = W.Y + 0.0001 * np.random.rand(Wp2.Y.size)\n",
    "Wp2.set_state(W.X, Yp2)"
   ]
  },
  {
   "cell_type": "code",
   "execution_count": null,
   "id": "8a856077",
   "metadata": {},
   "outputs": [],
   "source": [
    "# Running L96 and perturbed versions to compare results\n",
    "X_true, _, _ = W.run(dt, T)\n",
    "X_pert1, _, _ = Wp1.run(dt, T)\n",
    "X_pert2, _, _ = Wp2.run(dt, T)"
   ]
  },
  {
   "cell_type": "code",
   "execution_count": null,
   "id": "04d98879-6013-4161-b6b6-12f45ee7227e",
   "metadata": {},
   "outputs": [],
   "source": [
    "plt.figure(dpi=150)\n",
    "plt.plot(t, X_true[:, 4], label=\"Truth\")\n",
    "plt.plot(t, X_pert1[:, 4], label=\"Perturbed\")\n",
    "plt.plot(t, X_pert2[:, 4], label=\"Perturbed\")\n",
    "plt.xlabel(\"$t$\")\n",
    "plt.ylabel(\"$X_4(t)$\")\n",
    "plt.legend(fontsize=7);"
   ]
  },
  {
   "cell_type": "markdown",
   "id": "81b73260",
   "metadata": {},
   "source": [
    "So even very small uncertainties in the micro-state ($Y$) of L96 can lead to large scale changes (i.e. of the variable $X$) over short time.\n",
    "\n",
    "In a Model that does not know anything about micro-state $Y$, it is possible to introduce this uncertainty through a stochastic form in the parameterization.\n",
    "\n",
    "In addition, with this illustration, we also highlight that there is a horizon after which pointwise comparisons of the model with the truth are meaningless, hence there is some needed discussion on how to measure the skill of a parameterization."
   ]
  },
  {
   "cell_type": "markdown",
   "id": "a6cf8c10",
   "metadata": {},
   "source": [
    "## How to measure how good is a given parameterization ? "
   ]
  },
  {
   "cell_type": "markdown",
   "id": "3a6f4cd9",
   "metadata": {},
   "source": [
    "So, we would like to build our closure by systematically measuring their skills so that we can formulate inverse problems based on objective \"skill scores\". The skill scores we are talking about here will measure the distance between  the evolution of the true state $X_{true}$ and the simulated state $X_{gcm}$. "
   ]
  },
  {
   "cell_type": "code",
   "execution_count": null,
   "id": "35609fa7",
   "metadata": {},
   "outputs": [],
   "source": [
    "# Defining our GCM\n",
    "F, dt, T = 18, 0.01, 100.0\n",
    "gcm = GCM(F, naive_parameterization)\n",
    "X_gcm, t = gcm(W.X, dt, int(T / dt), param=[0.85439536, 1.75218026])"
   ]
  },
  {
   "cell_type": "code",
   "execution_count": null,
   "id": "9f7079af-4c99-4f13-83a6-00144979c654",
   "metadata": {},
   "outputs": [],
   "source": [
    "# Setting the true state\n",
    "X_true, _, _ = W.run(dt, T)"
   ]
  },
  {
   "cell_type": "code",
   "execution_count": null,
   "id": "354b8190-af9b-4bc2-a4c4-de6a9266cc56",
   "metadata": {},
   "outputs": [],
   "source": [
    "# Plotting the results\n",
    "plt.figure(dpi=150)\n",
    "plt.plot(t[:500], X_true[:500, 4], label=\"Truth\")\n",
    "plt.plot(t[:500], X_gcm[:500, 4], label=\"GCM\")\n",
    "plt.xlabel(\"$t$\")\n",
    "plt.ylabel(\"$X_4(t)$\")\n",
    "plt.legend(fontsize=7);"
   ]
  },
  {
   "cell_type": "markdown",
   "id": "baa78beb",
   "metadata": {},
   "source": [
    "A first simple choice is to start with a point wise mean square error. "
   ]
  },
  {
   "cell_type": "code",
   "execution_count": null,
   "id": "1102657f",
   "metadata": {},
   "outputs": [],
   "source": [
    "def pointwise_msq(X1, X2, L=1.0):\n",
    "    \"\"\"Pointwise mean square error computed over some window t < L.\"\"\"\n",
    "    D = (X1 - X2)[np.where(t < L)]\n",
    "    return np.sqrt(D**2).mean(axis=0)"
   ]
  },
  {
   "cell_type": "code",
   "execution_count": null,
   "id": "7c31b065",
   "metadata": {},
   "outputs": [],
   "source": [
    "measure_distance = lambda l: pointwise_msq(X_true, X_gcm, L=l)\n",
    "dist = np.array([measure_distance(l) for l in t])"
   ]
  },
  {
   "cell_type": "code",
   "execution_count": null,
   "id": "b49636d6",
   "metadata": {},
   "outputs": [],
   "source": [
    "# Plotting how this distance grows with the length of the window\n",
    "# for all the components of X\n",
    "plt.figure(dpi=150)\n",
    "plt.plot(t[1:], dist[1:])\n",
    "plt.xlabel(\"$t$\")\n",
    "plt.ylabel(\"$||X_{true}-X_{gcm}||_2$\");"
   ]
  },
  {
   "cell_type": "markdown",
   "id": "4aea7896",
   "metadata": {},
   "source": [
    "Knowing from the above discussion that the system is not predictable after some time, we may as well decide to measure how well the model captures the mean states over some time window. With this we expect to measure the \"climate\" of the system instead of the \"weather\". "
   ]
  },
  {
   "cell_type": "code",
   "execution_count": null,
   "id": "2fbbd3a2",
   "metadata": {},
   "outputs": [],
   "source": [
    "def dist_mean(X1, X2, L=1.0):\n",
    "    \"\"\"Mean state metric.\"\"\"\n",
    "    _X1 = X1[np.where(t < L)]\n",
    "    _X2 = X2[np.where(t < L)]\n",
    "    return np.sqrt((_X1.mean(axis=0) - _X2.mean(axis=0)) ** 2)"
   ]
  },
  {
   "cell_type": "code",
   "execution_count": null,
   "id": "60570e9e",
   "metadata": {},
   "outputs": [],
   "source": [
    "measure_dist = lambda l: dist_mean(X_true, X_gcm, L=l)\n",
    "dist = np.array([measure_dist(l) for l in t])"
   ]
  },
  {
   "cell_type": "code",
   "execution_count": null,
   "id": "9998b2ed",
   "metadata": {},
   "outputs": [],
   "source": [
    "# Plotting how this distance grows with the length of the window\n",
    "# for all the components of X\n",
    "plt.figure(dpi=150)\n",
    "plt.plot(t, dist)\n",
    "plt.xlabel(\"$t$\")\n",
    "plt.ylabel(\"$||\\overline{X_{true}}-\\overline{X_{gcm}}||_2$\");"
   ]
  },
  {
   "cell_type": "markdown",
   "id": "c769ec8e",
   "metadata": {},
   "source": [
    "After some time, this metric seems to converge to some non-trivial values which are probably indicative of how well our model captures the \"climate\" of the system.\n",
    "\n",
    "It is also very common to formulate closures based on databases of initial tendencies.  In the Large Eddy Simulation  community, this is refered to as *a priori* skill, because you don't need to run the full model to compute it.\n",
    "\n",
    "This is the sort of game that several of us have been playing, trying for instance to estimate subgrid fluxes from knowledge of the large scale quantities  $$ \\nabla\\cdot \\mathbf{s} =   \\nabla\\cdot\\big(\\overline{\\mathbf{u}\\,\\Phi} - \\overline{\\mathbf{u}}\\,\\overline{\\Phi}\\big) \\simeq f(\\overline{\\mathbf{u}},\\overline{\\Phi})$$\n",
    "\n",
    "*Note that this is not exactly the same problem as the `a priori` LES problem, because of the interplay with time-discretization. Let's neglect that for the moment.*"
   ]
  },
  {
   "cell_type": "code",
   "execution_count": null,
   "id": "c75e73f6",
   "metadata": {},
   "outputs": [],
   "source": [
    "def norm_initial_tendency(X1, X2):\n",
    "    T1 = X1[1, :] - X1[0, :]\n",
    "    T2 = X2[1, :] - X2[0, :]\n",
    "    return np.sqrt((T1 - T2) ** 2).mean(axis=0)"
   ]
  },
  {
   "cell_type": "markdown",
   "id": "13a52dd0",
   "metadata": {},
   "source": [
    "Because this metric is cheap to evaluate, as we do not need to integrate the GCM more than 1 time-step, we can start a sensitivity analysis in order to identify good optimal parameters for the specific formulation `naive_parameterization`"
   ]
  },
  {
   "cell_type": "code",
   "execution_count": null,
   "id": "2d331c18",
   "metadata": {},
   "outputs": [],
   "source": [
    "F, dt, T = 18, 0.01, 0.01\n",
    "\n",
    "# Let's define again the true state\n",
    "X_true, _, _ = W.run(dt, T)\n",
    "\n",
    "# and an ensemble of trajectories\n",
    "gcm = GCM(F, naive_parameterization)\n",
    "\n",
    "n = 100\n",
    "\n",
    "_p1 = np.linspace(-20, 20, n + 1)\n",
    "_p2 = np.linspace(-20, 20, n + 1)\n",
    "xp1, yp2 = np.meshgrid(_p1, _p2)\n",
    "\n",
    "score = np.zeros((n + 1, n + 1))\n",
    "\n",
    "for i, p1 in enumerate(_p1):\n",
    "    for j, p2 in enumerate(_p2):\n",
    "        X_gcm, t = gcm(W.X, dt, int(T / dt), param=[p1, p2])\n",
    "        score[i, j] = norm_initial_tendency(X_true, X_gcm)"
   ]
  },
  {
   "cell_type": "code",
   "execution_count": null,
   "id": "44ac3775",
   "metadata": {},
   "outputs": [],
   "source": [
    "plt.figure(dpi=150)\n",
    "plt.pcolormesh(xp1, yp2, score)\n",
    "plt.colorbar()\n",
    "plt.xlabel(\"$p_2$\")\n",
    "plt.ylabel(\"$p_1$\")\n",
    "plt.title(\"Score\");"
   ]
  },
  {
   "cell_type": "markdown",
   "id": "3b65357a",
   "metadata": {},
   "source": [
    "From this analysis, we see that the optimisation problem is probably well posed as the cost function appears pretty smooth. One can also see that the parameter $p_1$ is more important than $p_2$.  "
   ]
  },
  {
   "cell_type": "markdown",
   "id": "91d9ad08",
   "metadata": {},
   "source": [
    "## How other sources of error affect the parameterization problem"
   ]
  },
  {
   "cell_type": "markdown",
   "id": "6e6c8635",
   "metadata": {},
   "source": [
    "Here we illustrate how the parameterization problem depends on our a priori knowledge of the other sources of errors in our GCMs."
   ]
  },
  {
   "cell_type": "code",
   "execution_count": null,
   "id": "8644d36e",
   "metadata": {},
   "outputs": [],
   "source": [
    "# Generic GCM parameters\n",
    "F, dt, T = 18, 0.01, 20.0\n",
    "X0 = W.X\n",
    "parameterization = naive_parameterization\n",
    "params = [0.85439536, 1.75218026]\n",
    "\n",
    "# Sampling real world over a longer period of time\n",
    "X_true, _, _ = W.run(dt, T)"
   ]
  },
  {
   "cell_type": "markdown",
   "id": "e3e6cb41",
   "metadata": {},
   "source": [
    "### Comparing GCMs with small errors in the forcing F"
   ]
  },
  {
   "cell_type": "code",
   "execution_count": null,
   "id": "79c71ecb",
   "metadata": {},
   "outputs": [],
   "source": [
    "max_relative_error = 0.01\n",
    "Fs = F + max_relative_error * (np.random.rand(40) - 0.5)  # array of perturbed forcings\n",
    "\n",
    "GCMs = [GCM(Fp, parameterization) for Fp in Fs]\n",
    "\n",
    "Xs = []  # list of trajectories for individual perturbed forcings\n",
    "\n",
    "for gcm in GCMs:\n",
    "    X, t = gcm(X0, dt, int(T / dt), param=params)\n",
    "    Xs.append(X)"
   ]
  },
  {
   "cell_type": "code",
   "execution_count": null,
   "id": "68560d2f",
   "metadata": {},
   "outputs": [],
   "source": [
    "plt.figure(dpi=150)\n",
    "plt.plot(t, Xs[0][:, 4], label=\"Model with perturbed forcings\", color=\"grey\", lw=1)\n",
    "for X in Xs[1:]:\n",
    "    plt.plot(t, X[:, 4], color=\"grey\", lw=1)\n",
    "plt.plot(t, X_true[:, 4], label=\"Truth\", lw=2)\n",
    "plt.xlabel(\"$t$\")\n",
    "plt.ylabel(\"$X_4(t)$\")\n",
    "plt.legend(fontsize=7);"
   ]
  },
  {
   "cell_type": "markdown",
   "id": "424e69d2",
   "metadata": {},
   "source": [
    "### Comparing GCM solutions with slight errors in the (resolved) initial condition"
   ]
  },
  {
   "cell_type": "code",
   "execution_count": null,
   "id": "7c059fc3",
   "metadata": {},
   "outputs": [],
   "source": [
    "relative_error = 0.01\n",
    "\n",
    "X0s = X0 + max_relative_error * (\n",
    "    np.random.rand(50, 8) - 0.5\n",
    ")  # array of perturbed initial conditions\n",
    "\n",
    "gcm = GCM(F, parameterization)\n",
    "\n",
    "Xs = []  # list of trajectories for individual preturbed initial conditions\n",
    "\n",
    "for X0 in X0s:\n",
    "    X, t = gcm(X0, dt, int(T / dt), param=params)\n",
    "    Xs.append(X)"
   ]
  },
  {
   "cell_type": "code",
   "execution_count": null,
   "id": "5adef508",
   "metadata": {},
   "outputs": [],
   "source": [
    "plt.figure(dpi=150)\n",
    "plt.plot(t, Xs[0][:, 4], label=\"Model with perturbed ICs\", color=\"grey\", lw=1)\n",
    "for X in Xs[1:]:\n",
    "    plt.plot(t, X[:, 4], color=\"grey\", lw=1)\n",
    "plt.plot(t, X_true[:, 4], label=\"Truth\", lw=2)\n",
    "plt.xlabel(\"$t$\")\n",
    "plt.ylabel(\"$X_4(t)$\")\n",
    "plt.legend(fontsize=7);"
   ]
  },
  {
   "cell_type": "markdown",
   "id": "d8ebe8ba",
   "metadata": {},
   "source": [
    "The above two experiments illustrate that the definition of our distance metrics should take into account the other sources of errors in our GCMs:\n",
    "- errors on the *parameters*\n",
    "- errors on the *forcing*\n",
    "- errors on the *initial conditions*"
   ]
  },
  {
   "cell_type": "markdown",
   "id": "fce3cb8f",
   "metadata": {},
   "source": [
    "### Comparing GCMs with identical parameters but different time discretization  "
   ]
  },
  {
   "cell_type": "code",
   "execution_count": null,
   "id": "5648a815",
   "metadata": {},
   "outputs": [],
   "source": [
    "F, dt, T = 18, 0.01, 10.0\n",
    "X0 = W.X\n",
    "\n",
    "euler_GCM = GCM(F, naive_parameterization, time_stepping=EulerFwd)\n",
    "rk2_GCM = GCM(F, naive_parameterization, time_stepping=RK2)\n",
    "rk4_GCM = GCM(F, naive_parameterization, time_stepping=RK4)\n",
    "\n",
    "euler_X, t = euler_GCM(X0, dt, int(T / dt), param=[0.85439536, 1.75218026])\n",
    "rk2_X, _ = rk2_GCM(X0, dt, int(T / dt), param=[0.85439536, 1.75218026])\n",
    "rk4_X, _ = rk4_GCM(X0, dt, int(T / dt), param=[0.85439536, 1.75218026])"
   ]
  },
  {
   "cell_type": "code",
   "execution_count": null,
   "id": "8f3909f2",
   "metadata": {},
   "outputs": [],
   "source": [
    "plt.figure(dpi=150)\n",
    "plt.plot(t, euler_X[:, 3], label=\"euler\")\n",
    "plt.plot(t, rk2_X[:, 3], label=\"RK2\")\n",
    "plt.plot(t, rk4_X[:, 3], label=\"RK4\")\n",
    "plt.xlabel(\"$t$\")\n",
    "plt.ylabel(\"$X_3(t)$\")\n",
    "plt.legend(fontsize=7);"
   ]
  },
  {
   "cell_type": "markdown",
   "id": "69c2b3ac",
   "metadata": {},
   "source": [
    "This last experiment illustrates that depending on the numerical schemes of the GCM, the distance between the model prediction and the true state can be substantial. There again, we have an additional constraint on the definition of our distance metrics.\n",
    "\n",
    "More generally, this also suggests that the optimal closures that we find will probably depend on the numerical schemes that are used in our GCMs, or more generally, on the structural uncertainties of our GCMs, which are difficult to quantify."
   ]
  }
 ],
 "metadata": {
  "kernelspec": {
   "display_name": "Python 3 (ipykernel)",
   "language": "python",
   "name": "python3"
  },
  "language_info": {
   "codemirror_mode": {
    "name": "ipython",
    "version": 3
   },
   "file_extension": ".py",
   "mimetype": "text/x-python",
   "name": "python",
   "nbconvert_exporter": "python",
   "pygments_lexer": "ipython3",
   "version": "3.8.13"
  }
 },
 "nbformat": 4,
 "nbformat_minor": 5
}
