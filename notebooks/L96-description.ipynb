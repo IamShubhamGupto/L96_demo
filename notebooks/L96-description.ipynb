{
 "cells": [
  {
   "cell_type": "code",
   "execution_count": null,
   "metadata": {},
   "outputs": [],
   "source": [
    "import inspect\n",
    "\n",
    "import matplotlib.pyplot as plt\n",
    "import numpy as np"
   ]
  },
  {
   "cell_type": "markdown",
   "metadata": {},
   "source": [
    "Equation 1 from [Lorenz (1996)](https://www.ecmwf.int/en/elibrary/10829-predictability-problem-partly-solved) is:\n",
    "\\begin{align}\n",
    "\\frac{d}{dt} X_k &= - X_{k-2} X_{k-1} + X_{k-1} X_{k+1} - X_k + F\n",
    "\\end{align}\n",
    "where $F$ is a constant independent of $k=0,1,2,\\ldots,K-1$ (using python indexing starting at k=0). The $k$ index is periodic so that, for example, $k=K$ is referring to $k=0$ and $k=-1$ is referring to $k=K-1$.\n",
    "\n",
    "The following function returns the rate of change $\\frac{d}{dt} X_j$:"
   ]
  },
  {
   "cell_type": "code",
   "execution_count": null,
   "metadata": {},
   "outputs": [],
   "source": [
    "from L96_model import L96_eq1_xdot\n",
    "\n",
    "print(inspect.getsource(L96_eq1_xdot))"
   ]
  },
  {
   "cell_type": "markdown",
   "metadata": {},
   "source": [
    "We can use different numerical schemes for time integration (to be investigated). Below is an example using 4th order Runge-Kutta. "
   ]
  },
  {
   "cell_type": "code",
   "execution_count": null,
   "metadata": {},
   "outputs": [],
   "source": [
    "from L96_model import RK4\n",
    "\n",
    "print(inspect.getsource(RK4))"
   ]
  },
  {
   "cell_type": "markdown",
   "metadata": {},
   "source": [
    "To use the model we add a \"time loop\", iterating over consecutive values of time instances, passing forward the model state from the $n$-th time instance to the $n+1$ time instance. We assume a fixed time step, $\\Delta t$ so that $t(n) = n\\Delta t$."
   ]
  },
  {
   "cell_type": "code",
   "execution_count": null,
   "metadata": {},
   "outputs": [],
   "source": [
    "from L96_model import integrate_L96_1t\n",
    "\n",
    "print(inspect.getsource(integrate_L96_1t))"
   ]
  },
  {
   "cell_type": "markdown",
   "metadata": {},
   "source": [
    "We need some non-uniform initial conditions. These are often chosen as random numbers but in order to have reproducible results we prescribe a simple periodic function (a sine function would do but a cubic one is more precisely reproducible for the interval [-1,1])."
   ]
  },
  {
   "cell_type": "code",
   "execution_count": null,
   "metadata": {},
   "outputs": [],
   "source": [
    "K = 10  # Number of degrees of freedom\n",
    "nt = 250  # Number of time steps\n",
    "dt = 0.02  # time step\n",
    "F = 8.0  # Model parameter\n",
    "\n",
    "# Initial conditions\n",
    "k = np.arange(K)  # For coordinate in plots\n",
    "s = 2 * (0.5 + k) / K - 1  # A symmetric coordinate from -1..+1\n",
    "Xinit = s * (s - 1) * (s + 1)  # Initial conditions\n",
    "\n",
    "# \"Run\" model\n",
    "X, t = integrate_L96_1t(Xinit, F, dt, nt)\n",
    "\n",
    "plt.figure(figsize=(12, 10))\n",
    "plt.subplot(221)\n",
    "# Snapshot of X[k]\n",
    "plt.plot(k, X[-1])\n",
    "plt.xlabel(\"k\")\n",
    "plt.title(\"$X_k(t=N\\Delta t)$\")\n",
    "plt.plot(k, Xinit, \"k:\")\n",
    "plt.subplot(222)\n",
    "# Sample time-series X[0](t)\n",
    "plt.plot(t, X[:, 0])\n",
    "plt.xlabel(\"t\")\n",
    "plt.title(\"$X_0(t)$\")\n",
    "plt.subplot(223)\n",
    "# Full model history\n",
    "plt.contourf(k, t, X)\n",
    "plt.colorbar(orientation=\"horizontal\")\n",
    "plt.xlabel(\"k\")\n",
    "plt.ylabel(\"t\")\n",
    "plt.title(\"$X_k(t)$\")\n",
    "plt.subplot(224)\n",
    "# Metric, total model energy\n",
    "plt.plot(t, (X**2).sum(axis=-1))\n",
    "plt.xlabel(\"t\")\n",
    "plt.title(\"$\\sum_k X_k^2(t)$\");"
   ]
  },
  {
   "cell_type": "code",
   "execution_count": null,
   "metadata": {},
   "outputs": [],
   "source": [
    "Xrk4_001, t001 = integrate_L96_1t(Xinit, F, 0.01, 500)\n",
    "Xrk4_002, t002 = integrate_L96_1t(Xinit, F, 0.02, 250)\n",
    "Xrk4_005, t005 = integrate_L96_1t(Xinit, F, 0.05, 100)\n",
    "Xrk4_019, t019 = integrate_L96_1t(Xinit, F, 0.19, 26)\n",
    "\n",
    "plt.plot(t001, Xrk4_001[:, 0], label=\"$\\Delta t$=0.01\")\n",
    "plt.plot(t002, Xrk4_002[:, 0], label=\"$\\Delta t$=0.02\")\n",
    "plt.plot(t005, Xrk4_005[:, 0], \".-\", label=\"$\\Delta t$=0.05\")\n",
    "plt.plot(t019, Xrk4_019[:, 0], \".-\", label=\"$\\Delta t$=0.19\")\n",
    "plt.legend()\n",
    "plt.xlabel(\"Time, t\")\n",
    "plt.ylabel(\"$X_0(t)$\")\n",
    "plt.title(\"Time resolution\");"
   ]
  },
  {
   "cell_type": "code",
   "execution_count": null,
   "metadata": {},
   "outputs": [],
   "source": [
    "from L96_model import RK2, EulerFwd\n",
    "\n",
    "dt, nt = 0.01, 500\n",
    "Xrk4, t = integrate_L96_1t(Xinit, F, dt, nt, method=RK4)\n",
    "Xrk2, _ = integrate_L96_1t(Xinit, F, dt, nt, method=RK2)\n",
    "Xef, _ = integrate_L96_1t(Xinit, F, dt, nt, method=EulerFwd)\n",
    "\n",
    "plt.plot(t, Xrk4[:, 0], label=\"RK4\")\n",
    "plt.plot(t, Xrk2[:, 0], label=\"RK2\")\n",
    "plt.plot(t, Xef[:, 0], label=\"Euler\")\n",
    "plt.legend()\n",
    "plt.xlabel(\"Time, t\")\n",
    "plt.ylabel(\"$X_0(t)$\")\n",
    "plt.title(\"Role of time-stepping accuracy\");"
   ]
  },
  {
   "cell_type": "code",
   "execution_count": null,
   "metadata": {},
   "outputs": [],
   "source": [
    "def l2nrm(X, Xtrth):\n",
    "    return np.sqrt(((X[-1, :] - Xtrth[-1, :]) ** 2).mean())\n",
    "\n",
    "\n",
    "NT, Lt = [16, 20, 50, 100, 200, 500, 2000, 4000], 3\n",
    "D, E4, E2, E1 = (\n",
    "    np.zeros(len(NT)),\n",
    "    np.zeros(len(NT)),\n",
    "    np.zeros(len(NT)),\n",
    "    np.zeros(len(NT)) * np.nan,\n",
    ")\n",
    "Xtrth, t = integrate_L96_1t(Xinit, F, 0.25 / NT[-1], Lt * 4 * NT[-1], method=RK4)\n",
    "for i in range(len(NT)):\n",
    "    dt = 1.0 / NT[i]\n",
    "    D[i] = dt\n",
    "    X, t = integrate_L96_1t(Xinit, F, dt, Lt * NT[i], method=RK4)\n",
    "    E4[i] = l2nrm(X, Xtrth)\n",
    "    X, t = integrate_L96_1t(Xinit, F, dt, Lt * NT[i], method=RK2)\n",
    "    E2[i] = l2nrm(X, Xtrth)\n",
    "    if dt < 0.04:\n",
    "        X, t = integrate_L96_1t(Xinit, F, dt, Lt * NT[i], method=EulerFwd)\n",
    "        E1[i] = l2nrm(X, Xtrth)\n",
    "\n",
    "plt.loglog(D, E4, \"x\", label=\"RK4\")\n",
    "plt.loglog(D, E2, \"o\", label=\"RK2\")\n",
    "plt.loglog(D, E1, \".\", label=\"Euler\")\n",
    "plt.loglog(D, 8e2 * D, \"k:\", label=\"$\\Delta t$\")\n",
    "plt.loglog(D, 1e3 * D**2, \"k-.\", label=\"$\\Delta t^2$\")\n",
    "plt.loglog(D, 1e4 * D**4, \"k--\", label=\"$\\Delta t^4$\")\n",
    "plt.legend()\n",
    "plt.grid()\n",
    "plt.xlabel(\"$\\Delta t$\")\n",
    "plt.ylabel(\"$l_2$ norm\")\n",
    "plt.title(\"Convergence rates\");"
   ]
  }
 ],
 "metadata": {
  "kernelspec": {
   "display_name": "Python 3",
   "language": "python",
   "name": "python3"
  },
  "language_info": {
   "codemirror_mode": {
    "name": "ipython",
    "version": 3
   },
   "file_extension": ".py",
   "mimetype": "text/x-python",
   "name": "python",
   "nbconvert_exporter": "python",
   "pygments_lexer": "ipython3",
   "version": "3.7.6"
  }
 },
 "nbformat": 4,
 "nbformat_minor": 4
}
