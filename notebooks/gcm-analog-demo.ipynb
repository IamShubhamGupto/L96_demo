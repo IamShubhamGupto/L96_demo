{
 "cells": [
  {
   "cell_type": "code",
   "execution_count": null,
   "metadata": {},
   "outputs": [],
   "source": [
    "import matplotlib.pyplot as plt\n",
    "import numpy as np\n",
    "from L96_model import (  # L96 provides the \"real world\", L96_eq1_xdot is needed in our \"GCM\"\n",
    "    L96,\n",
    "    L96_eq1_xdot,\n",
    ")"
   ]
  },
  {
   "cell_type": "code",
   "execution_count": null,
   "metadata": {},
   "outputs": [],
   "source": [
    "# Setting the seed gives us reproducible results\n",
    "np.random.seed(13)\n",
    "\n",
    "# Create a \"real world\" with K=8 and J=32\n",
    "W = L96(8, 32, F=18)\n",
    "\n",
    "# Run \"real world\" for 3 days to forget initial conditons\n",
    "# (store=True save the final state as an initial condition for the next run)\n",
    "W.run(0.05, 3.0, store=True);\n",
    "\n",
    "# From here on we can use W.X as perfect initial conditions for a model and sample the real world using W.run(dt,T)"
   ]
  },
  {
   "cell_type": "markdown",
   "metadata": {},
   "source": [
    "The following function implements our complete model which is\n",
    "\\begin{align}\n",
    "\\frac{1}{\\Delta t} \\left( X_k^{n+1} - X_k^n \\right)\n",
    "&= - X_{k-1}^n \\left( X_{k-2}^n - X_{k+1}^n \\right) - X_k^n + F - P\\left( X_k^n \\right)\n",
    "\\end{align}\n",
    "where $n$ is the discrete time level (time $t=n\\Delta t$) and we're using an Euler-forward integration method for simplicity and to ensure we have an imperfect model."
   ]
  },
  {
   "cell_type": "code",
   "execution_count": null,
   "metadata": {},
   "outputs": [],
   "source": [
    "# X0 - initial conditions, dt - time increment, nt - number of forward steps to take\n",
    "# param - parameters in our parameterization\n",
    "def GCM(X0, F, dt, nt, param=[0]):\n",
    "    time, hist, X = (\n",
    "        dt * np.arange(nt + 1),\n",
    "        np.zeros((nt + 1, len(X0))) * np.nan,\n",
    "        X0.copy(),\n",
    "    )\n",
    "    hist[0] = X\n",
    "\n",
    "    for n in range(nt):\n",
    "        X = X + dt * (L96_eq1_xdot(X, F) - np.polyval(param, X))\n",
    "\n",
    "        hist[n + 1], time[n + 1] = X, dt * (n + 1)\n",
    "    return hist, time"
   ]
  },
  {
   "cell_type": "code",
   "execution_count": null,
   "metadata": {},
   "outputs": [],
   "source": [
    "F, dt, T = 18, 0.01, 10.0\n",
    "X, t = GCM(W.X, F, dt, int(T / dt), param=[0.85439536, 0.75218026])"
   ]
  },
  {
   "cell_type": "code",
   "execution_count": null,
   "metadata": {},
   "outputs": [],
   "source": [
    "plt.plot(t, X)\n",
    "plt.title(\"GCM model\")\n",
    "plt.ylabel(\"$X_k(t)$\")\n",
    "plt.xlabel(\"t\");"
   ]
  },
  {
   "cell_type": "code",
   "execution_count": null,
   "metadata": {},
   "outputs": [],
   "source": [
    "# This samples the real world with the same time interval as \"dt\" used by the model\n",
    "Xtrue, _, _ = W.run(dt, T)\n",
    "\n",
    "plt.plot(t, Xtrue[:, 4], label=\"Truth\")\n",
    "plt.plot(t, X[:, 4], label=\"Model\")\n",
    "plt.ylabel(\"$X_4(t)$\")\n",
    "plt.xlabel(\"t\")\n",
    "plt.legend();"
   ]
  }
 ],
 "metadata": {
  "kernelspec": {
   "display_name": "Python 3",
   "language": "python",
   "name": "python3"
  },
  "language_info": {
   "codemirror_mode": {
    "name": "ipython",
    "version": 3
   },
   "file_extension": ".py",
   "mimetype": "text/x-python",
   "name": "python",
   "nbconvert_exporter": "python",
   "pygments_lexer": "ipython3",
   "version": "3.7.6"
  }
 },
 "nbformat": 4,
 "nbformat_minor": 4
}
