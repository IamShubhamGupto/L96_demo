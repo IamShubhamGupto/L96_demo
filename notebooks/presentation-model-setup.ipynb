{
 "cells": [
  {
   "cell_type": "code",
   "execution_count": null,
   "metadata": {
    "slideshow": {
     "slide_type": "skip"
    }
   },
   "outputs": [],
   "source": [
    "# This notebook is best viewed in slide mode with certain nbextensions enabled: \"RISE\", hide input\", \"splitcells\".\n",
    "# It will look different \"odd\" without these extensions."
   ]
  },
  {
   "cell_type": "markdown",
   "metadata": {
    "slideshow": {
     "slide_type": "slide"
    }
   },
   "source": [
    "# L96 analogs for this project\n",
    "\n",
    "## Analog for the real world\n",
    "\n",
    "Lorenz, 1996, two time-scale equations, with accurate time-stepping (RK4 with sufficiently small $\\Delta t$):\n",
    "\\begin{align}\n",
    "\\frac{d}{dt} X_k\n",
    "&= - X_{k-1} \\left( X_{k-2} - X_{k+1} \\right) - X_k + F - \\left( \\frac{hc}{b} \\right) \\sum_{j=0}^{J-1} Y_{j,k}\n",
    "\\\\\n",
    "\\frac{d}{dt} Y_{j,k}\n",
    "&= - cbY_{j+1,k} \\left( Y_{j+2,k} - X_{j-1,k} \\right) - c Y_{j,k} + \\frac{hc}{b} X_k\n",
    "\\end{align}\n",
    "\n",
    "We should agree and fix $F$, $J$ and $K$ for this purpose.\n",
    "\n",
    "# Analog for  GCM\n",
    "\n",
    "Lorenz, 1996, one time-scale equation, with inaccurate time-stepping (Euler-forward with only-just stable $\\Delta t$) and an unknown parameterization of \"unresolved processes), $P(X_k)$:\n",
    "\\begin{align}\n",
    "\\frac{d}{dt} X_k\n",
    "&= - X_{k-1} \\left( X_{k-2} - X_{k+1} \\right) - X_k + F - P\\left( X_k \\right)\n",
    "\\end{align}\n",
    "\n",
    "Wilks, 2005, used $P(X_k)=b_0 + b_1 X_k + b_2 X_k^2 + b_3 X_k^3 + b_4 X_k^4 + e_k$ where $e_k$ is a stochastic component.\n",
    "Arnold et al., 2013, used $P(X_k)=b_0 + b_1 X_k + b_2 X_k^2 + b_3 X_k^3 + e_k$."
   ]
  },
  {
   "cell_type": "markdown",
   "metadata": {
    "cell_style": "split",
    "hide_input": true,
    "slideshow": {
     "slide_type": "subslide"
    }
   },
   "source": [
    "# The real world\n",
    "\n",
    "Wilks, 2005 used\n",
    "- $F=18$ or $20$\n",
    "- $K=8$\n",
    "- $J=32$\n",
    "\n",
    "Traditional to use\n",
    "- $h=1$\n",
    "- $b=10$\n",
    "- $c=10$"
   ]
  },
  {
   "cell_type": "code",
   "execution_count": null,
   "metadata": {
    "cell_style": "split",
    "slideshow": {
     "slide_type": "-"
    }
   },
   "outputs": [],
   "source": [
    "import matplotlib.pyplot as plt\n",
    "import numpy as np\n",
    "from L96_model import L96\n",
    "\n",
    "np.random.seed(23)\n",
    "W = L96(8, 32)\n",
    "\n",
    "%time X,Y,t = W.run(0.01, 20.)\n",
    "\n",
    "plt.figure(dpi=150)\n",
    "plt.contourf(W.k, t, X)\n",
    "plt.xlabel(\"k\")\n",
    "plt.ylabel(\"t\")\n",
    "plt.title(\"$X_k(t)$\");"
   ]
  },
  {
   "cell_type": "code",
   "execution_count": null,
   "metadata": {
    "cell_style": "split",
    "slideshow": {
     "slide_type": "subslide"
    }
   },
   "outputs": [],
   "source": [
    "plt.figure(dpi=150)\n",
    "plt.contourf(W.j / W.J, t, Y, levels=np.linspace(-1, 1, 10))\n",
    "plt.xlabel(\"k+j/J\")\n",
    "plt.ylabel(\"t\")\n",
    "plt.title(\"$Y_{j,k}(t)$\")\n",
    "yl = plt.ylim(7, 9);"
   ]
  },
  {
   "cell_type": "code",
   "execution_count": null,
   "metadata": {
    "cell_style": "split",
    "slideshow": {
     "slide_type": "-"
    }
   },
   "outputs": [],
   "source": [
    "plt.figure(dpi=150)\n",
    "plt.contourf(W.k, t, X)\n",
    "plt.xlabel(\"k\")\n",
    "plt.ylabel(\"t\")\n",
    "plt.title(\"$X_k(t)$\")\n",
    "plt.ylim(yl);"
   ]
  },
  {
   "cell_type": "markdown",
   "metadata": {
    "cell_style": "split",
    "slideshow": {
     "slide_type": "slide"
    }
   },
   "source": [
    "# The parametization $P(X_k)$\n",
    "\n",
    "With the \"real world\" in hand, we can \"observe\" the sub-grid forcing on the large scale.\n",
    "\n",
    "\\begin{align}\n",
    "\\frac{d}{dt} X_k\n",
    "&= - X_{k-1} \\left( X_{k-2} - X_{k+1} \\right) - X_k + F - \\underbrace{ \n",
    "\\left( \\frac{hc}{b} \\right) \\sum_{j=0}^{J-1} Y_{j,k}\n",
    "}_{=U_k}\n",
    "\\end{align}\n",
    "\n",
    "Need to model actual coupling, $U_k$, with function $P(X_k)$.\n",
    "\n",
    "Note the sign of the slope of $P(X_k)$ determines sign of the feedback."
   ]
  },
  {
   "cell_type": "code",
   "execution_count": null,
   "metadata": {
    "cell_style": "split",
    "slideshow": {
     "slide_type": "-"
    }
   },
   "outputs": [],
   "source": [
    "%time X, Y, t = W.run(0.05, 200.)"
   ]
  },
  {
   "cell_type": "code",
   "execution_count": null,
   "metadata": {
    "cell_style": "split",
    "slideshow": {
     "slide_type": "-"
    }
   },
   "outputs": [],
   "source": [
    "Xsamp = X\n",
    "Usamp = (W.h * W.c / W.b) * Y.reshape((Y.shape[0], W.K, W.J)).sum(axis=-1)\n",
    "p = np.polyfit(Xsamp.flatten(), Usamp.flatten(), 1)\n",
    "print(\"Poly coeffs:\", p)"
   ]
  },
  {
   "cell_type": "code",
   "execution_count": null,
   "metadata": {
    "cell_style": "split",
    "hide_input": true,
    "slideshow": {
     "slide_type": "-"
    }
   },
   "outputs": [],
   "source": [
    "plt.figure(dpi=150)\n",
    "plt.plot(Xsamp[::50, :], Usamp[::50, :], \".\")\n",
    "plt.xlabel(\"$X_k$\")\n",
    "plt.ylabel(r\"$\\frac{hc}{b}\\sum_j Y_{j,k}$\")\n",
    "x = np.linspace(-12, 18)\n",
    "p18 = [0.000707, -0.0130, -0.0190, 1.59, 0.275]  # Polynomial from Wilks, 2005\n",
    "plt.plot(x, np.polyval(p18, x), label=\"$P_4(X_k)$ - Wilks, 2005\")\n",
    "plt.plot(x, np.polyval(p, x), \"--\", label=\"$P_1(X_k)$\")\n",
    "plt.legend();"
   ]
  },
  {
   "cell_type": "code",
   "execution_count": null,
   "metadata": {
    "cell_style": "split",
    "hide_input": false,
    "slideshow": {
     "slide_type": "skip"
    }
   },
   "outputs": [],
   "source": [
    "plt.figure(dpi=150)\n",
    "plt.hist2d(Xsamp.flatten(), Usamp.flatten(), bins=50)\n",
    "plt.xlabel(\"$X_k$\")\n",
    "plt.ylabel(r\"$\\frac{hc}{b}\\sum_j Y_{j,k}$\")\n",
    "x = np.linspace(-12, 18, 100)\n",
    "p18 = [0.000707, -0.0130, -0.0190, 1.59, 0.275]  # Polynomial from Wilks, 2005\n",
    "plt.plot(x, np.polyval(p18, x), label=\"$P_4(X_k)$ - Wilks, 2005\")\n",
    "plt.plot(x, np.polyval(p, x), \"--\", label=\"$P_1(X_k)$\")\n",
    "plt.plot(\n",
    "    x,\n",
    "    np.minimum(1.5, x - 0.5) + 2.2 * np.sqrt(np.maximum(0, x - 1.5)),\n",
    "    label=\"Ineptias theory\",\n",
    ")\n",
    "plt.legend();"
   ]
  },
  {
   "cell_type": "markdown",
   "metadata": {
    "cell_style": "split",
    "slideshow": {
     "slide_type": "slide"
    }
   },
   "source": [
    "# The model \"GCM\"\n",
    "\n",
    "\\begin{align}\n",
    "\\frac{d}{dt} X_k\n",
    "&= \\underbrace{- X_{k-1} \\left( X_{k-2} - X_{k+1} \\right) - X_k + F}_{\\dot{X}\\text{ from eq. (1) of Lorenz '96}} - P(X_k)\n",
    "\\end{align}"
   ]
  },
  {
   "cell_type": "code",
   "execution_count": null,
   "metadata": {
    "cell_style": "split",
    "slideshow": {
     "slide_type": "-"
    }
   },
   "outputs": [],
   "source": [
    "from L96_model import L96_eq1_xdot\n",
    "\n",
    "\n",
    "def GCM(X0, F, dt, nt, param=[0]):\n",
    "    time, hist, X = dt * np.arange(nt), np.zeros((nt, len(X0))) * np.nan, X0.copy()\n",
    "\n",
    "    for n in range(nt):\n",
    "        X = X + dt * (L96_eq1_xdot(X, F) - np.polyval(param, X))\n",
    "        if np.abs(X).max() > 1e3:\n",
    "            break\n",
    "        hist[n], time[n] = X, dt * (n + 1)\n",
    "    return hist, time\n",
    "\n",
    "\n",
    "np.random.seed(13)\n",
    "T = 5\n",
    "Xtrue, Ytrue, Ttrue = W.randomize_IC().run(0.05, T)\n",
    "Xinit, dt, Fmod = Xtrue[0] + 0.0 * np.random.randn(W.K), 0.002, W.F + 0.0\n",
    "Xgcm1, Tgcm1 = GCM(Xinit, Fmod, dt, int(T / dt))\n",
    "Xgcm2, Tgcm2 = GCM(Xinit, Fmod, dt, int(T / dt), param=p)\n",
    "Xgcm3, Tgcm3 = GCM(Xinit, Fmod, dt, int(T / dt), param=p18)"
   ]
  },
  {
   "cell_type": "code",
   "execution_count": null,
   "metadata": {
    "hide_input": true,
    "slideshow": {
     "slide_type": "-"
    }
   },
   "outputs": [],
   "source": [
    "plt.figure(dpi=150, figsize=(17, 4))\n",
    "lims = {\"vmin\": -12, \"vmax\": 12, \"levels\": np.linspace(-12, 12, 12)}\n",
    "plt.subplot(141)\n",
    "plt.contourf(W.k, Ttrue + t[-1], Xtrue, **lims)\n",
    "plt.title(\"Real world\")\n",
    "plt.subplot(142)\n",
    "plt.contourf(W.k, Tgcm1 + t[-1], Xgcm1, **lims)\n",
    "plt.title(\"GCM w/o parameterization\")\n",
    "plt.subplot(143)\n",
    "plt.contourf(W.k, Tgcm3 + t[-1], Xgcm2, **lims)\n",
    "plt.title(\"GCM with our parameterization\")\n",
    "plt.subplot(144)\n",
    "plt.contourf(W.k, Tgcm2 + t[-1], Xgcm3, **lims)\n",
    "plt.title(\"GCM with Wilks' parameterization\");"
   ]
  },
  {
   "cell_type": "code",
   "execution_count": null,
   "metadata": {
    "hide_input": true,
    "slideshow": {
     "slide_type": "subslide"
    }
   },
   "outputs": [],
   "source": [
    "k = 3\n",
    "plt.figure(dpi=150, figsize=(16, 3.5))\n",
    "plt.plot(Ttrue + t[-1], Xtrue[:, k], \"--\", label=\"Real world\")\n",
    "plt.plot(Tgcm1 + t[-1], Xgcm1[:, k], \":\", label=\"GCM w/o param.\")\n",
    "plt.plot(Tgcm1 + t[-1], Xgcm2[:, k], label=\"GCM w. our param.\")\n",
    "plt.plot(Tgcm1 + t[-1], Xgcm3[:, k], label=\"GCM w. Wilks param.\")\n",
    "plt.legend()\n",
    "plt.ylim(-10, 15);"
   ]
  },
  {
   "cell_type": "markdown",
   "metadata": {
    "cell_style": "split",
    "slideshow": {
     "slide_type": "subslide"
    }
   },
   "source": [
    "# Model error\n",
    "\n",
    "- Missing physics, or poorly parameterized unresolved physics\n",
    "  - $P_4 \\rightarrow P_1$\n",
    "- Unknown forcing\n",
    "  - $F \\rightarrow F + error$\n",
    "- Numerical errors\n",
    "  - $\\Delta t \\rightarrow 10 \\Delta t$\n",
    "- Initialization error\n",
    "  - $X(t=0) \\rightarrow X(t=0) + error$"
   ]
  },
  {
   "cell_type": "code",
   "execution_count": null,
   "metadata": {
    "cell_style": "split",
    "hide_input": false,
    "slideshow": {
     "slide_type": "-"
    }
   },
   "outputs": [],
   "source": [
    "def err(X, Xtrue):\n",
    "    return np.sqrt(((X - Xtrue[1:, :]) ** 2).mean(axis=1))\n",
    "\n",
    "\n",
    "np.random.seed(13)\n",
    "T, dt = 2, 0.001\n",
    "Xtr, _, _ = W.randomize_IC().set_param(0.0001).run(dt, T)\n",
    "Xgcm, Tc = GCM(W.X, W.F, dt, int(T / dt), param=p18)\n",
    "Xfrc, Tc = GCM(W.X, W.F + 1.0, dt, int(T / dt), param=p18)\n",
    "Xic, Tc = GCM(W.X + 0.5, W.F, dt, int(T / dt), param=p18)\n",
    "Xdt, Tdt = GCM(W.X, W.F, 10 * dt, int(T / dt / 10), param=p18)\n",
    "Xphys, _ = GCM(W.X, W.F, dt, int(T / dt))\n",
    "Xprm, _ = GCM(W.X, W.F, dt, int(T / dt), param=p)\n",
    "\n",
    "plt.figure(dpi=150)\n",
    "plt.plot(Tc, err(Xgcm, Xtr), label=\"GCM\")\n",
    "plt.plot(Tc, err(Xfrc, Xtr), label=\"Forcing\")\n",
    "plt.plot(Tc, err(Xic, Xtr), label=\"Initialization\")\n",
    "plt.plot(Tdt, err(Xdt, Xtr[::10]), label=\"Numerical\")\n",
    "plt.plot(Tc, err(Xphys, Xtr), label=\"Missing physics\")\n",
    "plt.plot(Tc, err(Xprm, Xtr), label=\"Parameterization\")\n",
    "plt.legend();"
   ]
  },
  {
   "cell_type": "code",
   "execution_count": null,
   "metadata": {
    "cell_style": "split",
    "slideshow": {
     "slide_type": "subslide"
    }
   },
   "outputs": [],
   "source": [
    "# Build a 100-\"day\" climatology\n",
    "\n",
    "T, dt = 100.0, 0.001\n",
    "%time Xclim,Yclim,Tclim = W.run(0.1, T)\n",
    "%time X1,t1 = GCM(Xinit, Fmod, dt, int(T/dt), param=p)\n",
    "%time X2,t2 = GCM(Xinit, Fmod, dt, int(T/dt), param=p18)"
   ]
  },
  {
   "cell_type": "code",
   "execution_count": null,
   "metadata": {
    "cell_style": "split",
    "hide_input": false,
    "slideshow": {
     "slide_type": "-"
    }
   },
   "outputs": [],
   "source": [
    "plt.figure(dpi=150)\n",
    "plt.plot(t1, X1.mean(axis=1), label=\"Model w. lin. param., %.2f\" % (X1.mean()))\n",
    "plt.plot(Tclim, Xclim.mean(axis=1), label=\"Real world, %.2f\" % (Xtrue.mean()))\n",
    "plt.plot(t2, X2.mean(axis=1), label=\"Model w. Wilks, %.2f\" % (X2.mean()))\n",
    "plt.legend()\n",
    "print(\"\\n\\n       Truth      P1   Wilks\")\n",
    "print(\"mean:  %.3f   %.3f   %.3f\" % (Xtrue.mean(), X1.mean(), X2.mean()))\n",
    "print(\"std:   %.3f   %.3f   %.3f\" % (Xtrue.std(), X1.std(), X2.std()))"
   ]
  },
  {
   "cell_type": "code",
   "execution_count": null,
   "metadata": {
    "cell_style": "split",
    "slideshow": {
     "slide_type": "skip"
    }
   },
   "outputs": [],
   "source": [
    "def GCMs(X0, F, dt, nt, param=[0], stoch=1.0, phi=0.984):\n",
    "    time, hist, X = dt * np.arange(nt), np.zeros((nt, len(X0))) * np.nan, X0.copy()\n",
    "    ek = np.zeros(X.size)\n",
    "\n",
    "    for n in range(nt):\n",
    "        # Red noise\n",
    "        ek = phi * ek + stoch * np.sqrt((1 - phi) * (1 + phi)) * np.random.randn(X.size)\n",
    "        X = X + dt * (L96_eq1_xdot(X, F) - np.polyval(param, X) + stoch * ek)\n",
    "        if np.abs(X).max() > 1e3:\n",
    "            break\n",
    "        hist[n], time[n] = X, dt * (n + 1)\n",
    "    return hist, time\n",
    "\n",
    "\n",
    "np.random.seed(31)\n",
    "%time X3,t3 = GCMs(Xinit, Fmod, dt, int(T/dt), param=p18)\n",
    "\n",
    "print(\"\\n\\n       Truth      P1      P4  P4+stoch\")\n",
    "print(\n",
    "    \"mean:  %.3f   %.3f   %.3f   %.3f\" % (Xtrue.mean(), X1.mean(), X2.mean(), X3.mean())\n",
    ")\n",
    "print(\"std:   %.3f   %.3f   %.3f   %.3f\" % (Xtrue.std(), X1.std(), X2.std(), X3.std()))"
   ]
  },
  {
   "cell_type": "code",
   "execution_count": null,
   "metadata": {
    "cell_style": "split",
    "hide_input": false,
    "slideshow": {
     "slide_type": "skip"
    }
   },
   "outputs": [],
   "source": [
    "plt.figure(dpi=150)\n",
    "plt.plot(Ttrue, Xtrue.mean(axis=1), label=\"Real world, %.2f\" % (Xtrue.mean()))\n",
    "plt.plot(t1, X1.mean(axis=1), label=\"Model w. lin. param., %.2f\" % (X1.mean()))\n",
    "plt.plot(t2, X2.mean(axis=1), label=\"Model w. Wilks, %.2f\" % (X2.mean()))\n",
    "plt.plot(t3, X3.mean(axis=1), label=\"Model w. Wilks + stoch, %.2f\" % (X3.mean()))\n",
    "plt.legend();"
   ]
  },
  {
   "cell_type": "markdown",
   "metadata": {
    "slideshow": {
     "slide_type": "slide"
    }
   },
   "source": [
    "# Summary\n",
    "\n",
    "- Used L96 two time-scale model to generate a real world, or \"truth\", dataset\n",
    "- Build a \"GCM\" with a rudimentary parameterization of coupling to unresolved processes ($\\frac{hc}{b}\\sum_{j=0}^{J-1} Y_{j,k}$)\n",
    "  - Deliberately using low-order integration and longer time-step for non-trivial numerical model errors\n",
    "\n",
    "\n",
    "### Software questions\n",
    "\n",
    "- `numba` package needed for efficiency but can be temperamental\n",
    "- Should we make this L96 model package? Would that make it easier/harder to build subsequent exercises?\n",
    "- We could store data to files to exercise packages such as `xarray` - in practice we will do most training via file...\n"
   ]
  }
 ],
 "metadata": {
  "celltoolbar": "Slideshow",
  "kernelspec": {
   "display_name": "Python 3",
   "language": "python",
   "name": "python3"
  },
  "language_info": {
   "codemirror_mode": {
    "name": "ipython",
    "version": 3
   },
   "file_extension": ".py",
   "mimetype": "text/x-python",
   "name": "python",
   "nbconvert_exporter": "python",
   "pygments_lexer": "ipython3",
   "version": "3.8.2"
  },
  "rise": {
   "enable_chalkboard": true,
   "theme": "sky"
  }
 },
 "nbformat": 4,
 "nbformat_minor": 4
}
