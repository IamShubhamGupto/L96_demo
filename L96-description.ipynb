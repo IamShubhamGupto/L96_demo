{
 "cells": [
  {
   "cell_type": "code",
   "execution_count": 1,
   "metadata": {},
   "outputs": [],
   "source": [
    "import inspect\n",
    "import matplotlib.pyplot as plt\n",
    "import numpy as np"
   ]
  },
  {
   "cell_type": "markdown",
   "metadata": {},
   "source": [
    "Equation 1 from [Lorenz (1996)](https://www.ecmwf.int/en/elibrary/10829-predictability-problem-partly-solved) is:\n",
    "\\begin{align}\n",
    "\\frac{d}{dt} X_j &= - X_{j-2} X_{j-1} + X{j-1} X_{j+1} - X_j + F\n",
    "\\end{align}\n",
    "where $F$ is a constant independent of $j=1,2,\\ldots,J$.\n",
    "\n",
    "The following function returns the rate of change $\\frac{d}{dt} X_j$."
   ]
  },
  {
   "cell_type": "code",
   "execution_count": 2,
   "metadata": {},
   "outputs": [
    {
     "name": "stdout",
     "output_type": "stream",
     "text": [
      "def Lorenz_96(X,t,F):\n",
      "    \"\"\"\n",
      "    Calculate the time rate of change for the X variables for the Lorenz '96.\n",
      "    Args:\n",
      "        X : Values of X variables at the current time step\n",
      "        F : Forcing term\n",
      "        t : Time\n",
      "    Returns:\n",
      "        dXdt : Array of X time tendencies\n",
      "    \"\"\"\n",
      "\n",
      "    J = len(X)\n",
      "    s = np.zeros(J)\n",
      "    \n",
      "    for j in range(J):\n",
      "        s[j] = (X[(j+1)%J]-X[j-2])*X[j-1]-X[j]\n",
      "    dXdt = s.T + F\n",
      "    return dXdt\n",
      "\n"
     ]
    }
   ],
   "source": [
    "from L96_model import Lorenz_96\n",
    "print( inspect.getsource(Lorenz_96) )"
   ]
  }
 ],
 "metadata": {
  "kernelspec": {
   "display_name": "Python 3",
   "language": "python",
   "name": "python3"
  },
  "language_info": {
   "codemirror_mode": {
    "name": "ipython",
    "version": 3
   },
   "file_extension": ".py",
   "mimetype": "text/x-python",
   "name": "python",
   "nbconvert_exporter": "python",
   "pygments_lexer": "ipython3",
   "version": "3.8.2"
  }
 },
 "nbformat": 4,
 "nbformat_minor": 4
}
