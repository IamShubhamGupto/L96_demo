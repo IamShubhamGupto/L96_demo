{
 "cells": [
  {
   "cell_type": "code",
   "execution_count": 1,
   "metadata": {},
   "outputs": [
    {
     "data": {
      "text/plain": [
       "<torch._C.Generator at 0x7fe90881a1b0>"
      ]
     },
     "execution_count": 1,
     "metadata": {},
     "output_type": "execute_result"
    }
   ],
   "source": [
    "%matplotlib inline\n",
    "import numpy as np\n",
    "import matplotlib.pyplot as plt\n",
    "import math\n",
    "\n",
    "\n",
    "import torch\n",
    "from torch.autograd import Variable\n",
    "import torch.nn.functional as F\n",
    "import torch.utils.data as Data\n",
    "import torchvision\n",
    "from torch import nn, optim\n",
    "from torch_lr_finder import LRFinder\n",
    "import torch.nn.functional as F\n",
    "\n",
    "from sklearn.metrics import r2_score\n",
    "np.random.seed(14) # For reproducibility \n",
    "torch.manual_seed(14) # For reproducibility "
   ]
  },
  {
   "cell_type": "code",
   "execution_count": 2,
   "metadata": {},
   "outputs": [],
   "source": [
    "from L96_model_XYtend import L96, L96_eq1_xdot, integrate_L96_2t  # L96_model_XYtend Adds the option to ouptput the subgrid tendencies (effect of Y on X)\n",
    "from L96_model_XYtend import EulerFwd, RK2, RK4 "
   ]
  },
  {
   "cell_type": "code",
   "execution_count": 3,
   "metadata": {},
   "outputs": [],
   "source": [
    "time_steps = 20000\n",
    "Forcing, dt, T = 18, 0.01, 0.01*time_steps\n",
    "\n",
    "# Create a \"synthetic world\" with K=8 and J=32\n",
    "K = 8\n",
    "J = 32\n",
    "W = L96(K, J, F=Forcing)\n",
    "# Get training data for the neural network. \n",
    "\n",
    "#- Run the true state and output subgrid tendencies (the effect of Y on X is xytrue):\n",
    "Xtrue,_,_,xytrue = W.run(dt, T,store=True)\n"
   ]
  },
  {
   "cell_type": "code",
   "execution_count": 4,
   "metadata": {},
   "outputs": [
    {
     "data": {
      "text/plain": [
       "odict_keys(['linear1.weight', 'linear1.bias', 'linear2.weight', 'linear2.bias', 'linear3.weight', 'linear3.bias'])"
      ]
     },
     "execution_count": 4,
     "metadata": {},
     "output_type": "execute_result"
    }
   ],
   "source": [
    "# Specify a path\n",
    "PATH = \"../04Subgrid-parametrization-pytorch/networks/network_3_layers_100_epoches.pth\"\n",
    "# Load\n",
    "model = torch.load(PATH)\n",
    "model.keys()"
   ]
  },
  {
   "cell_type": "code",
   "execution_count": 5,
   "metadata": {},
   "outputs": [
    {
     "name": "stdout",
     "output_type": "stream",
     "text": [
      "linear1.weight\n",
      "linear1.bias\n",
      "linear2.weight\n",
      "linear2.bias\n",
      "linear3.weight\n",
      "linear3.bias\n"
     ]
    }
   ],
   "source": [
    "for name in model.keys():\n",
    "    print (name)\n"
   ]
  },
  {
   "cell_type": "code",
   "execution_count": 6,
   "metadata": {},
   "outputs": [],
   "source": [
    "epsilon = 1e-9#1e-9\n",
    "## get the weight and bias\n",
    "def get_weight(modelname):\n",
    "    Ws = []\n",
    "    Bs = []\n",
    "    for (i,name) in enumerate (model.keys()):\n",
    "        if i %2 ==0:\n",
    "            Ws.append(np.array(model[name]))\n",
    "        else: Bs.append(np.array(model[name]))\n",
    "    return Ws,Bs\n",
    "\n",
    "\n",
    "# forward pass to calculate the output of each layer\n",
    "def forward_pass(data,Ws,Bs):\n",
    "    L = len(Ws)                  \n",
    "    forward = [data]+[None]*L\n",
    "\n",
    "    for l in range(L-1):\n",
    "        forward[l+1] = np.maximum(0,Ws[l].dot(forward[l])) + Bs[l]\n",
    "\n",
    "    ## for last layer that does not have activation function\n",
    "    \n",
    "    forward[L] = Ws[L-1].dot(forward[L-1]) +Bs[L-1]\n",
    "    return forward\n",
    "\n",
    "def rho(w,l):  return w + [0.0,0.0,0.0,0.0,0.0][l] * np.maximum(0,w)\n",
    "def incr(z,l): return z + [0.0,0.0,0.0,0.0,0.0][l] * (z**2).mean()**.5+epsilon\n",
    "\n",
    "## backward pass to compute the LRP of each layer. Same rule applied to the fisrt layer (input layer)\n",
    "def onelayer_LRP(W,B,forward,nz,zz): \n",
    "    mask = np.zeros((nz))\n",
    "    mask[zz] = 1 \n",
    "    L = len(W)\n",
    "    R = [None]*L + [forward[L]*mask] \n",
    "\n",
    "    for l in range(0,L)[::-1]:\n",
    "        w = rho(W[l],l)\n",
    "        b = rho(B[l],l)\n",
    "        z = incr(w.dot(forward[l])+b,l)                  # step 1\n",
    "        s = np.array(R[l+1]) / np.array(z)               # step 2\n",
    "        c = w.T.dot(s)                                   # step 3\n",
    "        R[l] = forward[l]*c                              # step 4\n",
    "    \n",
    "    return R\n",
    "\n",
    "\n",
    "def LRP_alllayer(data, model):\n",
    "    \"\"\"inputs: \n",
    "            data: for single sample, with the right asix, the shape is (nz,naxis)\n",
    "            model: dictionary of weights and biases\n",
    "        output: \n",
    "            LRP, shape: (nx,L+1) that each of the column consist of L+1 array\n",
    "            Relevance of fisrt layer's pixels \"\"\"\n",
    "    nx = data.shape[0]\n",
    "    ## step 1: get the wieghts\n",
    "    Ws, Bs = get_weight(model)\n",
    "    \n",
    "    ## step 2: call the forward pass to get the intermediate layers output\n",
    "    inter_layer = forward_pass(data,Ws,Bs)\n",
    "    \n",
    "    \n",
    "    ## loop over all z and get the LRP of each layer\n",
    "    R_all = [None]*nx\n",
    "    relevance = np.zeros((nx,nx))\n",
    "    for xx in range(nx):\n",
    "        R_all[xx] = onelayer_LRP(Ws,Bs,inter_layer,nx,xx)\n",
    "        relevance[xx,:] = R_all[xx][0]\n",
    "    \n",
    "    return np.stack(R_all),relevance\n"
   ]
  },
  {
   "cell_type": "code",
   "execution_count": 7,
   "metadata": {},
   "outputs": [
    {
     "name": "stderr",
     "output_type": "stream",
     "text": [
      "/opt/anaconda3/envs/pytorch/lib/python3.8/site-packages/numpy/core/_asarray.py:171: VisibleDeprecationWarning: Creating an ndarray from ragged nested sequences (which is a list-or-tuple of lists-or-tuples-or ndarrays with different lengths or shapes) is deprecated. If you meant to do this, you must specify 'dtype=object' when creating the ndarray.\n",
      "  return array(a, dtype, copy=False, order=order, subok=True)\n"
     ]
    }
   ],
   "source": [
    "R_many = []\n",
    "for case in (range(200)):\n",
    "    inputs = np.copy(Xtrue[case,:])\n",
    "    \n",
    "    _,Rs  = LRP_alllayer(inputs,model)\n",
    "    R_many.append(Rs)"
   ]
  },
  {
   "cell_type": "code",
   "execution_count": 8,
   "metadata": {},
   "outputs": [
    {
     "name": "stdout",
     "output_type": "stream",
     "text": [
      "(8, 8)\n",
      "(200, 8, 8)\n"
     ]
    }
   ],
   "source": [
    "Rstack = np.stack(R_many)\n",
    "print(np.shape(Rs))\n",
    "print(np.shape(Rstack))"
   ]
  },
  {
   "cell_type": "code",
   "execution_count": 25,
   "metadata": {},
   "outputs": [
    {
     "data": {
      "image/png": "[encoded data removed]",
      "text/plain": [
       "<Figure size 432x288 with 2 Axes>"
      ]
     },
     "metadata": {
      "needs_background": "light"
     },
     "output_type": "display_data"
    }
   ],
   "source": [
    "fig, ax = plt.subplots(1,1)\n",
    "vect = np.arange(-5,5.1,0.5)\n",
    "pl = ax.contourf(np.arange(1,9),np.arange(1,9), np.mean(Rstack,0), vect , cmap=plt.get_cmap('seismic'))\n",
    "ax.set_ylabel('Output layer',fontsize = 12)\n",
    "ax.set_xlabel('Input Layer relevance',fontsize = 12)\n",
    "ax.tick_params(axis='both', labelsize=12 )\n",
    "\n",
    "fig.colorbar(pl)\n",
    "fig.savefig('LRP-L96.jpeg',bbox_inches = 'tight',dpi = 100)"
   ]
  },
  {
   "cell_type": "code",
   "execution_count": null,
   "metadata": {},
   "outputs": [],
   "source": []
  },
  {
   "cell_type": "code",
   "execution_count": null,
   "metadata": {},
   "outputs": [],
   "source": []
  },
  {
   "cell_type": "code",
   "execution_count": null,
   "metadata": {},
   "outputs": [],
   "source": []
  },
  {
   "cell_type": "code",
   "execution_count": null,
   "metadata": {},
   "outputs": [],
   "source": []
  },
  {
   "cell_type": "code",
   "execution_count": null,
   "metadata": {},
   "outputs": [],
   "source": []
  },
  {
   "cell_type": "code",
   "execution_count": null,
   "metadata": {},
   "outputs": [],
   "source": []
  },
  {
   "cell_type": "code",
   "execution_count": 9,
   "metadata": {},
   "outputs": [],
   "source": [
    "# now take gradient - nabla_x(y) - note data was not normalized in this example!"
   ]
  },
  {
   "cell_type": "code",
   "execution_count": 38,
   "metadata": {},
   "outputs": [],
   "source": [
    "#define network structure in pytorch \n",
    "import torch.nn.functional as FF\n",
    "\n",
    "class Net_ANN(nn.Module):\n",
    "    def __init__(self):\n",
    "        super(Net_ANN, self).__init__()\n",
    "        self.linear1 = nn.Linear(8, 16) # 8 inputs, 16 neurons for first hidden layer\n",
    "        self.linear2 = nn.Linear(16, 16) # 16 neurons for second hidden layer\n",
    "        self.linear3 = nn.Linear(16, 8)  # 8 outputs\n",
    "#         self.lin_drop = nn.Dropout(0.1) #regularization method to prevent overfitting. \n",
    "\n",
    "    def forward(self, x):\n",
    "        x = FF.relu(self.linear1(x))\n",
    "        x = FF.relu(self.linear2(x))\n",
    "        x = self.linear3(x)\n",
    "        return x"
   ]
  },
  {
   "cell_type": "code",
   "execution_count": 39,
   "metadata": {},
   "outputs": [
    {
     "data": {
      "text/plain": [
       "Net_ANN(\n",
       "  (linear1): Linear(in_features=8, out_features=16, bias=True)\n",
       "  (linear2): Linear(in_features=16, out_features=16, bias=True)\n",
       "  (linear3): Linear(in_features=16, out_features=8, bias=True)\n",
       ")"
      ]
     },
     "execution_count": 39,
     "metadata": {},
     "output_type": "execute_result"
    }
   ],
   "source": [
    "model = Net_ANN()\n",
    "model.load_state_dict(torch.load(PATH))\n",
    "model.eval()"
   ]
  },
  {
   "cell_type": "code",
   "execution_count": 43,
   "metadata": {},
   "outputs": [
    {
     "name": "stdout",
     "output_type": "stream",
     "text": [
      "[4.55719436 4.49180031 4.48200123 4.57005852 4.67042184 4.55764743\n",
      " 4.65432827 4.49010761]\n"
     ]
    }
   ],
   "source": [
    "epsilon = 1e-2\n",
    "R_many = []\n",
    "std_vec = np.std(Xtrue,axis=0)\n",
    "print(std_vec)\n",
    "for case in (range(200)):\n",
    "    inputs = np.copy(Xtrue[case,:])\n",
    "    # estimate dy/dx = (y(x+epsilon)-y(x))/epsilon\n",
    "    # TODO need to perturb every components\n",
    "    pred = model(torch.Tensor(inputs))\n",
    "    perturb = np.zeros(np.shape(inputs))\n",
    "    Rs = np.zeros((len(inputs),len(pred)))\n",
    "    for j in range(len(inputs)):\n",
    "        perturb[j] = epsilon\n",
    "        perturb = perturb#*std_vec # percent change\n",
    "        Rs[j,] = ( model(torch.Tensor(inputs+perturb))-model(torch.Tensor(inputs)) ).detach().numpy() /(np.sum(perturb))\n",
    "    R_many.append(Rs)"
   ]
  },
  {
   "cell_type": "code",
   "execution_count": 44,
   "metadata": {},
   "outputs": [
    {
     "name": "stdout",
     "output_type": "stream",
     "text": [
      "(8, 8)\n",
      "(200, 8, 8)\n",
      "(200, 8, 8)\n"
     ]
    }
   ],
   "source": [
    "Rstack = np.stack(R_many)\n",
    "print(np.shape(Rs))\n",
    "print(np.shape(Rstack))\n",
    "print(np.shape(R_many))"
   ]
  },
  {
   "cell_type": "code",
   "execution_count": 46,
   "metadata": {},
   "outputs": [
    {
     "data": {
      "image/png": "[encoded data removed]",
      "text/plain": [
       "<Figure size 432x288 with 2 Axes>"
      ]
     },
     "metadata": {
      "needs_background": "light"
     },
     "output_type": "display_data"
    }
   ],
   "source": [
    "fig, ax = plt.subplots(1,1)\n",
    "vect = np.arange(-2,2.1,0.25)\n",
    "pl = ax.contourf(np.arange(1,9),np.arange(1,9), np.mean(Rstack,0), vect , cmap=plt.get_cmap('seismic'))\n",
    "ax.set_ylabel('Output layer',fontsize = 12)\n",
    "ax.set_xlabel('Input Layer relevance',fontsize = 12)\n",
    "ax.tick_params(axis='both', labelsize=12 )\n",
    "\n",
    "fig.colorbar(pl)\n",
    "fig.savefig('LRP-L96-gradient.jpeg',bbox_inches = 'tight',dpi = 100)"
   ]
  },
  {
   "cell_type": "code",
   "execution_count": null,
   "metadata": {},
   "outputs": [],
   "source": []
  },
  {
   "cell_type": "code",
   "execution_count": null,
   "metadata": {},
   "outputs": [],
   "source": []
  }
 ],
 "metadata": {
  "kernelspec": {
   "display_name": "Python 3",
   "language": "python",
   "name": "python3"
  },
  "language_info": {
   "codemirror_mode": {
    "name": "ipython",
    "version": 3
   },
   "file_extension": ".py",
   "mimetype": "text/x-python",
   "name": "python",
   "nbconvert_exporter": "python",
   "pygments_lexer": "ipython3",
   "version": "3.8.10"
  }
 },
 "nbformat": 4,
 "nbformat_minor": 2
}
